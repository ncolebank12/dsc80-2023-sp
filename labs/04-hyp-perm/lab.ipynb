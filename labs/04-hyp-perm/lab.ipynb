{
 "cells": [
  {
   "cell_type": "code",
   "execution_count": 1,
   "metadata": {
    "deletable": false,
    "editable": false
   },
   "outputs": [],
   "source": [
    "# Initialize Otter\n",
    "import otter\n",
    "grader = otter.Notebook(\"lab.ipynb\")"
   ]
  },
  {
   "cell_type": "markdown",
   "metadata": {},
   "source": [
    "# Lab 4 – Hypothesis and Permutation Testing\n",
    "\n",
    "## DSC 80, Spring 2023\n",
    "\n",
    "### Due Date: Monday, May 1st at 11:59 PM"
   ]
  },
  {
   "cell_type": "markdown",
   "metadata": {},
   "source": [
    "## Instructions\n",
    "Welcome to the fourth lab assignment in DSC 80 this quarter!\n",
    "\n",
    "Much like in DSC 10, this Jupyter Notebook contains the statements of the problems and provides code and Markdown cells to display your answers to the problems. Unlike DSC 10, the notebook is *only* for displaying a readable version of your final answers. The coding will be done in an accompanying `lab.py` file that is imported into the current notebook, and **you will only submit that `lab.py` file**, not this notebook!\n",
    "\n",
    "Some additional guidelines:\n",
    "- **Unlike in DSC 10, labs will have both public tests and hidden tests.** The bulk of your grade will come from your scores on hidden tests, which you will only see on Gradescope after the assignment deadline.\n",
    "- **Do not change the function names in the `lab.py` file!** The functions in the `lab.py` file are how your assignment is graded, and they are graded by their name. If you changed something you weren't supposed to, you can find the original code in the [course GitHub repository](https://github.com/dsc-courses/dsc80-2023-wi).\n",
    "- Notebooks are nice for testing and experimenting with different implementations before designing your function in your `lab.py` file. You can write code here, but make sure that all of your real work is in the `lab.py` file, since that's all you're submitting.\n",
    "- **To ensure that all of your work to be submitted is in `lab.py`, we've provided an additional uneditable notebook, called `lab-validation.ipynb`, that contains only the tests and their setup. Make sure you are able to run it top-to-bottom without error before submitting!**\n",
    "- You are encouraged to write your own additional helper functions to solve the lab, as long as they also end up in `lab.py`.\n",
    "\n",
    "**Importing code from `lab.py`**:\n",
    "\n",
    "* Below, we import the `.py` file that's contained in the same directory as this notebook.\n",
    "* We use the `autoreload` notebook extension to make changes to our `lab.py` file immediately available in our notebook. Without this extension, we would need to restart the notebook kernel to see any changes to `lab.py` in the notebook.\n",
    "    - `autoreload` is necessary because, upon import, `lab.py` is compiled to bytecode (in the directory `__pycache__`). Subsequent imports of `lab` merely import the existing compiled python."
   ]
  },
  {
   "cell_type": "code",
   "execution_count": 2,
   "metadata": {},
   "outputs": [],
   "source": [
    "%load_ext autoreload\n",
    "%autoreload 2"
   ]
  },
  {
   "cell_type": "code",
   "execution_count": 3,
   "metadata": {},
   "outputs": [],
   "source": [
    "from lab import *"
   ]
  },
  {
   "cell_type": "code",
   "execution_count": 4,
   "metadata": {},
   "outputs": [],
   "source": [
    "import pandas as pd\n",
    "import numpy as np\n",
    "import io\n",
    "import os"
   ]
  },
  {
   "cell_type": "markdown",
   "metadata": {},
   "source": [
    "## Part 1: Time Series Data\n",
    "\n",
    "**Note: You should not use `for`-loops at all in this part!**\n",
    "\n",
    "Imagine that you own an online store and you'd like to monitor the visits to your site. You've collected information about different login dates and times for different users and stored it in `data/login_table.csv`. Some users are unique, while some visited your store multiple times.\n",
    "\n",
    "Answer the questions below to better understand the login patterns of your users."
   ]
  },
  {
   "cell_type": "markdown",
   "metadata": {},
   "source": [
    "### Question 1 – Prime Time ⏰\n",
    "\n",
    "Complete the implementation of the function `prime_time_logins`, which takes in a DataFrame like `login` and outputs a DataFrame indexed by `'Login Id'`, counting the number of prime-time logins for each user – that is, the number of logins that were between 4 PM(inclusive) and 8 PM (exclusive) for each user. The DataFrame should have just one column, named `'Time'`.\n",
    "\n",
    "For example, if a user logs in at 5 PM on Day 1, at 1 PM on Day 2, at 6 PM on Day 2, and at 7 PM on Day 2, then their total number of prime-time logins is 3. Note that the values in your returned DataFrame should only include counts, not timestamp objects.\n",
    "\n",
    "***Note:*** You do not need to use Python's `datetime` module – instead, use the built-in `pandas` methods for working with times that we introduced in [Lecture 6](https://dsc80.com/resources/lectures/lec06/lec06.html) (though you may need to do a bit more research to fully answer the question)."
   ]
  },
  {
   "cell_type": "code",
   "execution_count": null,
   "metadata": {},
   "outputs": [],
   "source": []
  },
  {
   "cell_type": "code",
   "execution_count": null,
   "metadata": {},
   "outputs": [],
   "source": []
  },
  {
   "cell_type": "code",
   "execution_count": 14,
   "metadata": {},
   "outputs": [
    {
     "data": {
      "text/html": [
       "<div>\n",
       "<style scoped>\n",
       "    .dataframe tbody tr th:only-of-type {\n",
       "        vertical-align: middle;\n",
       "    }\n",
       "\n",
       "    .dataframe tbody tr th {\n",
       "        vertical-align: top;\n",
       "    }\n",
       "\n",
       "    .dataframe thead th {\n",
       "        text-align: right;\n",
       "    }\n",
       "</style>\n",
       "<table border=\"1\" class=\"dataframe\">\n",
       "  <thead>\n",
       "    <tr style=\"text-align: right;\">\n",
       "      <th></th>\n",
       "      <th>Time</th>\n",
       "    </tr>\n",
       "    <tr>\n",
       "      <th>Login Id</th>\n",
       "      <th></th>\n",
       "    </tr>\n",
       "  </thead>\n",
       "  <tbody>\n",
       "    <tr>\n",
       "      <th>381</th>\n",
       "      <td>1</td>\n",
       "    </tr>\n",
       "    <tr>\n",
       "      <th>393</th>\n",
       "      <td>12</td>\n",
       "    </tr>\n",
       "    <tr>\n",
       "      <th>412</th>\n",
       "      <td>13</td>\n",
       "    </tr>\n",
       "    <tr>\n",
       "      <th>413</th>\n",
       "      <td>64</td>\n",
       "    </tr>\n",
       "    <tr>\n",
       "      <th>419</th>\n",
       "      <td>2</td>\n",
       "    </tr>\n",
       "    <tr>\n",
       "      <th>...</th>\n",
       "      <td>...</td>\n",
       "    </tr>\n",
       "    <tr>\n",
       "      <th>1302</th>\n",
       "      <td>2</td>\n",
       "    </tr>\n",
       "    <tr>\n",
       "      <th>1304</th>\n",
       "      <td>0</td>\n",
       "    </tr>\n",
       "    <tr>\n",
       "      <th>1305</th>\n",
       "      <td>1</td>\n",
       "    </tr>\n",
       "    <tr>\n",
       "      <th>1306</th>\n",
       "      <td>1</td>\n",
       "    </tr>\n",
       "    <tr>\n",
       "      <th>1307</th>\n",
       "      <td>0</td>\n",
       "    </tr>\n",
       "  </tbody>\n",
       "</table>\n",
       "<p>433 rows × 1 columns</p>\n",
       "</div>"
      ],
      "text/plain": [
       "          Time\n",
       "Login Id      \n",
       "381          1\n",
       "393         12\n",
       "412         13\n",
       "413         64\n",
       "419          2\n",
       "...        ...\n",
       "1302         2\n",
       "1304         0\n",
       "1305         1\n",
       "1306         1\n",
       "1307         0\n",
       "\n",
       "[433 rows x 1 columns]"
      ]
     },
     "execution_count": 14,
     "metadata": {},
     "output_type": "execute_result"
    }
   ],
   "source": [
    "# don't change this cell -- it is needed for the tests to work\n",
    "fp = os.path.join('data', 'login_table.csv')\n",
    "login = pd.read_csv(fp)\n",
    "q1_result = prime_time_logins(login)\n",
    "q1_result"
   ]
  },
  {
   "cell_type": "code",
   "execution_count": 15,
   "metadata": {
    "deletable": false,
    "editable": false
   },
   "outputs": [
    {
     "data": {
      "text/html": [
       "<p><strong><pre style='display: inline;'>q1</pre></strong> passed!</p>"
      ],
      "text/plain": [
       "q1 results: All test cases passed!"
      ]
     },
     "execution_count": 15,
     "metadata": {},
     "output_type": "execute_result"
    }
   ],
   "source": [
    "grader.check(\"q1\")"
   ]
  },
  {
   "cell_type": "markdown",
   "metadata": {},
   "source": [
    "### Question 2 – Return Users 🔁\n",
    "\n",
    "As a site owner, you would like to find your most enthusiastic users – the ones who return to your site most frequently. You've noticed that there are users who have several logins and users who logged in only once. You are interested in finding the number of logins *per day* for each user.\n",
    "\n",
    "Complete the implementation of the function `count_frequency`, which takes in a DataFrame like `login` and outputs a Series containing the number of logins per day for each user. Your Series should have `'Login Id'`s in its index, and the frequencies as its values. The order of users in the index is arbitrary.\n",
    "\n",
    "To do this, you can assume today is  January 31, 2023. The first login date of a user is the first day of their membership on the site, and you may assume they are still a member today. For simplicity, you only need to count full days that a user has been a member till the end of today. For example, if a user's first login was 12 days and 5 hours ago, you can say that they have been a user for 12 days. \n",
    "\n",
    "***Hint:*** Can you write a custom aggregator that allows you to do this with just one `.groupby`?"
   ]
  },
  {
   "cell_type": "code",
   "execution_count": null,
   "metadata": {},
   "outputs": [],
   "source": []
  },
  {
   "cell_type": "code",
   "execution_count": null,
   "metadata": {},
   "outputs": [],
   "source": []
  },
  {
   "cell_type": "code",
   "execution_count": null,
   "metadata": {
    "scrolled": true
   },
   "outputs": [],
   "source": [
    "# don't change this cell -- it is needed for the tests to work\n",
    "fp = os.path.join('data', 'login_table.csv')\n",
    "login = pd.read_csv(fp)\n",
    "q2_result = count_frequency(login)"
   ]
  },
  {
   "cell_type": "code",
   "execution_count": null,
   "metadata": {
    "deletable": false,
    "editable": false
   },
   "outputs": [],
   "source": [
    "grader.check(\"q2\")"
   ]
  },
  {
   "cell_type": "markdown",
   "metadata": {},
   "source": [
    "## Part 2: Relational Algebra\n",
    "\n",
    "Recall, in [Lecture 7](https://dsc80.com/resources/lectures/lec07/lec07.html#Relational-algebra), we briefly introduced the concept of relational algebra, which is a mathematical system for describing operations performed on relations. (For now, you can think of relations and DataFrames as being interchangeable – but don't tell your DSC 100 instructor.)\n",
    "\n",
    "In lecture, we introduced five relational operators, one of which was the _cross product_, $A \\times B$, which combines every combination of a row in $A$ with a row in $B$. At the time, the cross product didn't seem all that useful, but in this part we'll explore its utility more.\n",
    "\n",
    "Let's start by loading in two DataFrames: `customers` and `products`.\n",
    "- `customers` contains one row for each of several (very familiar sounding) customers at TritonBank.\n",
    "- `products` contains one row for each of several phones on sale at the UCSD Bookstore."
   ]
  },
  {
   "cell_type": "code",
   "execution_count": null,
   "metadata": {},
   "outputs": [],
   "source": [
    "customers_fp = os.path.join('data', 'customers.csv')\n",
    "customers = pd.read_csv(customers_fp)\n",
    "customers.head()"
   ]
  },
  {
   "cell_type": "code",
   "execution_count": null,
   "metadata": {},
   "outputs": [],
   "source": [
    "products_fp = os.path.join('data', 'products.csv')\n",
    "products = pd.read_csv(products_fp)\n",
    "products.head()"
   ]
  },
  {
   "cell_type": "markdown",
   "metadata": {},
   "source": [
    "### Question 3 – Most Expensivest 💰📱\n",
    "\n",
    "Complete the implementation of the function `most_expensive_per_customer`, which takes in two DataFrames: one like `customers` and one like `products`. It should return a new DataFrame that has **one row for every customer in `customers`** and the following columns:\n",
    "- `'Name'`.\n",
    "- `'Email'`.\n",
    "- `'Model'`, the name of the most expensive phone in `phones` that the customer can afford, given their bank account balance.\n",
    "- `'Price'`, the cost of the most expensive phone in `phones` that the customer can afford, given their bank account balance.\n",
    "\n",
    "The order of the rows in the output DataFrame does not matter. \n",
    "\n",
    "For example, the most expensive phone that Daniel can buy with his $837 is the iPhone 14, so `most_expensive_per_customer(customers, products)` should contain a row, somewhere, with the following information (though with a possibly different index):\n",
    "\n",
    "<table border=\"1\" class=\"dataframe\">\n",
    "  <tbody>\n",
    "    <tr>\n",
    "      <th>4</th>\n",
    "      <td>Li, Daniel</td>\n",
    "      <td>ddli@ucsd.edu</td>\n",
    "      <td>iPhone 14</td>\n",
    "      <td>799</td>\n",
    "    </tr>\n",
    "  </tbody>\n",
    "</table>\n",
    "\n",
    "\n",
    "We'll allow you to make the following simplifying assumptions:\n",
    "- Each customer can afford at least one phone.\n",
    "- Each phone has a unique price, i.e. there are no ties.\n",
    "- There are no null values in either input DataFrame.\n",
    "- There are no duplicate rows in either input DataFrame.\n",
    "\n",
    "***Hint***: In relational algebra, your first step is to execute the following expression:\n",
    "\n",
    "$$\\sigma_{\\text{customers.Balance } \\geq \\text{ products.Price}} \\: \\: (\\text{customers} \\times \\text{products})$$\n",
    "\n",
    "You may also want to look at [Lecture 5](https://dsc80.com/resources/lectures/lec05/lec05.html) for a hint.\n",
    "\n",
    "***Note***: Don't use a `for`-loop, and don't write a helper function and use the `apply` method. Instead, think about how to use the hint above directly. Also, remember that the hidden tests may test your implementation on DataFrames _like_ `customers` and `products`, in that they contain the same column names and the same types of information, but possibly different values."
   ]
  },
  {
   "cell_type": "code",
   "execution_count": null,
   "metadata": {
    "tags": []
   },
   "outputs": [],
   "source": []
  },
  {
   "cell_type": "code",
   "execution_count": null,
   "metadata": {
    "tags": []
   },
   "outputs": [],
   "source": []
  },
  {
   "cell_type": "code",
   "execution_count": null,
   "metadata": {
    "tags": []
   },
   "outputs": [],
   "source": [
    "# don't change this cell -- it is needed for the tests to work\n",
    "customers_fp = os.path.join('data', 'customers.csv')\n",
    "customers = pd.read_csv(customers_fp)\n",
    "products_fp = os.path.join('data', 'products.csv')\n",
    "products = pd.read_csv(products_fp)\n",
    "q3_out = most_expensive_per_customer(customers, products)\n",
    "q3_out"
   ]
  },
  {
   "cell_type": "code",
   "execution_count": null,
   "metadata": {
    "deletable": false,
    "editable": false
   },
   "outputs": [],
   "source": [
    "grader.check(\"q3\")"
   ]
  },
  {
   "cell_type": "markdown",
   "metadata": {},
   "source": [
    "## Part 3: Hypothesis Testing\n",
    "\n",
    "In this section, you'll recall the terms and structure of hypothesis testing from DSC 10.\n",
    "\n",
    "The first step is always to define what you're looking at, create your hypotheses, and set a level of significance (i.e. a p-value cutoff). Once you've done that, you can find a p-value.\n",
    "\n",
    "If all of these words are foreign, look at the [Lecture 9](https://dsc80.com/resources/lectures/lec09/lec09.html) notebook and the readings, and don't forget to think about the real-world meaning of these terms!  The following example describes a real-world scenario, which should help keep it easy to interpret.\n",
    "\n",
    "Note that you **can** use `for`-loops to conduct hypothesis and permutation tests in assignments."
   ]
  },
  {
   "cell_type": "markdown",
   "metadata": {},
   "source": [
    "### Question 4 – Surf's Up 🏄\n",
    "\n",
    "In San Diego, students are looking to surf in their free time. There is a pop-up surf store on Library Walk selling wet suits and surf board to students. Last Saturday, this store sold 250 wet suits to UCSD students. After a surf session, 10 students complained that their wet suits had tears in them, letting cold ocean water to rush in their suits. In response to the student dissatisfaction, the store claims that 98% of their wet suits are produced without any manufacturing defects. You think this seems unlikely and decide to investigate.\n",
    "\n",
    "First, select a significance level for your investigation. You don't need to turn this in anywhere. Then, complete the implementation of the following three functions.\n",
    "\n",
    "#### `null_hyp`\n",
    "\n",
    "Complete the implementation of the function `suits_null_hyp`, which has no parameters and returns your answer to the following question **as a list**.\n",
    "\n",
    "What are reasonable choices for the **null hypothesis** for your investigation? Select all that apply.\n",
    "1. The store sells wet suits that are approximately 2% defective.\n",
    "2. The store sells wet suits that are 98% non-defective.\n",
    "3. The store sells wet suits that are less than 98% non-defective.\n",
    "4. The store sells wet suits that are at least 2% defective.\n",
    "\n",
    "<br>\n",
    "\n",
    "#### `simulate_suits_null`\n",
    "\n",
    "Complete the implementation of the function `simulate_suits_null`, which simulates a single step of the data generation process under the null hypothesis. The function should return a binary array, i.e. an array of 0s and 1s, of length 250. It is up to you to decide what the 0s and 1s mean.\n",
    "\n",
    "***Hints:*** `np.random.choice` might be useful in this case.\n",
    "\n",
    "<br>\n",
    "\n",
    "#### `estimate_p_val`\n",
    "\n",
    "Complete the implementation of the function `estimate_suits_p_val`, which takes in an integer `N` and returns the estimated p-value of your investigation upon simulating the null hypothesis `N` times.\n",
    "\n",
    "***Note***: Plot the null distribution and your observed statistic to check your work. (If you decide to plot, you may have to run `import matplotlib.pyplot as plt` or `import plotly.express as px`.)"
   ]
  },
  {
   "cell_type": "code",
   "execution_count": 50,
   "metadata": {},
   "outputs": [],
   "source": [
    "import plotly.express as px"
   ]
  },
  {
   "cell_type": "code",
   "execution_count": null,
   "metadata": {},
   "outputs": [],
   "source": []
  },
  {
   "cell_type": "code",
   "execution_count": null,
   "metadata": {
    "deletable": false,
    "editable": false
   },
   "outputs": [],
   "source": [
    "grader.check(\"q4\")"
   ]
  },
  {
   "cell_type": "markdown",
   "metadata": {},
   "source": [
    "Now that we've gotten our feet wet with hypothesis testing, let's take a closer look at how to choose null and alternative hypotheses and test statistics."
   ]
  },
  {
   "cell_type": "markdown",
   "metadata": {},
   "source": [
    "### Question 5 – Tires 🚗\n",
    "\n",
    "A tire manufacturer, TritonTire, claims that their tires are so good, they will bring a Toyota Highlander from 60 mph to a complete stop in under 106 feet, 97% percent of the time.\n",
    "\n",
    "Now, you own a Toyota Highlander equipped with TritonTire tires, and you decide to test this claim. You take your car to an empty Vons parking lot, speed up to exactly 60 mph, hit the brakes, and measure the stopping distance. As illegal as it is, you repeat this process 50 times and find that **you stopped in under 106 feet only 47 of the 50 times**.\n",
    "\n",
    "Livid, you call TritonTire and say that their claim is false. They say, no, that you were just unlucky: your experiment is consistent with their claim. But they didn't realize that they are dealing with a *data scientist* 🧑‍🔬.\n",
    "\n",
    "To settle the matter, you decide to unleash the power of the hypothesis test. The following three subparts ask you to answer a total of four select-all multiple choice questions.\n",
    "\n",
    "#### Question 5.1\n",
    "\n",
    "You will set up a hypothesis test in order to test your suspicion that the tires are are actually worse than claimed. Which of the following are valid null and alternative hypotheses for this hypothesis test?\n",
    "\n",
    "1. The tires will stop your car in under 106 feet exactly 97% of the time.\n",
    "0. The tires will stop your car in under 106 feet less than 97% of the time.\n",
    "0. The tires will stop your car in under 106 feet greater than 97% of the time.\n",
    "0. The tires will stop your car in more than 106 feet exactly 3% of the time.\n",
    "0. The tires will stop your car in more than 106 feet less than 3% of the time.\n",
    "0. The tires will stop your car in more than 106 feet greater than 3% of the time.\n",
    "\n",
    "Complete the implementation of the function `car_null_hypoth`, which takes zero arguments and returns a list of integers, corresponding to the the valid null hypotheses above.\n",
    "Also complete the implementation of the function called `car_alt_hypoth`, which takes zero arguments and returns a list of integers, corresponding to the valid alternative hypotheses above.\n",
    "\n",
    "<br>\n",
    "\n",
    "#### Question 5.2\n",
    "\n",
    "Which of the following are valid test statistics for our question?\n",
    "\n",
    "1. The number of times the car stopped in under 106 feet in 50 attempts.\n",
    "1. The average number of feet the car took to come to a complete stop in 50 attempts.\n",
    "1. The number of attempts it took before the car stopped in under 95 feet.\n",
    "1. The proportion of attempts in which the car stopped in under 106 feet in 50 attempts.\n",
    "\n",
    "Complete the implementation of the function `car_test_stat`, which takes zero arguments and returns a list of integers, corresponding to the valid test statistics above\n",
    "\n",
    "<br>\n",
    "\n",
    "#### Question 5.3\n",
    "\n",
    "The p-value is the probability, under the assumption the null hypothesis is true, of observing a test statistic **equal to our observed statistic, or more extreme in the direction of the alternative hypothesis**.\n",
    "\n",
    "Why don't we just look at the probability of observing a test statistic equal to our observed statistic? That is, why is the \"more extreme in the direction of the alternative hypothesis\" part necessary?\n",
    "\n",
    "1. Because our observed test statistic isn't extreme.\n",
    "4. Because our null hypothesis isn't suggesting equality.\n",
    "5. Because our alternative hypothesis isn't suggesting equality.\n",
    "2. Because the probability of finding our observed test statistic equals the probability of finding something more extreme.\n",
    "3. Because if we run more and more trials (where a trial is speeding up the car then stopping), the probability of finding *any* particular observed test statistic gets closer and closer to zero, so if we did this we would always reject the null with more trials even if the null is true. For example, flipping a fair coin twice means it’s pretty likely to see 50% heads, but flipping it 10000 times means it’s quite unlikely to see 50% heads.\n",
    "\n",
    "Complete the implementation of the function `car_p_value`, which takes zero arguments and returns the correct reason as an integer (not a list)."
   ]
  },
  {
   "cell_type": "code",
   "execution_count": null,
   "metadata": {},
   "outputs": [],
   "source": []
  },
  {
   "cell_type": "code",
   "execution_count": null,
   "metadata": {},
   "outputs": [],
   "source": []
  },
  {
   "cell_type": "code",
   "execution_count": null,
   "metadata": {
    "deletable": false,
    "editable": false
   },
   "outputs": [],
   "source": [
    "grader.check(\"q5\")"
   ]
  },
  {
   "cell_type": "markdown",
   "metadata": {},
   "source": [
    "### Question 6 – Superheroes 🦸\n",
    "\n",
    "In the previous two questions, we ran hypothesis tests that didn't require us to look at stored data. In this next question, we'll return to the `heroes` DataFrame from Lab 2, which is read in from the file `data/superheroes.csv`.\n",
    "\n",
    "Our goal in this section will be to answer the question:\n",
    "\n",
    "> Are blond-haired, blue-eyed characters significantly **more** \"good\" than the general pool of characters?\n",
    "\n",
    "#### `bhbe_col`\n",
    "\n",
    "To start, complete the implementation of the function `bhbe_col`, which takes in a DataFrame like `heroes` and returns a Boolean Series that contains `True` for characters that have **both** blond hair and blue eyes, and `False` for all other characters. \n",
    "\n",
    "***Note***: If a character's hair color contains the word `'blond'`, uppercase or lowercase, we consider their hair to be blond for the purposes of this question. Similarly, if a character's eye color contains the word `'blue'`, uppercase or lowercase, we consider their eye color to be blue for the purposes of this question.\n",
    "\n",
    "<br>\n",
    "\n",
    "Now that you have an easy way of accessing only the blond-haired, blue-eyed characters in `heroes`, you can proceed with a hypothesis test. You choose the following null hypothesis:\n",
    "\n",
    "> The proportion of \"good\" characters among blond-haired, blue-eyed characters is equal to the proportion of \"good\" characters in the overall population.\"\n",
    "\n",
    "Fix a significance level (i.e. p-value cutoff) of 1%.\n",
    "\n",
    "Before proceeding, think about what test statistic to use in this hypothesis test (and to do that, read the initial question carefully). Once you've done that, complete the implementations of the following functions.\n",
    "\n",
    "***Hint:*** Alternative hypothesis: the distribution of \"good\" characters among blond-haired, blue-eyed characters is different from the proportion of \"good\" characters in the overall population.\n",
    "\n",
    "<br>\n",
    "\n",
    "#### `superheroes_observed_stat`\n",
    "Complete the implementation of the function `superheroes_observed_stat`, which takes in the DataFrame `heroes` and returns the observed test statistic.\n",
    "\n",
    "<br>\n",
    "\n",
    "#### `simulate_bhbe_null` \n",
    "Complete the implementation of the function `simulate_bhbe_null`, which takes in a positive integer `n` and returns an array of length `n`, where each element is a simulated test statistic according to the null hypothesis. You should hard-code the simulation parameter within your function; do not read in any data. (The simulation parameter is a proportion/probability; you can round it to two decimal places.)\n",
    "\n",
    "***Hint:*** While you're not prohibited from using a `for`-loop, try avoiding one here. You can access columns of a multidimensional array the same way you access columns of a DataFrame using `iloc`.\n",
    "\n",
    "<br>\n",
    "\n",
    "#### `superheroes_calc_pval` \n",
    "Complete the implementation of the function `superheroes_calc_pval`, which takes in no parameters and returns a list where:\n",
    "* The first element is the p-value for the hypothesis test (using 100,000 simulations). Please run the code yourself **in your notebook** and hard-code this answer **in your `.py` file**, as actually running the 100,000 simulation hypothesis test will timeout on Gradescope.\n",
    "* The second element is `'Reject'` if you reject the null hypothesis and `'Fail to reject'` if you fail to reject the null hypothesis, at the 1% significance level."
   ]
  },
  {
   "cell_type": "code",
   "execution_count": null,
   "metadata": {},
   "outputs": [],
   "source": []
  },
  {
   "cell_type": "code",
   "execution_count": 43,
   "metadata": {},
   "outputs": [
    {
     "data": {
      "text/plain": [
       "array([0.72, 0.69, 0.69, 0.74, 0.71, 0.61, 0.76, 0.65, 0.63, 0.67])"
      ]
     },
     "execution_count": 43,
     "metadata": {},
     "output_type": "execute_result"
    }
   ],
   "source": [
    "# don't change this cell -- it is needed for the tests to work\n",
    "superheroes_fp = os.path.join('data', 'superheroes.csv')\n",
    "heroes = pd.read_csv(superheroes_fp, index_col=0)\n",
    "bhbe_out = bhbe_col(heroes)\n",
    "\n",
    "obs_stat_out = superheroes_observed_stat(heroes)\n",
    "\n",
    "simulate_bhbe_out = simulate_bhbe_null(10)\n",
    "\n",
    "pval_out = superheroes_calc_pval()\n",
    "simulate_bhbe_out"
   ]
  },
  {
   "cell_type": "code",
   "execution_count": 44,
   "metadata": {},
   "outputs": [
    {
     "data": {
      "text/plain": [
       "13"
      ]
     },
     "execution_count": 44,
     "metadata": {},
     "output_type": "execute_result"
    }
   ],
   "source": [
    "sims = simulate_bhbe_null(100_000)\n",
    "p_value = (sims >= superheroes_observed_stat(heroes)).sum()\n",
    "p_value"
   ]
  },
  {
   "cell_type": "code",
   "execution_count": 45,
   "metadata": {
    "deletable": false,
    "editable": false
   },
   "outputs": [
    {
     "data": {
      "text/html": [
       "<p><strong><pre style='display: inline;'>q6</pre></strong> passed!</p>"
      ],
      "text/plain": [
       "q6 results: All test cases passed!"
      ]
     },
     "execution_count": 45,
     "metadata": {},
     "output_type": "execute_result"
    }
   ],
   "source": [
    "grader.check(\"q6\")"
   ]
  },
  {
   "cell_type": "markdown",
   "metadata": {},
   "source": [
    "## Part 4: Permutation Testing\n",
    "\n",
    "Recall, hypothesis tests answer questions of the form:\n",
    "\n",
    "> I have a population distribution, and I have one sample. Does this sample look like it was drawn from the population?\n",
    "\n",
    "While permutation tests answer questions of the form:\n",
    "\n",
    "> I have two samples, but no information about any population distributions. Do these samples look like they were drawn from the same population?\n",
    "\n",
    "Keep this in mind while working on this last part of the lab.\n",
    "\n",
    "<br>\n",
    "\n",
    "[Skittles](https://en.wikipedia.org/wiki/Skittles_(confectionery)) 🍬 are made in two locations in the United States: Yorkville, Illinois and Waco, Texas. In these factories, Skittles of different colors are made separately by different machines and combined/packaged into bags for sale. The **tab-separated file** `data/skittles.tsv` contains the contents of 468 bags of Skittles.\n",
    "\n",
    "Throughout this question, we will compare the color distribution of Skittles between bags made in the Yorkville factory and bags made in the Waco factory. Most people have preferences for their favorite flavor, and there is a surprising amount of variation among the distribution of flavors in each bag.\n",
    "\n",
    "Look at the variation by bag in the dataset below:"
   ]
  },
  {
   "cell_type": "code",
   "execution_count": 46,
   "metadata": {},
   "outputs": [
    {
     "data": {
      "text/html": [
       "<div>\n",
       "<style scoped>\n",
       "    .dataframe tbody tr th:only-of-type {\n",
       "        vertical-align: middle;\n",
       "    }\n",
       "\n",
       "    .dataframe tbody tr th {\n",
       "        vertical-align: top;\n",
       "    }\n",
       "\n",
       "    .dataframe thead th {\n",
       "        text-align: right;\n",
       "    }\n",
       "</style>\n",
       "<table border=\"1\" class=\"dataframe\">\n",
       "  <thead>\n",
       "    <tr style=\"text-align: right;\">\n",
       "      <th></th>\n",
       "      <th>red</th>\n",
       "      <th>orange</th>\n",
       "      <th>yellow</th>\n",
       "      <th>green</th>\n",
       "      <th>purple</th>\n",
       "      <th>Factory</th>\n",
       "    </tr>\n",
       "  </thead>\n",
       "  <tbody>\n",
       "    <tr>\n",
       "      <th>0</th>\n",
       "      <td>10</td>\n",
       "      <td>15</td>\n",
       "      <td>11</td>\n",
       "      <td>7</td>\n",
       "      <td>18</td>\n",
       "      <td>Yorkville</td>\n",
       "    </tr>\n",
       "    <tr>\n",
       "      <th>1</th>\n",
       "      <td>5</td>\n",
       "      <td>12</td>\n",
       "      <td>17</td>\n",
       "      <td>15</td>\n",
       "      <td>10</td>\n",
       "      <td>Yorkville</td>\n",
       "    </tr>\n",
       "    <tr>\n",
       "      <th>2</th>\n",
       "      <td>16</td>\n",
       "      <td>11</td>\n",
       "      <td>15</td>\n",
       "      <td>11</td>\n",
       "      <td>9</td>\n",
       "      <td>Waco</td>\n",
       "    </tr>\n",
       "    <tr>\n",
       "      <th>3</th>\n",
       "      <td>15</td>\n",
       "      <td>8</td>\n",
       "      <td>13</td>\n",
       "      <td>16</td>\n",
       "      <td>7</td>\n",
       "      <td>Waco</td>\n",
       "    </tr>\n",
       "    <tr>\n",
       "      <th>4</th>\n",
       "      <td>11</td>\n",
       "      <td>14</td>\n",
       "      <td>20</td>\n",
       "      <td>8</td>\n",
       "      <td>7</td>\n",
       "      <td>Waco</td>\n",
       "    </tr>\n",
       "  </tbody>\n",
       "</table>\n",
       "</div>"
      ],
      "text/plain": [
       "   red  orange  yellow  green  purple    Factory\n",
       "0   10      15      11      7      18  Yorkville\n",
       "1    5      12      17     15      10  Yorkville\n",
       "2   16      11      15     11       9       Waco\n",
       "3   15       8      13     16       7       Waco\n",
       "4   11      14      20      8       7       Waco"
      ]
     },
     "execution_count": 46,
     "metadata": {},
     "output_type": "execute_result"
    }
   ],
   "source": [
    "skittles_fp = os.path.join('data', 'skittles.tsv')\n",
    "skittles = pd.read_csv(skittles_fp, sep='\\t')\n",
    "skittles.head()"
   ]
  },
  {
   "cell_type": "code",
   "execution_count": 47,
   "metadata": {},
   "outputs": [
    {
     "data": {
      "text/plain": [
       "(468, 6)"
      ]
     },
     "execution_count": 47,
     "metadata": {},
     "output_type": "execute_result"
    }
   ],
   "source": [
    "skittles.shape"
   ]
  },
  {
   "cell_type": "markdown",
   "metadata": {},
   "source": [
    "### Question 7 – Orange Skittles 🟠\n",
    "\n",
    "First, you will investigate if the machine that mixes together the Skittles of different colors might favor one color over another. Use a permutation test to assess whether, on average, bags made in Yorkville have the same number of orange skittles as bags made in Waco. Do this by implementing the functions described below.\n",
    "\n",
    "<br>\n",
    "\n",
    "#### `diff_of_means`\n",
    "\n",
    "Complete the implementation of the function `diff_of_means`, which takes in a DataFrame like `skittles` and returns the **absolute difference** between the **mean** number of orange Skittles per bag from Yorkville and the **mean** number of orange Skittles per bag from Waco.\n",
    "\n",
    "<br>\n",
    "\n",
    "#### `simulate_null`\n",
    "\n",
    "Complete the implementation of the function `simulate_null`, which takes in a DataFrame like `skittles` and returns one simulated instance of the test statistic under the null hypothesis. Note that this will involve shuffling the `'Factory'` column!\n",
    "\n",
    "<br>\n",
    "\n",
    "#### `pval_color`\n",
    "\n",
    "Complete the implementation of the function `pval_color`, which takes in a DataFrame like `skittles` and calculates the p-value for the permutation test using 1000 trials.\n",
    "\n",
    "<br>\n",
    "\n",
    "Plot the observed statistic, along with the histogram for the simulated distribution, to check your work.\n",
    "\n",
    "***Note:*** In all functions, the default argument for `col` is `'orange'`. Your functions should still work for any color so that you can call it in later questions."
   ]
  },
  {
   "cell_type": "code",
   "execution_count": null,
   "metadata": {},
   "outputs": [],
   "source": []
  },
  {
   "cell_type": "code",
   "execution_count": null,
   "metadata": {},
   "outputs": [],
   "source": []
  },
  {
   "cell_type": "code",
   "execution_count": 57,
   "metadata": {},
   "outputs": [
    {
     "data": {
      "text/plain": [
       "0.039"
      ]
     },
     "execution_count": 57,
     "metadata": {},
     "output_type": "execute_result"
    }
   ],
   "source": [
    "# don't change this cell -- it is needed for the tests to work\n",
    "# cell may take about 1-2 minutes to execute to completion\n",
    "skittles_fp = os.path.join('data', 'skittles.tsv')\n",
    "skittles = pd.read_csv(skittles_fp, sep='\\\\t', engine='python')\n",
    "q7_diff_of_means_out = diff_of_means(skittles)\n",
    "q7_simulate_null_out = simulate_null(skittles)\n",
    "q7_pval_out = pval_color(skittles)\n",
    "q7_pval_out"
   ]
  },
  {
   "cell_type": "code",
   "execution_count": 58,
   "metadata": {},
   "outputs": [
    {
     "ename": "ValueError",
     "evalue": "DataFrame constructor not properly called!",
     "output_type": "error",
     "traceback": [
      "\u001b[1;31m---------------------------------------------------------------------------\u001b[0m",
      "\u001b[1;31mValueError\u001b[0m                                Traceback (most recent call last)",
      "Cell \u001b[1;32mIn[58], line 1\u001b[0m\n\u001b[1;32m----> 1\u001b[0m fig \u001b[39m=\u001b[39m px\u001b[39m.\u001b[39mhistogram(data_frame\u001b[39m=\u001b[39mpd\u001b[39m.\u001b[39;49mDataFrame(q7_pval_out), x\u001b[39m=\u001b[39m\u001b[39m0\u001b[39m,nbins\u001b[39m=\u001b[39m\u001b[39m50\u001b[39m, histnorm\u001b[39m=\u001b[39m\u001b[39m'\u001b[39m\u001b[39mprobability\u001b[39m\u001b[39m'\u001b[39m)\n\u001b[0;32m      2\u001b[0m fig\u001b[39m.\u001b[39madd_vline(x\u001b[39m=\u001b[39mdiff_of_means(skittles),line_color\u001b[39m=\u001b[39m\u001b[39m'\u001b[39m\u001b[39mred\u001b[39m\u001b[39m'\u001b[39m)\n",
      "File \u001b[1;32mc:\\Users\\nicco\\anaconda3\\envs\\dsc80\\lib\\site-packages\\pandas\\core\\frame.py:730\u001b[0m, in \u001b[0;36mDataFrame.__init__\u001b[1;34m(self, data, index, columns, dtype, copy)\u001b[0m\n\u001b[0;32m    727\u001b[0m \u001b[39m# For data is scalar\u001b[39;00m\n\u001b[0;32m    728\u001b[0m \u001b[39melse\u001b[39;00m:\n\u001b[0;32m    729\u001b[0m     \u001b[39mif\u001b[39;00m index \u001b[39mis\u001b[39;00m \u001b[39mNone\u001b[39;00m \u001b[39mor\u001b[39;00m columns \u001b[39mis\u001b[39;00m \u001b[39mNone\u001b[39;00m:\n\u001b[1;32m--> 730\u001b[0m         \u001b[39mraise\u001b[39;00m \u001b[39mValueError\u001b[39;00m(\u001b[39m\"\u001b[39m\u001b[39mDataFrame constructor not properly called!\u001b[39m\u001b[39m\"\u001b[39m)\n\u001b[0;32m    732\u001b[0m     \u001b[39m# Argument 1 to \"ensure_index\" has incompatible type \"Collection[Any]\";\u001b[39;00m\n\u001b[0;32m    733\u001b[0m     \u001b[39m# expected \"Union[Union[Union[ExtensionArray, ndarray],\u001b[39;00m\n\u001b[0;32m    734\u001b[0m     \u001b[39m# Index, Series], Sequence[Any]]\"\u001b[39;00m\n\u001b[0;32m    735\u001b[0m     index \u001b[39m=\u001b[39m ensure_index(index)  \u001b[39m# type: ignore[arg-type]\u001b[39;00m\n",
      "\u001b[1;31mValueError\u001b[0m: DataFrame constructor not properly called!"
     ]
    }
   ],
   "source": [
    "# fig = px.histogram(data_frame=pd.DataFrame(q7_pval_out), x=0,nbins=50, histnorm='probability')\n",
    "# fig.add_vline(x=diff_of_means(skittles),line_color='red')"
   ]
  },
  {
   "cell_type": "code",
   "execution_count": 59,
   "metadata": {
    "deletable": false,
    "editable": false
   },
   "outputs": [
    {
     "data": {
      "text/html": [
       "<p><strong><pre style='display: inline;'>q7</pre></strong> passed!</p>"
      ],
      "text/plain": [
       "q7 results: All test cases passed!"
      ]
     },
     "execution_count": 59,
     "metadata": {},
     "output_type": "execute_result"
    }
   ],
   "source": [
    "grader.check(\"q7\")"
   ]
  },
  {
   "cell_type": "markdown",
   "metadata": {},
   "source": [
    "### Question 8 – Generalizing to all colors 🔴🟠🟡🟢🟣\n",
    "\n",
    "While your `pval_color` function used a default color of `'orange'`, it should also work for all other colors of Skittles, meaning you can run the same permutation test from Question 7 on all colors of Skittles. Call `pval_color` on all colors of Skittles to find which colors differ the most between the two locations on average. \n",
    "\n",
    "Then, complete the implementation of the function `ordered_colors`, which returns a list of five ordered pairs, each of the form `('color', p_value)`. For example, your list might look like `[('pink', 0.000), ('brown', 0.025), ...]`. \n",
    "\n",
    "The list should be **hard-coded**, meaning that you should run your permutation tests in your notebook, not in your `.py` file. The list should also be sorted in **increasing order of p-value**. Make sure your p-values are rounded to **3 decimal places**.\n",
    "\n",
    "Even though there is randomness in the color composition in each bag, this list gives the likelihood that the machines have a systematic, meaningful, difference in how they blend the colors in each bag."
   ]
  },
  {
   "cell_type": "code",
   "execution_count": null,
   "metadata": {},
   "outputs": [],
   "source": []
  },
  {
   "cell_type": "code",
   "execution_count": null,
   "metadata": {},
   "outputs": [],
   "source": []
  },
  {
   "cell_type": "code",
   "execution_count": 68,
   "metadata": {},
   "outputs": [],
   "source": [
    "# don't change this cell -- it is needed for the tests to work\n",
    "q8_out = ordered_colors()\n",
    "q8_colors = {'green', 'orange', 'purple', 'red', 'yellow'}\n",
    "q8_test_colors = [x[0] for x in q8_out]"
   ]
  },
  {
   "cell_type": "code",
   "execution_count": 69,
   "metadata": {},
   "outputs": [
    {
     "name": "stdout",
     "output_type": "stream",
     "text": [
      "orange 0.037\n",
      "yellow 0.0\n",
      "red 0.242\n",
      "green 0.479\n",
      "purple 0.971\n"
     ]
    }
   ],
   "source": [
    "for color in q8_colors:\n",
    "    print(color, pval_color(skittles, color))"
   ]
  },
  {
   "cell_type": "code",
   "execution_count": 70,
   "metadata": {
    "deletable": false,
    "editable": false
   },
   "outputs": [
    {
     "data": {
      "text/html": [
       "<p><strong><pre style='display: inline;'>q8</pre></strong> passed!</p>"
      ],
      "text/plain": [
       "q8 results: All test cases passed!"
      ]
     },
     "execution_count": 70,
     "metadata": {},
     "output_type": "execute_result"
    }
   ],
   "source": [
    "grader.check(\"q8\")"
   ]
  },
  {
   "cell_type": "markdown",
   "metadata": {},
   "source": [
    "### Question 9 – Overall distributions 🏭\n",
    "\n",
    "Now, suppose you would like to assess whether the two locations make similar amounts of each color overall. That is, suppose we:\n",
    "* Combine and count up all the Skittles of each color that were made in Yorkville (e.g. 14303 total red skittles, 9091 total green skittles, etc.).\n",
    "* Combine and count up all the Skittles of each color that were made in Waco.\n",
    "\n",
    "**Are these distributions of colors similar?** Is the variation among the bags due to each factory making different amounts of each color?\n",
    "\n",
    "Use a permutation test to assess whether the distribution of colors of Skittles made in Yorkville is statistically significantly different than those made in Waco. Set a significance level (i.e. p-value cutoff) of 0.01 and determine whether you can reject a null hypothesis that answers the question above using a permutation test with 1000 trials. For your test statistic, use the **total variation distance (TVD)**.\n",
    "\n",
    "Refer to [Lecture 10](https://dsc80.com/resources/lectures/lec10/lec10.html) to see an example of a [permutation test](https://www.inferentialthinking.com/chapters/12/Comparing_Two_Samples.html) that uses the [TVD](https://inferentialthinking.com/chapters/11/2/Multiple_Categories.html) as the test statistic. Some guidance:\n",
    "\n",
    "- Our previous permutation tests have compared the mean number of (say) orange Skittles in Yorkville bags to the mean number number of orange Skittles in Waco bags. The role of shuffling was to randomly assign bags to Yorkville and Waco.\n",
    "- In this permutation test, we are **still** shuffling to randomly assign bags to Yorkville and Waco. The only difference is that after we randomly assign each bag to a factory, we will compute the **distribution** of colors among the two factories and find the TVD between those two distributions.\n",
    "\n",
    "**Your job:** Complete the implementation of the function `same_color_distribution`, which takes in no arguments and outputs a hard-coded **tuple** with the p-value and whether you `'Fail to Reject'` or `'Reject'` the null hypothesis."
   ]
  },
  {
   "cell_type": "code",
   "execution_count": 156,
   "metadata": {},
   "outputs": [],
   "source": [
    "def calc_tvd(data):\n",
    "    by_factory = data.groupby('Factory').sum()\n",
    "    as_proportions = by_factory.div(by_factory.sum(axis=1), axis=0)\n",
    "    return as_proportions.diff().iloc[-1, :].abs().sum()"
   ]
  },
  {
   "cell_type": "code",
   "execution_count": 157,
   "metadata": {},
   "outputs": [
    {
     "data": {
      "text/plain": [
       "0.040808228055829954"
      ]
     },
     "execution_count": 157,
     "metadata": {},
     "output_type": "execute_result"
    }
   ],
   "source": [
    "observed = calc_tvd(skittles)\n",
    "observed"
   ]
  },
  {
   "cell_type": "code",
   "execution_count": 158,
   "metadata": {},
   "outputs": [
    {
     "name": "stdout",
     "output_type": "stream",
     "text": [
      "[0.021876406950217475, 0.010593075995924212, 0.044119948116523255, 0.013590733850180003, 0.01582204886002586, 0.029934780159481922, 0.030787932154100944, 0.020287800626796387, 0.01613599823869477, 0.012304434584373747, 0.02579750975946346, 0.03692017894984695, 0.03380162116125282, 0.029797178191190765, 0.011294247102480226, 0.010679793634564283, 0.02972438218458545, 0.03347577134654381, 0.014935288915512712, 0.027132400137700463, 0.021588414902385444, 0.02136167376465703, 0.02472990002693934, 0.018875851532758975, 0.023364572687953084, 0.01584473001435266, 0.019872454208638896, 0.01980039845698847, 0.012982822001214644, 0.02604964303078197, 0.01604664527278124, 0.022160872484737998, 0.015450674491710309, 0.00661533324986438, 0.020488817531796044, 0.019933812276488078, 0.027826760077642426, 0.02099005556396169, 0.032714255850929436, 0.034136212537495686, 0.020771473722554862, 0.023278076219267668, 0.03435184984239287, 0.017908138038292, 0.018806282718362072, 0.01660748338208476, 0.026897218977426668, 0.02013780242061658, 0.02396010133488871, 0.019210107770178453, 0.019690318467124657, 0.026323890686983265, 0.026455214815608807, 0.02286051987098861, 0.024567510331880787, 0.028562052595220738, 0.004570179920874523, 0.022278333825813568, 0.011476845006260422, 0.006010693912541887, 0.02920766589360685, 0.022496472000973128, 0.00805173111598076, 0.023148624300234066, 0.02663744769342316, 0.022974015094099215, 0.027229302356960444, 0.01578432988031553, 0.015548096158410463, 0.03118690717741121, 0.021547162269558162, 0.007795839959617135, 0.032816027319828606, 0.036570768002664594, 0.03410112678316024, 0.025355870178185025, 0.016409056387058918, 0.009720275406933904, 0.02091591177187191, 0.011918822939805757, 0.012241697515722655, 0.030503886730137764, 0.02936059427097862, 0.019910396863176832, 0.016217447586203054, 0.018106010358031, 0.028533671145222123, 0.015491077419832966, 0.01697247636531979, 0.014645928515186452, 0.02528861165385532, 0.022599637681159412, 0.017758580357850023, 0.03106427400403522, 0.023870387498635154, 0.014552570892154199, 0.00633001362386354, 0.02220914308324451, 0.015280115810900496, 0.02847312056676013, 0.013961101139179227, 0.020985960651668162, 0.0326761805887848, 0.013480898547371029, 0.005137023021654558, 0.017333845562812117, 0.022018608025213104, 0.02688395173189101, 0.021576127587901978, 0.012098388712858454, 0.015971044110002997, 0.010345177395799598, 0.017163134058536006, 0.02515012220281676, 0.019725874397076848, 0.021111751152073727, 0.022742654944064494, 0.021433823001574953, 0.019054439012756552, 0.01726758421551519, 0.01459547980913492, 0.015535672978421067, 0.013491638180884169, 0.011928546276728985, 0.02972322795918761, 0.013676346547776858, 0.027055561295970088, 0.0235376735079596, 0.016970702014176636, 0.02149046223658832, 0.014455859934704662, 0.035307581576942054, 0.03840034735078329, 0.024902843203364, 0.016201824094861317, 0.01726607000140079, 0.01678992008571012, 0.029410797676209938, 0.01709851998036288, 0.010893750243691519, 0.01708835801927494, 0.02228131910110709, 0.025991250507317987, 0.02017650740168908, 0.023645607955836367, 0.02861598501026616, 0.015291970836240232, 0.017872555138720353, 0.009052958359895946, 0.011616320748079917, 0.019639241247631667, 0.02683568389294555, 0.025454709941726633, 0.022750859015700703, 0.02136509699309888, 0.027667192700825294, 0.008522748142889502, 0.030838198834920977, 0.017886683986014312, 0.025991250507317987, 0.007518392456555001, 0.042092269421661, 0.031831169141185695, 0.021406853716947033, 0.014635193275488761, 0.024882389799620486, 0.018948258655447053, 0.012661361626878892, 0.011322826427304061, 0.01482685764139885, 0.020387326618337864, 0.0045993561619383505, 0.03597886989173221, 0.016781405253136705, 0.013739136837159882, 0.026958160090563205, 0.0310743219243568, 0.019988585685433102, 0.03148220540884611, 0.01309102665132214, 0.013223234025057012, 0.013211429445199235, 0.010227254501962713, 0.03179752391346333, 0.03028761427519197, 0.008243526049789257, 0.014212084554052429, 0.009598952857441334, 0.011011586206771368, 0.020878861626288797, 0.037078950500254365, 0.01038270172883915, 0.02185716032331722, 0.02336450109413185, 0.006535434552433106, 0.012661701430200345, 0.022517589506519026, 0.025952374514010307, 0.01801187210574698, 0.011389387790869815, 0.016005707077106135, 0.02317470565342758, 0.025080217488559015, 0.015055161187489369, 0.020788953608744637, 0.0293703831216639, 0.014262265768760884, 0.015236912008974535, 0.035257276842981244, 0.03479299840245964, 0.010957160593483922, 0.006407168376936334, 0.015464454869184852, 0.026950083204686198, 0.012884889496580232, 0.019671679606754783, 0.021951153679903468, 0.012331851564657909, 0.01303575412291999, 0.007282350921926917, 0.03471789940502057, 0.036726077381700806, 0.013699796374811418, 0.02960350103506293, 0.012771269713930972, 0.01682629090588364, 0.013963514074030375, 0.016434088229641014, 0.014018154170167968, 0.016217068642010085, 0.013519646439874689, 0.02957721331503188, 0.023829909846192737, 0.022595787748243945, 0.014628349723568662, 0.03439515027251322, 0.010107687924684083, 0.02605164901951465, 0.023856175140620495, 0.019520043107081803, 0.017980820949507037, 0.03531530931426019, 0.022240764193609486, 0.0213163125240374, 0.019883569276267055, 0.015425247902006528, 0.013206549059932515, 0.01753861043174379, 0.025676576654728445, 0.028483286907896366, 0.013308533911849496, 0.01136901969392426, 0.016986349415923058, 0.02280669455763118, 0.007686915984875059, 0.014134617843186065, 0.027185221402038495, 0.020665821912922572, 0.027083211905733345, 0.036575536581638673, 0.019067064201937933, 0.014951448714036475, 0.016961681714331878, 0.008589335430394307, 0.01977006690980665, 0.015695961063247166, 0.02731677935486093, 0.01859220111661844, 0.011589470330657048, 0.019511635438175384, 0.008617677472044394, 0.014595403693719394, 0.03613570355416301, 0.013672967673802688, 0.008688548222520964, 0.02348049641083569, 0.017486837433519448, 0.017224077604031385, 0.025589048040391554, 0.02123690445438489, 0.014293867260557092, 0.036022423609600035, 0.016750532960240705, 0.028388939985917683, 0.03190165084454524, 0.013669713284086643, 0.015961647632405013, 0.03312713392844174, 0.02707279660016987, 0.029834272546286678, 0.022103264657810873, 0.028845370532528197, 0.030073420167105125, 0.03184198433118077, 0.023050506156718137, 0.02381892797563262, 0.017811888995350772, 0.003978373392364953, 0.01978360214304342, 0.02814911420233654, 0.017311043089239447, 0.01927080343470941, 0.01562376508281807, 0.025392465642253337, 0.015732631179925766, 0.016822913629270908, 0.013081124375187048, 0.025345716953538266, 0.011290994882867167, 0.029399414202587876, 0.04039034521472307, 0.021358977854336797, 0.008087050060722356, 0.014536966541061735, 0.017902330680629297, 0.015252617256087453, 0.009870947031053678, 0.011837690935669665, 0.010786856870429434, 0.023674703500235872, 0.027683870885324063, 0.017145996794691754, 0.01790250361315318, 0.040037180573889, 0.008362559329805563, 0.022171185774813473, 0.033767657251929956, 0.02126270873128433, 0.013060824820224387, 0.023367346938775513, 0.013115387951866952, 0.01907579710108856, 0.023881583424592956, 0.02749128436468587, 0.027551967890240253, 0.016664487072706347, 0.01597085617317251, 0.013083457151162686, 0.015174990824073253, 0.030944557686609975, 0.008460746360664628, 0.024891850510145308, 0.01940411224051855, 0.0116293842347015, 0.024273774654555408, 0.024108930882318802, 0.016318323951481806, 0.02442691301272215, 0.016927023138207486, 0.02521425784596762, 0.018109358373740808, 0.012939837592775671, 0.015038628453886538, 0.011048579791094915, 0.016567291830897557, 0.02126511707421555, 0.020636520786402046, 0.027299904617914234, 0.03249757421629751, 0.020478555423804, 0.01564881946927746, 0.011531796915205866, 0.03310617927151796, 0.0231574219766853, 0.01141222843916917, 0.012907791014305392, 0.021663437523715717, 0.01769136404434704, 0.0262855389606593, 0.009944960364223765, 0.031084179083630648, 0.03119229140367144, 0.020293750206982486, 0.03500791100852632, 0.020738821155960818, 0.030336060074214688, 0.024719085884786246, 0.008208801696577617, 0.04448912815126932, 0.02746688319855095, 0.0064880687708998575, 0.027178694103598217, 0.016239663521635445, 0.030980858388600402, 0.02224736083664644, 0.020893646153882117, 0.01890248736704625, 0.01607477684024594, 0.020469553529686796, 0.01831512753839254, 0.010094303761446044, 0.03060934807779403, 0.02110904756751747, 0.01795338089519477, 0.01936777703151321, 0.00915356831975389, 0.018744449561488435, 0.014826415026929773, 0.008266753792233295, 0.020276689558775846, 0.02130250315510429, 0.02806831689615341, 0.020312249182208197, 0.03160034401952322, 0.02940299056993481, 0.022511512522058547, 0.026116145503872645, 0.03294050738743079, 0.015557855418794453, 0.011250083737336186, 0.01444233358461966, 0.010460207174700559, 0.020581139405277116, 0.01436947667600999, 0.014197855373969004, 0.015354733606138815, 0.04637059197851834, 0.0062170914972182745, 0.028579693250223, 0.007488061277722724, 0.024164801999282504, 0.02178485186671031, 0.015999394770635722, 0.017795182602743653, 0.01623532367090516, 0.007965595401764447, 0.015417309918691002, 0.014233725719806828, 0.036185542210582566, 0.019027750582787106, 0.02814435405493504, 0.03882952833816716, 0.024912573504373037, 0.022871833396415714, 0.018359263603921094, 0.023809931744811552, 0.018620332236726184, 0.016156122153458408, 0.020668754846789567, 0.013786620456231774, 0.019422246696353618, 0.014213562040172933, 0.021247882881396618, 0.023501061640922694, 0.020533418515382096, 0.013468043750368669, 0.020414391658865105, 0.01876820666917073, 0.019355256127696507, 0.01424577835336055, 0.01904988521055276, 0.012667189979636173, 0.029624526596520706, 0.02899532754516257, 0.01228265269078782, 0.03190661355175628, 0.018030106773065463, 0.013207531684133883, 0.012062111531067454, 0.02068194752701294, 0.015806906964967143, 0.021719461470134926, 0.017511925266348483, 0.02865155005156239, 0.01000817545454119, 0.015497933381537099, 0.0306516964773903, 0.016344487400566904, 0.029711039646956705, 0.010706842006407258, 0.012620540435093447, 0.014902176176687876, 0.019733091308429623, 0.030232645885119036, 0.02892163187947644, 0.011159576287803896, 0.01732832855856123, 0.019176921289977084, 0.027681446780008445, 0.022583194580588467, 0.012994149484384515, 0.029627179893063182, 0.02269015929717111, 0.014194132707346818, 0.019919241995698195, 0.012150909027392243, 0.0225191520229443, 0.013656012063565981, 0.015468433024274308, 0.008676958610922048, 0.020151957671462883, 0.012285827127982318, 0.029433772316360934, 0.02049000344487789, 0.015179145309245134, 0.010878110251991396, 0.02242381135736643, 0.021972757514056335, 0.022536632548142033, 0.013341427762233626, 0.039247276020770244, 0.013460954068467007, 0.023114135601492475, 0.01803382278804186, 0.00624416472323483, 0.01881588781293536, 0.015332257215061817, 0.02643416651357211, 0.026005140536475846, 0.028299606121355902, 0.01537878130692874, 0.009143743714658426, 0.03376257955893952, 0.02181848440634096, 0.025236894742301313, 0.024817800056659484, 0.010899375223058949, 0.02571013834221686, 0.01925321992504611, 0.011712409620776076, 0.026468751125172413, 0.033043507875236966, 0.02317522595383717, 0.01614540333844175, 0.04343015611011203, 0.013597793957956822, 0.018630635028766024, 0.024471614493075722, 0.0068531539614701265, 0.035052899624787304, 0.02813145885159815, 0.016622832522180442, 0.00945224135692549, 0.023458405999054965, 0.026915466966785706, 0.02669782281298219, 0.03346211374646596, 0.02587916919512412, 0.020026951654616737, 0.00990183956794205, 0.01937529219261333, 0.027871783658905885, 0.022610066840933668, 0.013817379112412043, 0.046382637045139674, 0.007548090583826356, 0.019469256537475832, 0.00983917662499395, 0.012093155783101939, 0.01705223478297735, 0.020641804699192023, 0.020677863746982994, 0.0157375116856919, 0.013245809862760333, 0.017859931113662436, 0.024385447634323515, 0.015780840733165713, 0.030466690523304918, 0.01454298335032278, 0.02040903875409178, 0.010070446957926, 0.01805976894514419, 0.010578435597011382, 0.02864448840229339, 0.01676171589604425, 0.015855463904487, 0.01896788170224245, 0.010829493361578263, 0.011316738448530927, 0.015163453776648045, 0.03176200871654031, 0.020775787905939924, 0.027566702418711037, 0.013906312054331738, 0.025921757085967112, 0.028649547688605587, 0.03592357015457412, 0.01742039146947122, 0.009735817766933663, 0.016490068618383952, 0.03176111666622436, 0.019131685571873253, 0.02032271508846023, 0.025448769192992465, 0.01630214242862657, 0.03496939299230964, 0.021637696892976677, 0.020672207965538453, 0.02394136655437587, 0.026796108985848166, 0.03887215979433983, 0.019553343337879087, 0.01447598172210221, 0.020345313852183994, 0.016697341513292413, 0.02396490986200242, 0.02710227244066185, 0.021645495891836952, 0.024183507560983086, 0.011289120813914227, 0.008991511489155002, 0.01673619008099647, 0.013207901394969773, 0.045278104302234085, 0.01377019020782011, 0.013436558247658464, 0.02037799535163759, 0.02114967619053959, 0.01803639747423061, 0.009081459994068342, 0.0150691526804059, 0.013571058017652016, 0.01257926313152008, 0.02462284359427913, 0.013503099883732411, 0.021744019740274484, 0.0296559779769556, 0.0335188996849774, 0.020445557810779946, 0.029340165490650966, 0.027503500088617405, 0.007726744833218918, 0.020401612767894012, 0.021660407389464065, 0.012271337697366769, 0.010023420809397554, 0.022387700368935365, 0.023279984087199307, 0.021661110821211083, 0.015925462873287277, 0.028080415597563385, 0.01749108046087569, 0.012466880952557435, 0.02533838307329697, 0.019022156548453878, 0.029220043919280847, 0.026561917587390238, 0.0271905191081587, 0.03041029728408534, 0.021934560822943233, 0.021815104222753262, 0.018077314138170986, 0.015286204205190668, 0.019007431285679083, 0.011870269607507478, 0.01933424066860867, 0.01148027157116599, 0.03988640456067574, 0.011033784321390822, 0.012395163752214139, 0.021687779489059672, 0.0259959708645566, 0.03400112151217061, 0.017488262544006983, 0.02744184744772918, 0.02594084731547122, 0.03696097581128194, 0.017019693963926275, 0.025177901559727434, 0.0059576484845597355, 0.008185166215458145, 0.019983441756763504, 0.016607761110915442, 0.01919481309356305, 0.02509114421926037, 0.02239878625937866, 0.033089149874159784, 0.011161295405206717, 0.009687249204136328, 0.006221551914756929, 0.012392314764369389, 0.03236783889317679, 0.036396999309204786, 0.020096119114429017, 0.018214943847948556, 0.013687580271976418, 0.023742566316130087, 0.01388676474065148, 0.023357209210246782, 0.014238255391852861, 0.018864104675164167, 0.014085653255698133, 0.026150633711021276, 0.011399794047472295, 0.027540378114435965, 0.035798259035298596, 0.020330665164354472, 0.03126122970883477, 0.015189849326686433, 0.019790653909226352, 0.01560437883965049, 0.017545142610523062, 0.028814135236153532, 0.021834175100996972, 0.013352335394643894, 0.019728846827681057, 0.009910910177675453, 0.015143619476851139, 0.022926544242778485, 0.01768003956565975, 0.027961178921264623, 0.009554297121207644, 0.025471341667329478, 0.02073202281651232, 0.017440870981973944, 0.01718587681640113, 0.034823893724204386, 0.029059737443025063, 0.013434349873872709, 0.022095743310971888, 0.013777023477171607, 0.012356045516818875, 0.01576399279703708, 0.016350036708133703, 0.017317679092955146, 0.021652733182441736, 0.03578419222476434, 0.010197591962290947, 0.022811929540345277, 0.013487474909861685, 0.010607650648555955, 0.008998716204105944, 0.016209482351260657, 0.017764936017414856, 0.029329432170857733, 0.016962192847173263, 0.021252403172208945, 0.008530612370293955, 0.016525554985728247, 0.013009382905829397, 0.02189164236894464, 0.020513058774907444, 0.018959043507218665, 0.010281009630629001, 0.019732807171870453, 0.02551553214427446, 0.009546237601592206, 0.010361906683976407, 0.024387627503682924, 0.029676188870193798, 0.017784593788147424, 0.03148220540884614, 0.01653389318559123, 0.009547228504757699, 0.02217402798336013, 0.01658222101603174, 0.02409614412225597, 0.01555576093551872, 0.02314860953012432, 0.015900389991881814, 0.01695785387666024, 0.029965732845390697, 0.014759235284571404, 0.01668180563237337, 0.016698314994001706, 0.02616466048240293, 0.024979449282498345, 0.02360650861908717, 0.022721550933480966, 0.023137928000177693, 0.021924521238780026, 0.015455391381634154, 0.025290604930054028, 0.02647159109685135, 0.01780413076871698, 0.007353817372795002, 0.009090882339627487, 0.024206646898913192, 0.03191390677686226, 0.028512959924858167, 0.009563096622508704, 0.010476194768437558, 0.022079643920854514, 0.014578630407957233, 0.0170125375252016, 0.021720725161188115, 0.007517123990928021, 0.01578824633045084, 0.027255121955486267, 0.01694578247179407, 0.031167727794593453, 0.009617488683492853, 0.025714709680422526, 0.020667622498829502, 0.015441785071105274, 0.017822990808702283, 0.012731689731568352, 0.024219957480970195, 0.024869229670313242, 0.007078049304084816, 0.01937068660902333, 0.014764224192654413, 0.014539988636359163, 0.01723703389052214, 0.02544111227416318, 0.019444732473121062, 0.006261519666286963, 0.01893657289222625, 0.011712000601931505, 0.03348030628138185, 0.016265145167194822, 0.015810786146697536, 0.022144443331329727, 0.03941789928904324, 0.029247498583611864, 0.02272312921045408, 0.009833726942074822, 0.009462844402281623, 0.02516988142762533, 0.014258378197904903, 0.012272046377446583, 0.023887481730462484, 0.018181566897151336, 0.025047421256842395, 0.03354622264658699, 0.009577103401714193, 0.0179235307947532, 0.014053021177718977, 0.01880945250462196, 0.012260441726149485, 0.020091608431589192, 0.024027077171103417, 0.01897441014593987, 0.02417038168703667, 0.015557190766527229, 0.01458629179024759, 0.02896590440020358, 0.019300794366409968, 0.01717863715277071, 0.022242074788870858, 0.025391036692356622, 0.0223539871769185, 0.025592802158079603, 0.019185554931168525, 0.03732890630991703, 0.0166022294091539, 0.03326988579442999, 0.015056602646734252, 0.024364037290086682, 0.02687469742388343, 0.01514978439043893, 0.014722410524511231, 0.017478248467633045, 0.03514537648568153, 0.025578171222728596, 0.006503231251297842, 0.0076311788118184065, 0.013922745280175841, 0.02459370302106695, 0.021371603377405318, 0.014737014013935845, 0.017997436356706753, 0.016542472486285348, 0.011723452302868004, 0.022147331774675705, 0.013629406017473866, 0.01689984656647417, 0.011681090986484843, 0.023766328465050196, 0.014251356343575328, 0.01860992716299753, 0.01891548669197113, 0.015182648178474839, 0.02655981947919958, 0.02951492513538867, 0.022859448528567278, 0.016878105743056315, 0.016641055285700007, 0.023823916246808075, 0.01974731562817089, 0.017182433455891405, 0.028376227633345102, 0.030142105922123436, 0.018725135285043493, 0.03161555992569734, 0.018131094939890485, 0.03338326752484391, 0.0070966817035769125, 0.01702473679370617, 0.022977072073245147, 0.01187336180417381, 0.02589091382013492, 0.019155992853478576, 0.021763197182016303, 0.01066407026706756, 0.01902565063525638, 0.03134598221514978, 0.0242091020170265, 0.022998246269654465, 0.024123624934006882, 0.03228097132904967, 0.019749976110978285, 0.02087716137248999, 0.014767600026995259, 0.0258466468181692, 0.03462202685414456, 0.017029789907424375, 0.020312546424762684, 0.03372549756227872, 0.009148418662089569, 0.026103811000515342, 0.025255386573951766, 0.014589456011411178, 0.02714592036868471, 0.013650686128947764, 0.015959202806567374, 0.016397221374324394, 0.013601021896338467, 0.029632248745851714, 0.01908006814310048, 0.021154930506808, 0.020407997654170146, 0.016897356903469357, 0.029475252427278442, 0.023783830705798925, 0.021248207275946007, 0.027409151381771774, 0.015489008201557908, 0.030043978957353695, 0.02319440871983569, 0.025213098532120115, 0.01065039942506485, 0.025272942827520684, 0.010979213609420307, 0.031337746947039, 0.012787676037854967, 0.03561576803796035, 0.026628535580639823, 0.012028578763067926, 0.03223628031684178, 0.006357995823709717, 0.022465048369466445, 0.021879592406309073, 0.01159666152553604, 0.01466081375724751, 0.012956367893827508, 0.025908326325278758, 0.011988815549544563, 0.02519327729303536, 0.03867469899942713, 0.012874493190486558, 0.02059367692215558, 0.013388810416812558, 0.016173156379116066, 0.03321283782463935, 0.02963280844519084, 0.019339984650805858, 0.007820403897215389, 0.01061899012009987, 0.00962281269857948, 0.014607513694935376, 0.019654015476415904, 0.016528955971138765, 0.025524113417084354, 0.02454480316453711, 0.013827574163920692, 0.022238351790474953, 0.01761229060578981, 0.02148062907556572, 0.01186576225749586, 0.02035765614698412, 0.010185236668571795, 0.025208789059855657, 0.014156273518555917, 0.022977044990056678, 0.026390612865575536, 0.019674698748233077, 0.028342702144328824, 0.013873278512751858, 0.00845931144213205, 0.017855537359815682, 0.025396722680304767, 0.009247788807993818, 0.01583522759615838, 0.03432421870156399, 0.01628934535321666, 0.012921294475001177, 0.011570596710540892, 0.012962428708318818, 0.02279066580744618, 0.018614561098766358, 0.0364398698724952, 0.020200892624873457, 0.02543964585970593, 0.019462362634046937, 0.013243522155321374, 0.020516631702723193, 0.013834353848367398, 0.03001366550021825, 0.020627876907583942, 0.02192550014421457, 0.023629951334165733, 0.0128782321002896, 0.024324396731825848, 0.019492878423131993, 0.029591040642928723, 0.02474859627390158, 0.024188774419833803, 0.026120591023482354, 0.013663960067753389]\n"
     ]
    },
    {
     "data": {
      "text/plain": [
       "0.007"
      ]
     },
     "execution_count": 158,
     "metadata": {},
     "output_type": "execute_result"
    }
   ],
   "source": [
    "tvds = []\n",
    "for _ in range(1000):\n",
    "    shuffled = skittles.assign(Factory = np.random.permutation(skittles['Factory']))\n",
    "    tvds.append(calc_tvd(shuffled))\n",
    "print(tvds)\n",
    "(tvds >= observed).sum() / 1000"
   ]
  },
  {
   "cell_type": "code",
   "execution_count": 159,
   "metadata": {},
   "outputs": [],
   "source": [
    "# don't change this cell -- it is needed for the tests to work\n",
    "q9_out = same_color_distribution()"
   ]
  },
  {
   "cell_type": "code",
   "execution_count": 160,
   "metadata": {
    "deletable": false,
    "editable": false
   },
   "outputs": [
    {
     "data": {
      "text/html": [
       "<p><strong><pre style='display: inline;'>q9</pre></strong> passed!</p>"
      ],
      "text/plain": [
       "q9 results: All test cases passed!"
      ]
     },
     "execution_count": 160,
     "metadata": {},
     "output_type": "execute_result"
    }
   ],
   "source": [
    "grader.check(\"q9\")"
   ]
  },
  {
   "cell_type": "markdown",
   "metadata": {},
   "source": [
    "### Question 10 – Permutation testing vs. hypothesis testing 🧪\n",
    "\n",
    "In each of the following scenarios, decide  whether  a  permutation test is appropriate to determine if there is a  significant difference between the quantities described. If a permutation test is appropriate, mark `'P'`. Otherwise, mark `'H'`.\n",
    "\n",
    "Record your answers in the function `perm_vs_hyp` that outputs a list of length 5, containing the values `'P'` and `'H'`.\n",
    "\n",
    "1. Compare the DSC 80 pass rate between second years and third years who take the class.\n",
    "2. Compare the proportion of Data Science majors who have completed DSC 80 and the proportion of Data Science minors who have completed DSC 80.\n",
    "3. Compare the proportion of students who have iPhones to the proportion of students who have Android phones (for simplicity, assume that all students either have an iPhone or an Android).\n",
    "4. In DSC 80, we ask all students whether they liked DSC 40A or DSC 40B more. Compare the proportion of students who preferred DSC 40A to the proportion who preferred DSC 40B.\n",
    "5. Compare the attendance rate of classes that play music before class vs. classes that do not play music before class.\n",
    "\n",
    "***Hint:*** Think about the type of data you would collect in each case, and how you would simulate new data under the null hypothesis. It will be useful to refer to the explanation at the start of Part 4."
   ]
  },
  {
   "cell_type": "code",
   "execution_count": null,
   "metadata": {},
   "outputs": [],
   "source": []
  },
  {
   "cell_type": "code",
   "execution_count": null,
   "metadata": {},
   "outputs": [],
   "source": []
  },
  {
   "cell_type": "code",
   "execution_count": null,
   "metadata": {},
   "outputs": [],
   "source": [
    "# don't change this cell -- it is needed for the tests to work\n",
    "q10_out = perm_vs_hyp()"
   ]
  },
  {
   "cell_type": "code",
   "execution_count": null,
   "metadata": {
    "deletable": false,
    "editable": false
   },
   "outputs": [],
   "source": [
    "grader.check(\"q10\")"
   ]
  },
  {
   "cell_type": "markdown",
   "metadata": {},
   "source": [
    "## Congratulations! You're done with Lab 4! 🏁\n",
    "\n",
    "As a reminder, all of the work you want to submit needs to be in `lab.py`.\n",
    "\n",
    "To verify that all of your work is indeed in `lab.py`, and that you didn't accidentally implement a function in this notebook and not in `lab.py`, we've included another notebook in the lab folder, called `lab-validation.ipynb`. `lab-validation.ipynb` is a version of this notebook with only the `grader.check` cells and the code needed to set up the tests. \n",
    "\n",
    "### **Go to `lab-validation.ipynb`, and go to Kernel > Restart & Run All.** This will check if all `grader.check` test cases pass using just the code in `lab.py`.\n",
    "\n",
    "Once you're able to pass all test cases in `lab-validation.ipynb`, including the call to `grader.check_all()` at the very bottom, then you're ready to submit your `lab.py` (and only your `lab.py`) to Gradescope. Once submitting to Gradescope, make sure to stick around until all test cases pass.\n",
    "\n",
    "There is also a call to `grader.check_all()` below in _this_ notebook, but make sure to also follow the steps above."
   ]
  },
  {
   "cell_type": "markdown",
   "metadata": {
    "deletable": false,
    "editable": false
   },
   "source": [
    "---\n",
    "\n",
    "To double-check your work, the cell below will rerun all of the autograder tests."
   ]
  },
  {
   "cell_type": "code",
   "execution_count": null,
   "metadata": {
    "deletable": false,
    "editable": false
   },
   "outputs": [],
   "source": [
    "grader.check_all()"
   ]
  }
 ],
 "metadata": {
  "kernel_info": {
   "name": "python3"
  },
  "kernelspec": {
   "display_name": "Python 3 (ipykernel)",
   "language": "python",
   "name": "python3"
  },
  "language_info": {
   "codemirror_mode": {
    "name": "ipython",
    "version": 3
   },
   "file_extension": ".py",
   "mimetype": "text/x-python",
   "name": "python",
   "nbconvert_exporter": "python",
   "pygments_lexer": "ipython3",
   "version": "3.8.16"
  },
  "nteract": {
   "version": "0.15.0"
  },
  "otter": {
   "tests": {
    "q1": {
     "name": "q1",
     "points": null,
     "suites": [
      {
       "cases": [
        {
         "code": ">>> len(q1_result) == 433\nTrue",
         "hidden": false,
         "locked": false,
         "points": 0.5
        },
        {
         "code": ">>> q1_result.loc[393, \"Time\"] > 9\nTrue",
         "hidden": false,
         "locked": false,
         "points": 0.5
        },
        {
         "code": ">>> q1_result.loc[457, 'Time'] == 4\nTrue",
         "failure_message": "check user 457",
         "hidden": false,
         "locked": false,
         "points": 0.5
        },
        {
         "code": ">>> q1_result.loc[458, 'Time'] > 50\nTrue",
         "failure_message": "check user 457",
         "hidden": false,
         "locked": false,
         "points": 0.5
        },
        {
         "code": ">>> len(set(q1_result.index)) == 433\nTrue",
         "failure_message": "check number of unique users",
         "hidden": false,
         "locked": false,
         "points": 1
        }
       ],
       "scored": true,
       "setup": "",
       "teardown": "",
       "type": "doctest"
      }
     ]
    },
    "q10": {
     "name": "q10",
     "points": null,
     "suites": [
      {
       "cases": [
        {
         "code": ">>> len(q10_out) == 5\nTrue",
         "failure_message": "output length should be 5",
         "hidden": false,
         "locked": false,
         "points": 1
        },
        {
         "code": ">>> set(q10_out) <= set(['P', 'H'])\nTrue",
         "failure_message": "output contains answers other than P or H",
         "hidden": false,
         "locked": false,
         "points": 1
        }
       ],
       "scored": true,
       "setup": "",
       "teardown": "",
       "type": "doctest"
      }
     ]
    },
    "q2": {
     "name": "q2",
     "points": null,
     "suites": [
      {
       "cases": [
        {
         "code": ">>> len(q2_result) == 433\nTrue",
         "hidden": false,
         "locked": false,
         "points": 0.5
        },
        {
         "code": ">>> np.isclose(q2_result.loc[466], 0.24250681198910082)\nTrue",
         "hidden": false,
         "locked": false,
         "points": 0.5
        }
       ],
       "scored": true,
       "setup": "",
       "teardown": "",
       "type": "doctest"
      }
     ]
    },
    "q3": {
     "name": "q3",
     "points": null,
     "suites": [
      {
       "cases": [
        {
         "code": ">>> q3_out.shape == (11, 4)\nTrue",
         "hidden": false,
         "locked": false,
         "points": 0.5
        },
        {
         "code": ">>> list(q3_out.columns) == ['Name', 'Email', 'Model', 'Price']\nTrue",
         "hidden": false,
         "locked": false,
         "points": 0.5
        },
        {
         "code": ">>> set(q3_out['Name']) == set(customers['Name'])\nTrue",
         "hidden": false,
         "locked": false,
         "points": 0.5
        },
        {
         "code": ">>> q3_out['Model'].isna().sum() == 0\nTrue",
         "hidden": false,
         "locked": false,
         "points": 0.5
        },
        {
         "code": ">>> (q3_out['Model'].value_counts().to_numpy() == np.array([4, 3, 2, 1, 1])).all()\nTrue",
         "hidden": false,
         "locked": false,
         "points": 0.5
        }
       ],
       "scored": true,
       "setup": "",
       "teardown": "",
       "type": "doctest"
      }
     ]
    },
    "q4": {
     "name": "q4",
     "points": null,
     "suites": [
      {
       "cases": [
        {
         "code": ">>> isinstance(suits_null_hyp(), list)\nTrue",
         "hidden": false,
         "locked": false,
         "points": 1
        },
        {
         "code": ">>> set(suits_null_hyp()).issubset({1, 2, 3, 4})\nTrue",
         "hidden": false,
         "locked": false,
         "points": 1
        },
        {
         "code": ">>> pd.Series(simulate_suits_null()).isin([0, 1]).all()\nTrue",
         "hidden": false,
         "locked": false,
         "points": 1
        },
        {
         "code": ">>> 0 < estimate_suits_p_val(1000) < 0.1\nTrue",
         "hidden": false,
         "locked": false,
         "points": 1
        }
       ],
       "scored": true,
       "setup": "",
       "teardown": "",
       "type": "doctest"
      }
     ]
    },
    "q5": {
     "name": "q5",
     "points": null,
     "suites": [
      {
       "cases": [
        {
         "code": ">>> set(car_null_hypoth()) <= set(range(1, 7))\nTrue",
         "hidden": false,
         "locked": false,
         "points": 0.5
        },
        {
         "code": ">>> set(car_alt_hypoth()) <= set(range(1, 7))\nTrue",
         "hidden": false,
         "locked": false,
         "points": 0.5
        },
        {
         "code": ">>> set(car_test_stat()) <= set(range(1, 5))\nTrue",
         "hidden": false,
         "locked": false,
         "points": 0.5
        },
        {
         "code": ">>> car_p_value() in set(range(1, 6))\nTrue",
         "hidden": false,
         "locked": false,
         "points": 0.5
        }
       ],
       "scored": true,
       "setup": "",
       "teardown": "",
       "type": "doctest"
      }
     ]
    },
    "q6": {
     "name": "q6",
     "points": null,
     "suites": [
      {
       "cases": [
        {
         "code": ">>> isinstance(bhbe_out, pd.Series)\nTrue",
         "hidden": false,
         "locked": false,
         "points": 1
        },
        {
         "code": ">>> bhbe_out.dtype == np.dtype('bool')\nTrue",
         "hidden": false,
         "locked": false,
         "points": 1
        },
        {
         "code": ">>> bhbe_out.sum() == 93\nTrue",
         "hidden": false,
         "locked": false,
         "points": 1
        },
        {
         "code": ">>> 0.5 <= obs_stat_out <= 1.0\nTrue",
         "hidden": false,
         "locked": false,
         "points": 1
        },
        {
         "code": ">>> isinstance(simulate_bhbe_out, np.ndarray)\nTrue",
         "hidden": false,
         "locked": false,
         "points": 1
        },
        {
         "code": ">>> simulate_bhbe_out.shape[0] == 10\nTrue",
         "hidden": false,
         "locked": false,
         "points": 1
        },
        {
         "code": ">>> ((0.45 <= simulate_bhbe_out) & (simulate_bhbe_out <= 1)).all()\nTrue",
         "hidden": false,
         "locked": false,
         "points": 1
        },
        {
         "code": ">>> len(pval_out) == 2\nTrue",
         "hidden": false,
         "locked": false,
         "points": 1
        },
        {
         "code": ">>> 0 <= pval_out[0] <= 1\nTrue",
         "hidden": false,
         "locked": false,
         "points": 1
        },
        {
         "code": ">>> pval_out[1] in ['Reject', 'Fail to reject']\nTrue",
         "hidden": false,
         "locked": false,
         "points": 1
        }
       ],
       "scored": true,
       "setup": "",
       "teardown": "",
       "type": "doctest"
      }
     ]
    },
    "q7": {
     "name": "q7",
     "points": null,
     "suites": [
      {
       "cases": [
        {
         "code": ">>> isinstance(q7_diff_of_means_out, float)\nTrue",
         "hidden": false,
         "locked": false,
         "points": 0.5
        },
        {
         "code": ">>> isinstance(q7_simulate_null_out, float)\nTrue",
         "hidden": false,
         "locked": false,
         "points": 0.5
        },
        {
         "code": ">>> 0 <= q7_simulate_null_out <= 1.0\nTrue",
         "hidden": false,
         "locked": false,
         "points": 0.5
        },
        {
         "code": ">>> isinstance(q7_pval_out, float)\nTrue",
         "hidden": false,
         "locked": false,
         "points": 0.5
        },
        {
         "code": ">>> 0 <= q7_pval_out <= 1\nTrue",
         "hidden": false,
         "locked": false,
         "points": 0.5
        },
        {
         "code": ">>> q7_diff_of_means_out > 0\nTrue",
         "failure_message": "should be greater than zero",
         "hidden": false,
         "locked": false,
         "points": 1
        }
       ],
       "scored": true,
       "setup": "",
       "teardown": "",
       "type": "doctest"
      }
     ]
    },
    "q8": {
     "name": "q8",
     "points": null,
     "suites": [
      {
       "cases": [
        {
         "code": ">>> len(q8_out) == 5\nTrue",
         "hidden": false,
         "locked": false,
         "points": 0.5
        },
        {
         "code": ">>> set([x[0] for x in q8_out]) == q8_colors\nTrue",
         "hidden": false,
         "locked": false,
         "points": 0.5
        },
        {
         "code": ">>> all([isinstance(x[1], float) for x in q8_out])\nTrue",
         "hidden": false,
         "locked": false,
         "points": 0.5
        },
        {
         "code": ">>> q8_test_colors.index('green') > q8_test_colors.index('yellow')\nTrue",
         "failure_message": "yellow less than green",
         "hidden": false,
         "locked": false,
         "points": 1
        },
        {
         "code": ">>> np.isclose(q8_out[0][1], 0.0)\nTrue",
         "failure_message": "smallest pval",
         "hidden": false,
         "locked": false,
         "points": 1
        }
       ],
       "scored": true,
       "setup": "",
       "teardown": "",
       "type": "doctest"
      }
     ]
    },
    "q9": {
     "name": "q9",
     "points": null,
     "suites": [
      {
       "cases": [
        {
         "code": ">>> isinstance(q9_out, tuple)\nTrue",
         "failure_message": "tuple",
         "hidden": false,
         "locked": false,
         "points": 0.5
        },
        {
         "code": ">>> isinstance(q9_out[0], float)\nTrue",
         "failure_message": "wrong output type at index 0",
         "hidden": false,
         "locked": false,
         "points": 1
        },
        {
         "code": ">>> q9_out[1] in ['Fail to Reject', 'Reject']\nTrue",
         "failure_message": "wrong output type at index 1",
         "hidden": false,
         "locked": false,
         "points": 1
        },
        {
         "code": ">>> np.isclose(q9_out[0], 0.005, atol=0.25)\nTrue",
         "failure_message": "p-value, approximate within 0.25",
         "hidden": false,
         "locked": false,
         "points": 1
        },
        {
         "code": ">>> np.isclose(q9_out[0], 0.005, atol=0.5)\nTrue",
         "failure_message": "p-value, approximate within 0.5",
         "hidden": false,
         "locked": false,
         "points": 1
        }
       ],
       "scored": true,
       "setup": "",
       "teardown": "",
       "type": "doctest"
      }
     ]
    }
   }
  }
 },
 "nbformat": 4,
 "nbformat_minor": 2
}
