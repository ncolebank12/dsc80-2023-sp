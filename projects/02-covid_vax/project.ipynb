{
 "cells": [
  {
   "cell_type": "code",
   "execution_count": 1,
   "metadata": {
    "deletable": false,
    "editable": false
   },
   "outputs": [],
   "source": [
    "# Initialize Otter\n",
    "import otter\n",
    "grader = otter.Notebook(\"project.ipynb\")"
   ]
  },
  {
   "cell_type": "markdown",
   "metadata": {},
   "source": [
    "# Project 2 – COVID Vaccinations 🦠\n",
    "\n",
    "## DSC 80, Winter 2023\n",
    "\n",
    "### Checkpoint Due Date: Thursday, April 27th (Questions 1, 2, 6, 8, and 10)\n",
    "### Due Date: Thursday, May 4th"
   ]
  },
  {
   "cell_type": "markdown",
   "metadata": {},
   "source": [
    "## Instructions\n",
    "\n",
    "---\n",
    "\n",
    "### Working on the Project\n",
    "\n",
    "This Jupyter Notebook contains the statements of the problems and provides code and Markdown cells to display your answers to the problems.\n",
    "\n",
    "* Like the lab, your coding work will be developed in the accompanying `project.py` file, that will be imported into the current notebook. This code will be autograded.\n",
    "* There is no manually-graded component to Project 2, so the only thing you will ever submit is `project.py`.\n",
    "* **For the Checkpoint, which is required, you only need to turn in a `project.py` containing solutions for Questions 1, 2, 6, 8, and 10!**\n",
    "    - The \"Project 2 Checkpoint\" autograder on Gradescope does not thoroughly check your code – it only runs the public tests on Questions 1, 2, 6, 8, and 10 to make sure that you have completed them. There are no hidden tests for the checkpoint, and you will see your score upon submission. \n",
    "    - When you submit the final version of the project, however, we will use hidden tests to check your answers more thoroughly.\n",
    "    - Note that this means you will ultimately have to submit the project twice – once to the \"Project 2 Checkpoint\" autograder (Questions 1, 2, 6, 8, and 10) and once to the \"Project 2\" autograder (once you're fully done).\n",
    "- **Do not change the function names in the `project.py` file!** The functions in the `project.py` file are how your assignment is graded, and they are graded by their name. If you changed something you weren't supposed to, you can find the original code in the [course GitHub repository](https://github.com/dsc-courses/dsc80-2023-wi).\n",
    "- **To ensure that all of your work to be submitted is in `project.py`, we've provided an additional uneditable notebook, called `project-validation.ipynb`, that contains only the tests and their setup. Make sure you are able to run it top-to-bottom without error before submitting!**\n",
    "- You are encouraged to write your own additional helper functions to solve the project, as long as they also end up in `project.py`.\n",
    "\n",
    "### Warning! 🚨\n",
    "\n",
    "This project contains larger datasets than usual. They aren't huge, but they aren't tiny. The autograder has been set to allow more memory usage than usual, but if you write inefficient code you may exhaust all of the allocated memory, causing the autograder to fail. If this happens, the autograder will say that your submission was formatted incorrectly.\n",
    "\n",
    "**Writing efficient code is part of the project!** Be sure to submit your code to the Gradescope autograder regularly to check that it is efficient enough. If your code fails to run on the autograder due to efficiency reasons and it is past the late deadline, we will perform a \"catastrophic regrade\" by removing your inefficient code (deleting that function definition) and charging the usual cost of two slip days. This is expensive, so be sure to check that your code works with the autograder with plenty of time before the deadline!\n",
    "\n",
    "\n",
    "### Working with a Partner 👯\n",
    "\n",
    "You may work together on projects (and projects only!) with a partner. If you work with a partner, you are both required to actively contribute to all parts of the project. You must both be working on the assignment at the same time together, either physically or virtually on a Zoom call. You are encouraged to follow the pair programming model, in which you work on just a single computer and alternate who writes the code and who thinks about the problems at a high level.\n",
    "\n",
    "In particular, you **cannot** split up the project and each work on separate parts independently.\n",
    "\n",
    "Note that if you do work with a partner, you and your partner must submit the Checkpoint together and the whole project together. See [here](https://dsc80.com/syllabus/#projects) for more details."
   ]
  },
  {
   "cell_type": "code",
   "execution_count": 2,
   "metadata": {},
   "outputs": [],
   "source": [
    "%load_ext autoreload\n",
    "%autoreload 2"
   ]
  },
  {
   "cell_type": "code",
   "execution_count": 3,
   "metadata": {},
   "outputs": [],
   "source": [
    "import numpy as np\n",
    "import pandas as pd\n",
    "import os\n",
    "\n",
    "from IPython.display import clear_output\n",
    "\n",
    "import pathlib\n",
    "import urllib.request"
   ]
  },
  {
   "cell_type": "code",
   "execution_count": 4,
   "metadata": {},
   "outputs": [],
   "source": [
    "from project import *"
   ]
  },
  {
   "cell_type": "markdown",
   "metadata": {},
   "source": [
    "In addition to the above usual imports, we'll need a few packages that aren't included in the standard `dsc80` conda environment we had you configure. \n",
    "\n",
    "Before running the cell below for the first time, run the following lines in your Terminal after activating your `dsc80` conda environment, and then restart your kernel. If you've already installed these packages, you should be able to run this cell without error.\n",
    "\n",
    "```\n",
    "pip install ipywidgets\n",
    "jupyter nbextension enable --py --sys-prefix widgetsnbextension\n",
    "pip install plotly\n",
    "```"
   ]
  },
  {
   "cell_type": "code",
   "execution_count": 5,
   "metadata": {},
   "outputs": [],
   "source": [
    "from ipywidgets import widgets, interact, FloatSlider\n",
    "import plotly.express as px"
   ]
  },
  {
   "cell_type": "markdown",
   "metadata": {},
   "source": [
    "## About the Assignment 🧐\n",
    "\n",
    "Data science has been an important tool in understanding the development of the COVID-19 pandemic. In this project, we'll take a took at two real-world datasets that measure vaccination rates and effectiveness.\n",
    "\n",
    "---\n",
    "\n",
    "<a name='outline'></a>\n",
    "\n",
    "### Navigating the Project 🗺\n",
    "\n",
    "Click on the links below to navigate to different parts of the project. Note that Questions 1, 2, 6, 8, and 10 constitute your Checkpoint submission.\n",
    "\n",
    "- [Part 1: Global Vaccination Rates 🌎](#part1)\n",
    "    - [Question 1 (✅ Checkpoint Question)](#Question-1)\n",
    "    - [Question 2 (✅ Checkpoint Question)](#Question-2)\n",
    "    - [Question 3](#Question-3)\n",
    "    - [Question 4](#Question-4)\n",
    "    - [Question 5](#Question-5)\n",
    "- [Part 2: Vaccine Effectiveness 💉](#part2)\n",
    "    - [Question 6 (✅ Checkpoint Question)](#Question-6)\n",
    "    - [Question 7](#Question-7)\n",
    "    - [Question 8 (✅ Checkpoint Question)](#Question-8)\n",
    "    - [Question 9](#Question-9)\n",
    "    - [Question 10 (✅ Checkpoint Question)](#Question-10)\n",
    "    - [Question 11](#Question-11)\n",
    "\n",
    "---\n",
    "\n",
    "The file `data/covid_vaccinations.csv` contains information on the number of COVID vaccinations that have been administered in various countries and regions of the world, as of January 20th, 2023:"
   ]
  },
  {
   "cell_type": "code",
   "execution_count": 6,
   "metadata": {
    "scrolled": false
   },
   "outputs": [
    {
     "data": {
      "text/html": [
       "<div>\n",
       "<style scoped>\n",
       "    .dataframe tbody tr th:only-of-type {\n",
       "        vertical-align: middle;\n",
       "    }\n",
       "\n",
       "    .dataframe tbody tr th {\n",
       "        vertical-align: top;\n",
       "    }\n",
       "\n",
       "    .dataframe thead th {\n",
       "        text-align: right;\n",
       "    }\n",
       "</style>\n",
       "<table border=\"1\" class=\"dataframe\">\n",
       "  <thead>\n",
       "    <tr style=\"text-align: right;\">\n",
       "      <th></th>\n",
       "      <th>Date</th>\n",
       "      <th>Country_Region</th>\n",
       "      <th>Doses_admin</th>\n",
       "      <th>People_at_least_one_dose</th>\n",
       "    </tr>\n",
       "  </thead>\n",
       "  <tbody>\n",
       "    <tr>\n",
       "      <th>0</th>\n",
       "      <td>2020-12-29</td>\n",
       "      <td>Austria</td>\n",
       "      <td>2.123000e+03</td>\n",
       "      <td>2123</td>\n",
       "    </tr>\n",
       "    <tr>\n",
       "      <th>1</th>\n",
       "      <td>2020-12-29</td>\n",
       "      <td>Bahrain</td>\n",
       "      <td>5.501400e+04</td>\n",
       "      <td>55014</td>\n",
       "    </tr>\n",
       "    <tr>\n",
       "      <th>2</th>\n",
       "      <td>2020-12-29</td>\n",
       "      <td>Belarus</td>\n",
       "      <td>0.000000e+00</td>\n",
       "      <td>0</td>\n",
       "    </tr>\n",
       "    <tr>\n",
       "      <th>3</th>\n",
       "      <td>2020-12-29</td>\n",
       "      <td>Belgium</td>\n",
       "      <td>3.400000e+02</td>\n",
       "      <td>340</td>\n",
       "    </tr>\n",
       "    <tr>\n",
       "      <th>4</th>\n",
       "      <td>2020-12-29</td>\n",
       "      <td>Canada</td>\n",
       "      <td>5.907900e+04</td>\n",
       "      <td>59078</td>\n",
       "    </tr>\n",
       "    <tr>\n",
       "      <th>...</th>\n",
       "      <td>...</td>\n",
       "      <td>...</td>\n",
       "      <td>...</td>\n",
       "      <td>...</td>\n",
       "    </tr>\n",
       "    <tr>\n",
       "      <th>133517</th>\n",
       "      <td>2023-01-20</td>\n",
       "      <td>West Bank and Gaza</td>\n",
       "      <td>3.748571e+06</td>\n",
       "      <td>2012767</td>\n",
       "    </tr>\n",
       "    <tr>\n",
       "      <th>133518</th>\n",
       "      <td>2023-01-20</td>\n",
       "      <td>World</td>\n",
       "      <td>1.325698e+10</td>\n",
       "      <td>5514130774</td>\n",
       "    </tr>\n",
       "    <tr>\n",
       "      <th>133519</th>\n",
       "      <td>2023-01-20</td>\n",
       "      <td>Yemen</td>\n",
       "      <td>1.242982e+06</td>\n",
       "      <td>1006274</td>\n",
       "    </tr>\n",
       "    <tr>\n",
       "      <th>133520</th>\n",
       "      <td>2023-01-20</td>\n",
       "      <td>Zambia</td>\n",
       "      <td>1.361498e+07</td>\n",
       "      <td>10959569</td>\n",
       "    </tr>\n",
       "    <tr>\n",
       "      <th>133521</th>\n",
       "      <td>2023-01-20</td>\n",
       "      <td>Zimbabwe</td>\n",
       "      <td>1.269485e+07</td>\n",
       "      <td>6558577</td>\n",
       "    </tr>\n",
       "  </tbody>\n",
       "</table>\n",
       "<p>133522 rows × 4 columns</p>\n",
       "</div>"
      ],
      "text/plain": [
       "              Date      Country_Region   Doses_admin  People_at_least_one_dose\n",
       "0       2020-12-29             Austria  2.123000e+03                      2123\n",
       "1       2020-12-29             Bahrain  5.501400e+04                     55014\n",
       "2       2020-12-29             Belarus  0.000000e+00                         0\n",
       "3       2020-12-29             Belgium  3.400000e+02                       340\n",
       "4       2020-12-29              Canada  5.907900e+04                     59078\n",
       "...            ...                 ...           ...                       ...\n",
       "133517  2023-01-20  West Bank and Gaza  3.748571e+06                   2012767\n",
       "133518  2023-01-20               World  1.325698e+10                5514130774\n",
       "133519  2023-01-20               Yemen  1.242982e+06                   1006274\n",
       "133520  2023-01-20              Zambia  1.361498e+07                  10959569\n",
       "133521  2023-01-20            Zimbabwe  1.269485e+07                   6558577\n",
       "\n",
       "[133522 rows x 4 columns]"
      ]
     },
     "execution_count": 6,
     "metadata": {},
     "output_type": "execute_result"
    }
   ],
   "source": [
    "vacs = pd.read_csv(os.path.join('data', 'covid_vaccinations.csv'))\n",
    "vacs"
   ]
  },
  {
   "cell_type": "markdown",
   "metadata": {},
   "source": [
    "<a name='part1'></a>\n",
    "\n",
    "## Part 1: Global Vaccination Rates 🌎\n",
    "\n",
    "One question we might hope to answer with this data is, **in each country, what is the average number of doses received?** In countries that have been more proactive about booster rollouts, you might expect this number to be much higher than 2. \n",
    "\n",
    "<br>\n",
    "\n",
    "<center><b>What do you think this number is for the US?</b></center>\n",
    "\n",
    "Eventually, to answer this question, you will create a **[choropleth](https://en.wikipedia.org/wiki/Choropleth_map)**, like the one below.\n",
    "\n",
    "<img src='data/choropleth-example.png' width=70%>\n",
    "\n",
    "We may think that we can use this data directly for getting the vaccination rate but unfortunately, the messiness of real-world data means that answering this question requires a bit of cleaning and organization. We'll do this cleaning and organization in the next few questions.\n",
    "\n",
    "First, we need to find the total number of vaccinated individuals in each country/region. To do this, we have to understand what the values in the `'Doses_admin'` column mean. Are they the number people vaccinated on *that day*? Or are they the *cumulative* number of vaccinated people? This can be answered with a plot. Run the cell below to display an ✨ **interactive** ✨ plot that displays the `'Doses_admin'` column for any country you select."
   ]
  },
  {
   "cell_type": "code",
   "execution_count": 7,
   "metadata": {},
   "outputs": [
    {
     "data": {
      "application/vnd.jupyter.widget-view+json": {
       "model_id": "a6bc2991deee4d4f81f08406dd8ab534",
       "version_major": 2,
       "version_minor": 0
      },
      "text/plain": [
       "Dropdown(index=179, options=('Afghanistan', 'Albania', 'Algeria', 'Andorra', 'Angola', 'Antigua and Barbuda', …"
      ]
     },
     "metadata": {},
     "output_type": "display_data"
    },
    {
     "data": {
      "application/vnd.plotly.v1+json": {
       "config": {
        "plotlyServerURL": "https://plot.ly"
       },
       "data": [
        {
         "hovertemplate": "Date=%{x}<br>Doses_admin=%{y}<extra></extra>",
         "legendgroup": "",
         "line": {
          "color": "#636efa",
          "dash": "solid"
         },
         "marker": {
          "symbol": "circle"
         },
         "mode": "lines",
         "name": "",
         "orientation": "v",
         "showlegend": false,
         "type": "scatter",
         "x": [
          "2020-12-29",
          "2020-12-30",
          "2020-12-31",
          "2021-01-01",
          "2021-01-02",
          "2021-01-03",
          "2021-01-04",
          "2021-01-05",
          "2021-01-06",
          "2021-01-07",
          "2021-01-08",
          "2021-01-09",
          "2021-01-10",
          "2021-01-11",
          "2021-01-12",
          "2021-01-13",
          "2021-01-14",
          "2021-01-15",
          "2021-01-16",
          "2021-01-17",
          "2021-01-18",
          "2021-01-19",
          "2021-01-20",
          "2021-01-21",
          "2021-01-22",
          "2021-01-23",
          "2021-01-24",
          "2021-01-25",
          "2021-01-26",
          "2021-01-27",
          "2021-01-28",
          "2021-01-29",
          "2021-01-30",
          "2021-01-31",
          "2021-02-01",
          "2021-02-02",
          "2021-02-03",
          "2021-02-04",
          "2021-02-05",
          "2021-02-06",
          "2021-02-07",
          "2021-02-08",
          "2021-02-09",
          "2021-02-10",
          "2021-02-11",
          "2021-02-12",
          "2021-02-13",
          "2021-02-14",
          "2021-02-15",
          "2021-02-16",
          "2021-02-17",
          "2021-02-18",
          "2021-02-19",
          "2021-02-20",
          "2021-02-21",
          "2021-02-22",
          "2021-02-23",
          "2021-02-24",
          "2021-02-25",
          "2021-02-26",
          "2021-02-27",
          "2021-02-28",
          "2021-03-01",
          "2021-03-02",
          "2021-03-03",
          "2021-03-04",
          "2021-03-05",
          "2021-03-06",
          "2021-03-07",
          "2021-03-08",
          "2021-03-09",
          "2021-03-10",
          "2021-03-11",
          "2021-03-12",
          "2021-03-13",
          "2021-03-14",
          "2021-03-15",
          "2021-03-16",
          "2021-03-17",
          "2021-03-18",
          "2021-03-19",
          "2021-03-20",
          "2021-03-21",
          "2021-03-22",
          "2021-03-23",
          "2021-03-24",
          "2021-03-25",
          "2021-03-26",
          "2021-03-27",
          "2021-03-28",
          "2021-03-29",
          "2021-03-30",
          "2021-03-31",
          "2021-04-01",
          "2021-04-02",
          "2021-04-03",
          "2021-04-04",
          "2021-04-05",
          "2021-04-06",
          "2021-04-07",
          "2021-04-08",
          "2021-04-09",
          "2021-04-10",
          "2021-04-11",
          "2021-04-12",
          "2021-04-13",
          "2021-04-14",
          "2021-04-15",
          "2021-04-16",
          "2021-04-17",
          "2021-04-18",
          "2021-04-19",
          "2021-04-20",
          "2021-04-21",
          "2021-04-22",
          "2021-04-23",
          "2021-04-24",
          "2021-04-25",
          "2021-04-26",
          "2021-04-27",
          "2021-04-28",
          "2021-04-29",
          "2021-04-30",
          "2021-05-01",
          "2021-05-02",
          "2021-05-03",
          "2021-05-04",
          "2021-05-05",
          "2021-05-06",
          "2021-05-07",
          "2021-05-08",
          "2021-05-09",
          "2021-05-10",
          "2021-05-11",
          "2021-05-12",
          "2021-05-13",
          "2021-05-14",
          "2021-05-15",
          "2021-05-16",
          "2021-05-17",
          "2021-05-18",
          "2021-05-19",
          "2021-05-20",
          "2021-05-21",
          "2021-05-22",
          "2021-05-23",
          "2021-05-24",
          "2021-05-25",
          "2021-05-26",
          "2021-05-27",
          "2021-05-28",
          "2021-05-29",
          "2021-05-30",
          "2021-05-31",
          "2021-06-01",
          "2021-06-02",
          "2021-06-03",
          "2021-06-04",
          "2021-06-05",
          "2021-06-06",
          "2021-06-07",
          "2021-06-08",
          "2021-06-09",
          "2021-06-10",
          "2021-06-11",
          "2021-06-12",
          "2021-06-13",
          "2021-06-14",
          "2021-06-15",
          "2021-06-16",
          "2021-06-17",
          "2021-06-18",
          "2021-06-19",
          "2021-06-20",
          "2021-06-21",
          "2021-06-22",
          "2021-06-23",
          "2021-06-24",
          "2021-06-25",
          "2021-06-26",
          "2021-06-27",
          "2021-06-28",
          "2021-06-29",
          "2021-06-30",
          "2021-07-01",
          "2021-07-02",
          "2021-07-03",
          "2021-07-04",
          "2021-07-05",
          "2021-07-06",
          "2021-07-07",
          "2021-07-08",
          "2021-07-09",
          "2021-07-10",
          "2021-07-11",
          "2021-07-12",
          "2021-07-13",
          "2021-07-14",
          "2021-07-15",
          "2021-07-16",
          "2021-07-17",
          "2021-07-18",
          "2021-07-19",
          "2021-07-20",
          "2021-07-21",
          "2021-07-22",
          "2021-07-23",
          "2021-07-24",
          "2021-07-25",
          "2021-07-26",
          "2021-07-27",
          "2021-07-28",
          "2021-07-29",
          "2021-07-30",
          "2021-07-31",
          "2021-08-01",
          "2021-08-02",
          "2021-08-03",
          "2021-08-04",
          "2021-08-05",
          "2021-08-06",
          "2021-08-07",
          "2021-08-08",
          "2021-08-09",
          "2021-08-10",
          "2021-08-11",
          "2021-08-12",
          "2021-08-13",
          "2021-08-14",
          "2021-08-15",
          "2021-08-16",
          "2021-08-17",
          "2021-08-18",
          "2021-08-19",
          "2021-08-20",
          "2021-08-21",
          "2021-08-22",
          "2021-08-23",
          "2021-08-24",
          "2021-08-25",
          "2021-08-26",
          "2021-08-27",
          "2021-08-28",
          "2021-08-29",
          "2021-08-30",
          "2021-08-31",
          "2021-09-01",
          "2021-09-02",
          "2021-09-03",
          "2021-09-04",
          "2021-09-05",
          "2021-09-06",
          "2021-09-07",
          "2021-09-08",
          "2021-09-09",
          "2021-09-10",
          "2021-09-11",
          "2021-09-12",
          "2021-09-13",
          "2021-09-14",
          "2021-09-15",
          "2021-09-16",
          "2021-09-17",
          "2021-09-18",
          "2021-09-19",
          "2021-09-20",
          "2021-09-21",
          "2021-09-22",
          "2021-09-23",
          "2021-09-24",
          "2021-09-25",
          "2021-09-26",
          "2021-09-27",
          "2021-09-28",
          "2021-09-29",
          "2021-09-30",
          "2021-10-01",
          "2021-10-02",
          "2021-10-03",
          "2021-10-04",
          "2021-10-05",
          "2021-10-06",
          "2021-10-07",
          "2021-10-08",
          "2021-10-09",
          "2021-10-10",
          "2021-10-11",
          "2021-10-12",
          "2021-10-13",
          "2021-10-14",
          "2021-10-15",
          "2021-10-16",
          "2021-10-17",
          "2021-10-18",
          "2021-10-19",
          "2021-10-20",
          "2021-10-21",
          "2021-10-22",
          "2021-10-23",
          "2021-10-24",
          "2021-10-25",
          "2021-10-26",
          "2021-10-27",
          "2021-10-28",
          "2021-10-29",
          "2021-10-30",
          "2021-10-31",
          "2021-11-01",
          "2021-11-02",
          "2021-11-03",
          "2021-11-04",
          "2021-11-05",
          "2021-11-06",
          "2021-11-07",
          "2021-11-08",
          "2021-11-09",
          "2021-11-10",
          "2021-11-11",
          "2021-11-12",
          "2021-11-13",
          "2021-11-14",
          "2021-11-15",
          "2021-11-16",
          "2021-11-17",
          "2021-11-18",
          "2021-11-19",
          "2021-11-20",
          "2021-11-21",
          "2021-11-22",
          "2021-11-23",
          "2021-11-24",
          "2021-11-25",
          "2021-11-26",
          "2021-11-27",
          "2021-11-28",
          "2021-11-29",
          "2021-11-30",
          "2021-12-01",
          "2021-12-02",
          "2021-12-03",
          "2021-12-04",
          "2021-12-05",
          "2021-12-06",
          "2021-12-07",
          "2021-12-08",
          "2021-12-09",
          "2021-12-10",
          "2021-12-11",
          "2021-12-12",
          "2021-12-13",
          "2021-12-14",
          "2021-12-15",
          "2021-12-16",
          "2021-12-17",
          "2021-12-18",
          "2021-12-19",
          "2021-12-20",
          "2021-12-21",
          "2021-12-22",
          "2021-12-23",
          "2021-12-24",
          "2021-12-25",
          "2021-12-26",
          "2021-12-27",
          "2021-12-28",
          "2021-12-29",
          "2021-12-30",
          "2021-12-31",
          "2022-01-01",
          "2022-01-02",
          "2022-01-03",
          "2022-01-04",
          "2022-01-05",
          "2022-01-06",
          "2022-01-07",
          "2022-01-08",
          "2022-01-09",
          "2022-01-10",
          "2022-01-11",
          "2022-01-12",
          "2022-01-13",
          "2022-01-14",
          "2022-01-15",
          "2022-01-16",
          "2022-01-17",
          "2022-01-18",
          "2022-01-19",
          "2022-01-20",
          "2022-01-21",
          "2022-01-22",
          "2022-01-23",
          "2022-01-24",
          "2022-01-25",
          "2022-01-26",
          "2022-01-27",
          "2022-01-28",
          "2022-01-29",
          "2022-01-30",
          "2022-01-31",
          "2022-02-01",
          "2022-02-02",
          "2022-02-03",
          "2022-02-04",
          "2022-02-05",
          "2022-02-06",
          "2022-02-07",
          "2022-02-08",
          "2022-02-09",
          "2022-02-10",
          "2022-02-11",
          "2022-02-12",
          "2022-02-13",
          "2022-02-14",
          "2022-02-15",
          "2022-02-16",
          "2022-02-17",
          "2022-02-18",
          "2022-02-19",
          "2022-02-20",
          "2022-02-21",
          "2022-02-22",
          "2022-02-23",
          "2022-02-24",
          "2022-02-25",
          "2022-02-26",
          "2022-02-27",
          "2022-02-28",
          "2022-03-01",
          "2022-03-02",
          "2022-03-03",
          "2022-03-04",
          "2022-03-05",
          "2022-03-06",
          "2022-03-07",
          "2022-03-08",
          "2022-03-09",
          "2022-03-10",
          "2022-03-11",
          "2022-03-12",
          "2022-03-13",
          "2022-03-14",
          "2022-03-15",
          "2022-03-16",
          "2022-03-17",
          "2022-03-18",
          "2022-03-19",
          "2022-03-20",
          "2022-03-21",
          "2022-03-22",
          "2022-03-23",
          "2022-03-24",
          "2022-03-25",
          "2022-03-26",
          "2022-03-27",
          "2022-03-28",
          "2022-03-29",
          "2022-03-30",
          "2022-03-31",
          "2022-04-01",
          "2022-04-02",
          "2022-04-03",
          "2022-04-04",
          "2022-04-05",
          "2022-04-06",
          "2022-04-07",
          "2022-04-08",
          "2022-04-09",
          "2022-04-10",
          "2022-04-11",
          "2022-04-12",
          "2022-04-13",
          "2022-04-14",
          "2022-04-15",
          "2022-04-16",
          "2022-04-17",
          "2022-04-18",
          "2022-04-19",
          "2022-04-20",
          "2022-04-21",
          "2022-04-22",
          "2022-04-23",
          "2022-04-24",
          "2022-04-25",
          "2022-04-26",
          "2022-04-27",
          "2022-04-28",
          "2022-04-29",
          "2022-04-30",
          "2022-05-01",
          "2022-05-02",
          "2022-05-03",
          "2022-05-04",
          "2022-05-05",
          "2022-05-06",
          "2022-05-07",
          "2022-05-08",
          "2022-05-09",
          "2022-05-10",
          "2022-05-11",
          "2022-05-12",
          "2022-05-13",
          "2022-05-14",
          "2022-05-15",
          "2022-05-16",
          "2022-05-17",
          "2022-05-18",
          "2022-05-19",
          "2022-05-20",
          "2022-05-21",
          "2022-05-22",
          "2022-05-23",
          "2022-05-24",
          "2022-05-25",
          "2022-05-26",
          "2022-05-27",
          "2022-05-28",
          "2022-05-29",
          "2022-05-30",
          "2022-05-31",
          "2022-06-01",
          "2022-06-02",
          "2022-06-03",
          "2022-06-04",
          "2022-06-05",
          "2022-06-06",
          "2022-06-07",
          "2022-06-08",
          "2022-06-09",
          "2022-06-10",
          "2022-06-11",
          "2022-06-12",
          "2022-06-13",
          "2022-06-14",
          "2022-06-15",
          "2022-06-16",
          "2022-06-17",
          "2022-06-18",
          "2022-06-19",
          "2022-06-20",
          "2022-06-21",
          "2022-06-22",
          "2022-06-23",
          "2022-06-24",
          "2022-06-25",
          "2022-06-26",
          "2022-06-27",
          "2022-06-28",
          "2022-06-29",
          "2022-06-30",
          "2022-07-01",
          "2022-07-02",
          "2022-07-03",
          "2022-07-04",
          "2022-07-05",
          "2022-07-06",
          "2022-07-07",
          "2022-07-08",
          "2022-07-09",
          "2022-07-10",
          "2022-07-11",
          "2022-07-12",
          "2022-07-13",
          "2022-07-14",
          "2022-07-15",
          "2022-07-16",
          "2022-07-17",
          "2022-07-18",
          "2022-07-19",
          "2022-07-20",
          "2022-07-21",
          "2022-07-22",
          "2022-07-23",
          "2022-07-24",
          "2022-07-25",
          "2022-07-26",
          "2022-07-27",
          "2022-07-28",
          "2022-07-29",
          "2022-07-30",
          "2022-07-31",
          "2022-08-01",
          "2022-08-02",
          "2022-08-03",
          "2022-08-04",
          "2022-08-05",
          "2022-08-06",
          "2022-08-07",
          "2022-08-08",
          "2022-08-09",
          "2022-08-10",
          "2022-08-11",
          "2022-08-12",
          "2022-08-13",
          "2022-08-14",
          "2022-08-15",
          "2022-08-16",
          "2022-08-17",
          "2022-08-18",
          "2022-08-19",
          "2022-08-20",
          "2022-08-21",
          "2022-08-22",
          "2022-08-23",
          "2022-08-24",
          "2022-08-25",
          "2022-08-26",
          "2022-08-27",
          "2022-08-28",
          "2022-08-29",
          "2022-08-30",
          "2022-08-31",
          "2022-09-01",
          "2022-09-02",
          "2022-09-03",
          "2022-09-04",
          "2022-09-05",
          "2022-09-06",
          "2022-09-07",
          "2022-09-08",
          "2022-09-09",
          "2022-09-10",
          "2022-09-11",
          "2022-09-12",
          "2022-09-13",
          "2022-09-14",
          "2022-09-15",
          "2022-09-16",
          "2022-09-17",
          "2022-09-18",
          "2022-09-19",
          "2022-09-20",
          "2022-09-21",
          "2022-09-22",
          "2022-09-23",
          "2022-09-24",
          "2022-09-25",
          "2022-09-26",
          "2022-09-27",
          "2022-09-28",
          "2022-09-29",
          "2022-09-30",
          "2022-10-01",
          "2022-10-02",
          "2022-10-03",
          "2022-10-04",
          "2022-10-05",
          "2022-10-06",
          "2022-10-07",
          "2022-10-08",
          "2022-10-09",
          "2022-10-10",
          "2022-10-11",
          "2022-10-12",
          "2022-10-13",
          "2022-10-14",
          "2022-10-15",
          "2022-10-16",
          "2022-10-17",
          "2022-10-18",
          "2022-10-19",
          "2022-10-20",
          "2022-10-21",
          "2022-10-22",
          "2022-10-23",
          "2022-10-24",
          "2022-10-25",
          "2022-10-26",
          "2022-10-27",
          "2022-10-28",
          "2022-10-29",
          "2022-10-30",
          "2022-10-31",
          "2022-11-01",
          "2022-11-02",
          "2022-11-03",
          "2022-11-04",
          "2022-11-05",
          "2022-11-06",
          "2022-11-07",
          "2022-11-08",
          "2022-11-09",
          "2022-11-10",
          "2022-11-11",
          "2022-11-12",
          "2022-11-13",
          "2022-11-14",
          "2022-11-15",
          "2022-11-16",
          "2022-11-17",
          "2022-11-18",
          "2022-11-19",
          "2022-11-20",
          "2022-11-21",
          "2022-11-22",
          "2022-11-23",
          "2022-11-24",
          "2022-11-25",
          "2022-11-26",
          "2022-11-27",
          "2022-11-28",
          "2022-11-29",
          "2022-11-30",
          "2022-12-01",
          "2022-12-02",
          "2022-12-03",
          "2022-12-04",
          "2022-12-05",
          "2022-12-06",
          "2022-12-07",
          "2022-12-08",
          "2022-12-09",
          "2022-12-10",
          "2022-12-11",
          "2022-12-12",
          "2022-12-13",
          "2022-12-14",
          "2022-12-15",
          "2022-12-16",
          "2022-12-17",
          "2022-12-18",
          "2022-12-19",
          "2022-12-20",
          "2022-12-21",
          "2022-12-22",
          "2022-12-23",
          "2022-12-24",
          "2022-12-25",
          "2022-12-26",
          "2022-12-27",
          "2022-12-28",
          "2022-12-29",
          "2022-12-30",
          "2022-12-31",
          "2023-01-01",
          "2023-01-02",
          "2023-01-03",
          "2023-01-04",
          "2023-01-05",
          "2023-01-06",
          "2023-01-07",
          "2023-01-08",
          "2023-01-09",
          "2023-01-10",
          "2023-01-11",
          "2023-01-12",
          "2023-01-13",
          "2023-01-14",
          "2023-01-15",
          "2023-01-16",
          "2023-01-17",
          "2023-01-18",
          "2023-01-19",
          "2023-01-20"
         ],
         "xaxis": "x",
         "y": [
          3702415,
          4430482,
          5279051,
          5704466,
          5832450,
          6100311,
          6241188,
          6905524,
          7744640,
          8773369,
          9949462,
          11192919,
          11704774,
          11958259,
          13035539,
          14299413,
          15632610,
          16957678,
          18224263,
          18874714,
          19177835,
          20067868,
          21422883,
          23037949,
          24681216,
          26328519,
          27240442,
          27644175,
          29025502,
          30696985,
          32634922,
          34604043,
          36528578,
          37551740,
          38014568,
          39424948,
          41134996,
          43285735,
          45640131,
          48005369,
          49310570,
          49754508,
          51340624,
          53321839,
          55639119,
          58058333,
          60660612,
          62139411,
          62733726,
          63933132,
          65561006,
          67534280,
          69399059,
          71372271,
          72685521,
          73286926,
          74756976,
          76703991,
          79240618,
          82187973,
          85311323,
          87309450,
          88167415,
          90256579,
          92732441,
          95649166,
          98860025,
          102101412,
          104171194,
          105106034,
          107280542,
          110003156,
          113147332,
          116615360,
          120066191,
          122263436,
          123249804,
          125532832,
          128424653,
          131595390,
          134997124,
          138316758,
          140481489,
          141508783,
          143864436,
          146923408,
          150475749,
          154299204,
          158111189,
          160588086,
          161801196,
          164635481,
          168225157,
          172397417,
          176969788,
          180616264,
          182924574,
          183691227,
          186794448,
          190769503,
          195130229,
          199632711,
          203947627,
          206841727,
          208244178,
          211270357,
          214755900,
          218464641,
          222225088,
          225839730,
          228210447,
          229347301,
          231939211,
          235180227,
          238669076,
          242177985,
          245488766,
          247704374,
          248700932,
          251101271,
          254008497,
          257110204,
          260171453,
          263095486,
          264963277,
          265845843,
          267816937,
          270326845,
          272889600,
          275424189,
          277945580,
          279488366,
          280105890,
          281718075,
          283775293,
          285801496,
          288089172,
          290551773,
          292406464,
          293343078,
          295174608,
          297257596,
          299354799,
          301383267,
          303454356,
          304909527,
          305569683,
          306897522,
          308341556,
          309782447,
          311137144,
          312474134,
          313242182,
          313628655,
          313832616,
          315117307,
          316243022,
          317497119,
          318907696,
          319983456,
          320502523,
          321580424,
          322762670,
          323936292,
          325112423,
          326351494,
          327248806,
          327644407,
          328563926,
          329548689,
          330499201,
          331398378,
          332326166,
          332903396,
          333181699,
          333746767,
          334506287,
          335246588,
          335949779,
          336720864,
          337222477,
          337491367,
          338048993,
          338680696,
          339315992,
          339931556,
          340555118,
          340913875,
          340964715,
          341363704,
          341950602,
          342524193,
          343093096,
          343727525,
          344129630,
          344347098,
          344870340,
          345399786,
          345934394,
          346478259,
          347103317,
          347504380,
          347738913,
          348308268,
          348912961,
          349546715,
          350200210,
          350949350,
          351414120,
          351675302,
          352321071,
          353025193,
          353748656,
          354472669,
          355313480,
          355832640,
          356170257,
          356895317,
          357662726,
          358445746,
          359244465,
          360160166,
          360723778,
          361077453,
          361866675,
          362672969,
          363448231,
          364258866,
          365213755,
          365844066,
          366247015,
          367123862,
          368054685,
          369015037,
          369967449,
          371083294,
          371755945,
          372149988,
          373075665,
          374031463,
          375004022,
          375999884,
          377177123,
          377893895,
          378327081,
          379264466,
          380207485,
          381159564,
          382060992,
          383107718,
          383671976,
          384040873,
          384219964,
          385135789,
          385987242,
          386841538,
          387883643,
          388487661,
          388841836,
          389628427,
          390384470,
          391154576,
          391921809,
          392832091,
          393358242,
          393670052,
          394373448,
          395056687,
          395727243,
          396408133,
          397397990,
          398073428,
          398484728,
          399518488,
          400657031,
          401803961,
          402976739,
          404322303,
          404956194,
          405324608,
          406315779,
          407339230,
          408379456,
          409420490,
          410588216,
          411126790,
          411443550,
          412301788,
          413237037,
          414152817,
          415071712,
          416134789,
          416630068,
          416901379,
          417739513,
          418569032,
          419414029,
          420281858,
          421670586,
          422503677,
          422978991,
          424514411,
          426089560,
          427723209,
          429344070,
          431145983,
          431970673,
          432411350,
          433909686,
          435424537,
          437006949,
          438662573,
          440597654,
          441646662,
          442209260,
          443689364,
          445344493,
          447136987,
          448750868,
          450759174,
          451945134,
          452529089,
          454097003,
          455796269,
          457573769,
          459379204,
          461474996,
          462718976,
          463371052,
          465204688,
          467010322,
          468410205,
          468439128,
          469655821,
          470556299,
          471152200,
          472832197,
          474778766,
          476977916,
          479168131,
          481640272,
          483137854,
          483874992,
          485724677,
          487652828,
          489597187,
          491539568,
          493672482,
          494939344,
          495575740,
          497206165,
          498942818,
          500679873,
          502384822,
          504340913,
          505469804,
          506114466,
          507968634,
          509954507,
          511833341,
          513305550,
          513688564,
          513695436,
          514177853,
          515713174,
          517416087,
          519103919,
          520649877,
          521267957,
          521382909,
          521882863,
          523130719,
          524553097,
          526013112,
          527481850,
          529138896,
          530191721,
          530691904,
          531957576,
          533272798,
          534594126,
          535894209,
          537371508,
          538165346,
          538558532,
          539388794,
          540394767,
          541380741,
          542324174,
          543414676,
          544039902,
          544373540,
          545175764,
          545984844,
          546782878,
          547578674,
          548541239,
          549014903,
          549281371,
          549916273,
          550536571,
          551113376,
          551638230,
          552299668,
          552741347,
          552956495,
          553444306,
          553950523,
          554466334,
          554980240,
          555609290,
          555958719,
          556112629,
          556456346,
          556861942,
          557280239,
          557691758,
          558222424,
          558506874,
          558662252,
          558981597,
          559337615,
          559684033,
          560016440,
          560413936,
          560658701,
          560782739,
          561101396,
          561383760,
          561644568,
          561901418,
          562222930,
          562406291,
          562496000,
          562708572,
          562925346,
          563140830,
          563356314,
          563618087,
          563761082,
          563835681,
          564033050,
          564239779,
          564449824,
          564649830,
          564905096,
          565051000,
          565127306,
          565317804,
          565502244,
          565696834,
          565887284,
          566121405,
          566246004,
          566310531,
          566484707,
          566683426,
          567086984,
          567644504,
          568307171,
          568653734,
          568864079,
          569425397,
          569982793,
          570562534,
          571148263,
          571825041,
          572164384,
          572361694,
          572944313,
          573561580,
          574146100,
          574737143,
          575307970,
          575569028,
          575628758,
          576144727,
          576688853,
          577226643,
          577733465,
          578228794,
          578490867,
          578625565,
          579055667,
          579514408,
          579991927,
          580473890,
          580988049,
          581231461,
          581365562,
          581759938,
          582182563,
          582601843,
          583015530,
          583472975,
          583680957,
          583772432,
          584164355,
          584588492,
          585014297,
          585450231,
          585925404,
          586165437,
          586296946,
          586686024,
          587098608,
          587520784,
          587963649,
          588478406,
          588749292,
          588903855,
          589343172,
          589773446,
          590191148,
          590595715,
          591044630,
          591246564,
          591359559,
          591391538,
          591768389,
          592140755,
          592502616,
          592905898,
          593098486,
          593205762,
          593526008,
          593845233,
          594168493,
          594482426,
          594830596,
          594993301,
          595080283,
          595350257,
          595629418,
          595913382,
          596195057,
          596494367,
          596626028,
          596688628,
          596924209,
          597194036,
          597479660,
          597765866,
          598075292,
          598238486,
          598317650,
          598571042,
          598837964,
          599110844,
          599391971,
          599670643,
          599785209,
          599844244,
          599857361,
          600109328,
          600375362,
          600648354,
          600955395,
          601102744,
          601181088,
          601450636,
          601751400,
          602097017,
          602463414,
          602878207,
          603091412,
          603207259,
          603566813,
          603926441,
          604270586,
          604633855,
          605046339,
          605247772,
          605347076,
          605656311,
          605975782,
          606283150,
          606588407,
          606909552,
          607048903,
          607117540,
          607358025,
          607614523,
          607865925,
          608112926,
          608377986,
          608501466,
          608564882,
          608783462,
          609009665,
          609222252,
          609438089,
          609675930,
          609782429,
          609835013,
          610030841,
          610233459,
          610433284,
          610625927,
          610837004,
          610923491,
          610966501,
          611130714,
          611304808,
          611477624,
          611646365,
          611824420,
          611901739,
          611939713,
          612079243,
          612225546,
          612357960,
          612449895,
          612538060,
          612593562,
          612635836,
          612648269,
          612823315,
          613220807,
          613645583,
          614195252,
          614512068,
          614713440,
          615260731,
          615790606,
          616360414,
          616936920,
          617634770,
          617972164,
          618165750,
          618777449,
          619401305,
          620082583,
          620757253,
          621562832,
          621940508,
          622155545,
          622863354,
          623562922,
          624285717,
          624994091,
          625807861,
          626171422,
          626377337,
          627085063,
          627799556,
          628582482,
          629345491,
          630205899,
          630610044,
          630829575,
          631557146,
          632305971,
          633111019,
          633878315,
          634748751,
          635127474,
          635336938,
          636083149,
          636822458,
          637593868,
          638337003,
          639166800,
          639540956,
          639745437,
          640470342,
          641212203,
          642027838,
          642788073,
          643619779,
          643982355,
          644171485,
          644758379,
          645365589,
          645992238,
          646601679,
          647322149,
          647654329,
          647827707,
          648388482,
          648927204,
          649453684,
          649980514,
          650543728,
          650810819,
          650957221,
          651413848,
          651807644,
          652206204,
          652587443,
          652998008,
          653188123,
          653285934,
          653464138,
          653502645,
          653502645,
          653502645,
          653502645,
          653502645,
          653502645,
          653502645,
          653502645,
          655280140,
          655280140,
          655280140,
          655280140,
          655280140,
          655280140,
          655280140,
          657927289,
          657927289,
          657927289,
          657927289,
          657927289,
          657927289,
          657927289,
          657927289,
          657927289,
          657927289,
          657927289,
          660400812,
          660400812,
          660400812,
          662148570,
          662148570,
          662148570,
          662148570,
          662148570,
          662148570,
          662148570,
          663822575,
          663822575,
          663822575,
          663822575,
          663822575,
          663822575,
          663822575,
          665076272,
          665076272,
          665076272,
          665076272,
          665076272,
          665076272,
          665076272,
          666511603,
          666511603,
          666511603,
          666511603,
          666511603,
          666511603,
          666511603,
          666511603,
          667815331
         ],
         "yaxis": "y"
        }
       ],
       "layout": {
        "legend": {
         "tracegroupgap": 0
        },
        "template": {
         "data": {
          "bar": [
           {
            "error_x": {
             "color": "#2a3f5f"
            },
            "error_y": {
             "color": "#2a3f5f"
            },
            "marker": {
             "line": {
              "color": "#E5ECF6",
              "width": 0.5
             },
             "pattern": {
              "fillmode": "overlay",
              "size": 10,
              "solidity": 0.2
             }
            },
            "type": "bar"
           }
          ],
          "barpolar": [
           {
            "marker": {
             "line": {
              "color": "#E5ECF6",
              "width": 0.5
             },
             "pattern": {
              "fillmode": "overlay",
              "size": 10,
              "solidity": 0.2
             }
            },
            "type": "barpolar"
           }
          ],
          "carpet": [
           {
            "aaxis": {
             "endlinecolor": "#2a3f5f",
             "gridcolor": "white",
             "linecolor": "white",
             "minorgridcolor": "white",
             "startlinecolor": "#2a3f5f"
            },
            "baxis": {
             "endlinecolor": "#2a3f5f",
             "gridcolor": "white",
             "linecolor": "white",
             "minorgridcolor": "white",
             "startlinecolor": "#2a3f5f"
            },
            "type": "carpet"
           }
          ],
          "choropleth": [
           {
            "colorbar": {
             "outlinewidth": 0,
             "ticks": ""
            },
            "type": "choropleth"
           }
          ],
          "contour": [
           {
            "colorbar": {
             "outlinewidth": 0,
             "ticks": ""
            },
            "colorscale": [
             [
              0,
              "#0d0887"
             ],
             [
              0.1111111111111111,
              "#46039f"
             ],
             [
              0.2222222222222222,
              "#7201a8"
             ],
             [
              0.3333333333333333,
              "#9c179e"
             ],
             [
              0.4444444444444444,
              "#bd3786"
             ],
             [
              0.5555555555555556,
              "#d8576b"
             ],
             [
              0.6666666666666666,
              "#ed7953"
             ],
             [
              0.7777777777777778,
              "#fb9f3a"
             ],
             [
              0.8888888888888888,
              "#fdca26"
             ],
             [
              1,
              "#f0f921"
             ]
            ],
            "type": "contour"
           }
          ],
          "contourcarpet": [
           {
            "colorbar": {
             "outlinewidth": 0,
             "ticks": ""
            },
            "type": "contourcarpet"
           }
          ],
          "heatmap": [
           {
            "colorbar": {
             "outlinewidth": 0,
             "ticks": ""
            },
            "colorscale": [
             [
              0,
              "#0d0887"
             ],
             [
              0.1111111111111111,
              "#46039f"
             ],
             [
              0.2222222222222222,
              "#7201a8"
             ],
             [
              0.3333333333333333,
              "#9c179e"
             ],
             [
              0.4444444444444444,
              "#bd3786"
             ],
             [
              0.5555555555555556,
              "#d8576b"
             ],
             [
              0.6666666666666666,
              "#ed7953"
             ],
             [
              0.7777777777777778,
              "#fb9f3a"
             ],
             [
              0.8888888888888888,
              "#fdca26"
             ],
             [
              1,
              "#f0f921"
             ]
            ],
            "type": "heatmap"
           }
          ],
          "heatmapgl": [
           {
            "colorbar": {
             "outlinewidth": 0,
             "ticks": ""
            },
            "colorscale": [
             [
              0,
              "#0d0887"
             ],
             [
              0.1111111111111111,
              "#46039f"
             ],
             [
              0.2222222222222222,
              "#7201a8"
             ],
             [
              0.3333333333333333,
              "#9c179e"
             ],
             [
              0.4444444444444444,
              "#bd3786"
             ],
             [
              0.5555555555555556,
              "#d8576b"
             ],
             [
              0.6666666666666666,
              "#ed7953"
             ],
             [
              0.7777777777777778,
              "#fb9f3a"
             ],
             [
              0.8888888888888888,
              "#fdca26"
             ],
             [
              1,
              "#f0f921"
             ]
            ],
            "type": "heatmapgl"
           }
          ],
          "histogram": [
           {
            "marker": {
             "pattern": {
              "fillmode": "overlay",
              "size": 10,
              "solidity": 0.2
             }
            },
            "type": "histogram"
           }
          ],
          "histogram2d": [
           {
            "colorbar": {
             "outlinewidth": 0,
             "ticks": ""
            },
            "colorscale": [
             [
              0,
              "#0d0887"
             ],
             [
              0.1111111111111111,
              "#46039f"
             ],
             [
              0.2222222222222222,
              "#7201a8"
             ],
             [
              0.3333333333333333,
              "#9c179e"
             ],
             [
              0.4444444444444444,
              "#bd3786"
             ],
             [
              0.5555555555555556,
              "#d8576b"
             ],
             [
              0.6666666666666666,
              "#ed7953"
             ],
             [
              0.7777777777777778,
              "#fb9f3a"
             ],
             [
              0.8888888888888888,
              "#fdca26"
             ],
             [
              1,
              "#f0f921"
             ]
            ],
            "type": "histogram2d"
           }
          ],
          "histogram2dcontour": [
           {
            "colorbar": {
             "outlinewidth": 0,
             "ticks": ""
            },
            "colorscale": [
             [
              0,
              "#0d0887"
             ],
             [
              0.1111111111111111,
              "#46039f"
             ],
             [
              0.2222222222222222,
              "#7201a8"
             ],
             [
              0.3333333333333333,
              "#9c179e"
             ],
             [
              0.4444444444444444,
              "#bd3786"
             ],
             [
              0.5555555555555556,
              "#d8576b"
             ],
             [
              0.6666666666666666,
              "#ed7953"
             ],
             [
              0.7777777777777778,
              "#fb9f3a"
             ],
             [
              0.8888888888888888,
              "#fdca26"
             ],
             [
              1,
              "#f0f921"
             ]
            ],
            "type": "histogram2dcontour"
           }
          ],
          "mesh3d": [
           {
            "colorbar": {
             "outlinewidth": 0,
             "ticks": ""
            },
            "type": "mesh3d"
           }
          ],
          "parcoords": [
           {
            "line": {
             "colorbar": {
              "outlinewidth": 0,
              "ticks": ""
             }
            },
            "type": "parcoords"
           }
          ],
          "pie": [
           {
            "automargin": true,
            "type": "pie"
           }
          ],
          "scatter": [
           {
            "fillpattern": {
             "fillmode": "overlay",
             "size": 10,
             "solidity": 0.2
            },
            "type": "scatter"
           }
          ],
          "scatter3d": [
           {
            "line": {
             "colorbar": {
              "outlinewidth": 0,
              "ticks": ""
             }
            },
            "marker": {
             "colorbar": {
              "outlinewidth": 0,
              "ticks": ""
             }
            },
            "type": "scatter3d"
           }
          ],
          "scattercarpet": [
           {
            "marker": {
             "colorbar": {
              "outlinewidth": 0,
              "ticks": ""
             }
            },
            "type": "scattercarpet"
           }
          ],
          "scattergeo": [
           {
            "marker": {
             "colorbar": {
              "outlinewidth": 0,
              "ticks": ""
             }
            },
            "type": "scattergeo"
           }
          ],
          "scattergl": [
           {
            "marker": {
             "colorbar": {
              "outlinewidth": 0,
              "ticks": ""
             }
            },
            "type": "scattergl"
           }
          ],
          "scattermapbox": [
           {
            "marker": {
             "colorbar": {
              "outlinewidth": 0,
              "ticks": ""
             }
            },
            "type": "scattermapbox"
           }
          ],
          "scatterpolar": [
           {
            "marker": {
             "colorbar": {
              "outlinewidth": 0,
              "ticks": ""
             }
            },
            "type": "scatterpolar"
           }
          ],
          "scatterpolargl": [
           {
            "marker": {
             "colorbar": {
              "outlinewidth": 0,
              "ticks": ""
             }
            },
            "type": "scatterpolargl"
           }
          ],
          "scatterternary": [
           {
            "marker": {
             "colorbar": {
              "outlinewidth": 0,
              "ticks": ""
             }
            },
            "type": "scatterternary"
           }
          ],
          "surface": [
           {
            "colorbar": {
             "outlinewidth": 0,
             "ticks": ""
            },
            "colorscale": [
             [
              0,
              "#0d0887"
             ],
             [
              0.1111111111111111,
              "#46039f"
             ],
             [
              0.2222222222222222,
              "#7201a8"
             ],
             [
              0.3333333333333333,
              "#9c179e"
             ],
             [
              0.4444444444444444,
              "#bd3786"
             ],
             [
              0.5555555555555556,
              "#d8576b"
             ],
             [
              0.6666666666666666,
              "#ed7953"
             ],
             [
              0.7777777777777778,
              "#fb9f3a"
             ],
             [
              0.8888888888888888,
              "#fdca26"
             ],
             [
              1,
              "#f0f921"
             ]
            ],
            "type": "surface"
           }
          ],
          "table": [
           {
            "cells": {
             "fill": {
              "color": "#EBF0F8"
             },
             "line": {
              "color": "white"
             }
            },
            "header": {
             "fill": {
              "color": "#C8D4E3"
             },
             "line": {
              "color": "white"
             }
            },
            "type": "table"
           }
          ]
         },
         "layout": {
          "annotationdefaults": {
           "arrowcolor": "#2a3f5f",
           "arrowhead": 0,
           "arrowwidth": 1
          },
          "autotypenumbers": "strict",
          "coloraxis": {
           "colorbar": {
            "outlinewidth": 0,
            "ticks": ""
           }
          },
          "colorscale": {
           "diverging": [
            [
             0,
             "#8e0152"
            ],
            [
             0.1,
             "#c51b7d"
            ],
            [
             0.2,
             "#de77ae"
            ],
            [
             0.3,
             "#f1b6da"
            ],
            [
             0.4,
             "#fde0ef"
            ],
            [
             0.5,
             "#f7f7f7"
            ],
            [
             0.6,
             "#e6f5d0"
            ],
            [
             0.7,
             "#b8e186"
            ],
            [
             0.8,
             "#7fbc41"
            ],
            [
             0.9,
             "#4d9221"
            ],
            [
             1,
             "#276419"
            ]
           ],
           "sequential": [
            [
             0,
             "#0d0887"
            ],
            [
             0.1111111111111111,
             "#46039f"
            ],
            [
             0.2222222222222222,
             "#7201a8"
            ],
            [
             0.3333333333333333,
             "#9c179e"
            ],
            [
             0.4444444444444444,
             "#bd3786"
            ],
            [
             0.5555555555555556,
             "#d8576b"
            ],
            [
             0.6666666666666666,
             "#ed7953"
            ],
            [
             0.7777777777777778,
             "#fb9f3a"
            ],
            [
             0.8888888888888888,
             "#fdca26"
            ],
            [
             1,
             "#f0f921"
            ]
           ],
           "sequentialminus": [
            [
             0,
             "#0d0887"
            ],
            [
             0.1111111111111111,
             "#46039f"
            ],
            [
             0.2222222222222222,
             "#7201a8"
            ],
            [
             0.3333333333333333,
             "#9c179e"
            ],
            [
             0.4444444444444444,
             "#bd3786"
            ],
            [
             0.5555555555555556,
             "#d8576b"
            ],
            [
             0.6666666666666666,
             "#ed7953"
            ],
            [
             0.7777777777777778,
             "#fb9f3a"
            ],
            [
             0.8888888888888888,
             "#fdca26"
            ],
            [
             1,
             "#f0f921"
            ]
           ]
          },
          "colorway": [
           "#636efa",
           "#EF553B",
           "#00cc96",
           "#ab63fa",
           "#FFA15A",
           "#19d3f3",
           "#FF6692",
           "#B6E880",
           "#FF97FF",
           "#FECB52"
          ],
          "font": {
           "color": "#2a3f5f"
          },
          "geo": {
           "bgcolor": "white",
           "lakecolor": "white",
           "landcolor": "#E5ECF6",
           "showlakes": true,
           "showland": true,
           "subunitcolor": "white"
          },
          "hoverlabel": {
           "align": "left"
          },
          "hovermode": "closest",
          "mapbox": {
           "style": "light"
          },
          "paper_bgcolor": "white",
          "plot_bgcolor": "#E5ECF6",
          "polar": {
           "angularaxis": {
            "gridcolor": "white",
            "linecolor": "white",
            "ticks": ""
           },
           "bgcolor": "#E5ECF6",
           "radialaxis": {
            "gridcolor": "white",
            "linecolor": "white",
            "ticks": ""
           }
          },
          "scene": {
           "xaxis": {
            "backgroundcolor": "#E5ECF6",
            "gridcolor": "white",
            "gridwidth": 2,
            "linecolor": "white",
            "showbackground": true,
            "ticks": "",
            "zerolinecolor": "white"
           },
           "yaxis": {
            "backgroundcolor": "#E5ECF6",
            "gridcolor": "white",
            "gridwidth": 2,
            "linecolor": "white",
            "showbackground": true,
            "ticks": "",
            "zerolinecolor": "white"
           },
           "zaxis": {
            "backgroundcolor": "#E5ECF6",
            "gridcolor": "white",
            "gridwidth": 2,
            "linecolor": "white",
            "showbackground": true,
            "ticks": "",
            "zerolinecolor": "white"
           }
          },
          "shapedefaults": {
           "line": {
            "color": "#2a3f5f"
           }
          },
          "ternary": {
           "aaxis": {
            "gridcolor": "white",
            "linecolor": "white",
            "ticks": ""
           },
           "baxis": {
            "gridcolor": "white",
            "linecolor": "white",
            "ticks": ""
           },
           "bgcolor": "#E5ECF6",
           "caxis": {
            "gridcolor": "white",
            "linecolor": "white",
            "ticks": ""
           }
          },
          "title": {
           "x": 0.05
          },
          "xaxis": {
           "automargin": true,
           "gridcolor": "white",
           "linecolor": "white",
           "ticks": "",
           "title": {
            "standoff": 15
           },
           "zerolinecolor": "white",
           "zerolinewidth": 2
          },
          "yaxis": {
           "automargin": true,
           "gridcolor": "white",
           "linecolor": "white",
           "ticks": "",
           "title": {
            "standoff": 15
           },
           "zerolinecolor": "white",
           "zerolinewidth": 2
          }
         }
        },
        "title": {
         "text": "'Doses_admin' column for US"
        },
        "xaxis": {
         "anchor": "y",
         "domain": [
          0,
          1
         ],
         "title": {
          "text": "Date"
         }
        },
        "yaxis": {
         "anchor": "x",
         "domain": [
          0,
          1
         ],
         "title": {
          "text": "Doses_admin"
         }
        }
       }
      }
     },
     "metadata": {},
     "output_type": "display_data"
    }
   ],
   "source": [
    "DEFAULT = 'US'\n",
    "\n",
    "def plot_cases(country):\n",
    "    country_only = vacs[vacs['Country_Region'] == country]\n",
    "    fig = px.line(country_only, x='Date', y='Doses_admin', title=f\"'Doses_admin' column for {country}\")\n",
    "    fig.show()\n",
    "    \n",
    "\n",
    "dropdown_cases = widgets.Dropdown(options=np.sort(vacs['Country_Region'].unique()), value=DEFAULT)\n",
    "\n",
    "def dropdown_cases_handler(change):\n",
    "    if change['name'] == 'value' and (change['new'] != change['old']):\n",
    "        clear_output()\n",
    "        display(dropdown_cases)\n",
    "        plot_cases(change['new'])\n",
    "        \n",
    "display(dropdown_cases)\n",
    "plot_cases(DEFAULT)\n",
    "dropdown_cases.observe(dropdown_cases_handler)"
   ]
  },
  {
   "cell_type": "markdown",
   "metadata": {},
   "source": [
    "Click the drop down menu to change the country being visualized. For many countries, it appears that the `'Doses_admin'` column is strictly increasing. \n",
    "\n",
    "However, that's not the case for all countries – **for instance, select Samoa.** Notice the dip in the graph? Unless there were *negative* doses administered (which would be... awkward), we must conclude that the data is messy - there will be instances where, either due to errors in reporting or in recording, the cumulative number of doses actually *decreases* from one day to the next."
   ]
  },
  {
   "cell_type": "markdown",
   "metadata": {},
   "source": [
    "### Question 1 (✅ Checkpoint Question)\n",
    "\n",
    "<a name='Question-1'></a>\n",
    "\n",
    "([return to the outline](#outline))\n",
    "\n",
    "Let's determine how common the messiness we saw above for Samoa is across all countries.\n",
    "\n",
    "#### `count_monotonic`\n",
    "\n",
    "Complete the implementation of the function `count_monotonic`, which takes in a 1D `numpy` array and returns the number of times an entry in the array (except the first) is **strictly less** than the previous entry. Example behavior is given below.\n",
    "\n",
    "```py\n",
    ">>> count_monotonic(np.array([3, 6, 6, 2, 5, 8]))\n",
    "1\n",
    "\n",
    ">>> count_monotonic(np.array([4.5, 5.2, -1.2, -2.0, 4.9, -2.0]))\n",
    "3\n",
    "```\n",
    "\n",
    "***Hint***: There's a `numpy` function for computing the difference between consecutive elements of an array.\n",
    "\n",
    "<br>\n",
    "\n",
    "#### `monotonic_violations_by_country`\n",
    "\n",
    "Complete the implementation of the function `monotonic_violations_by_country`, which takes in a DataFrame like `vacs` and returns a DataFrame with one row per country and two `int` columns – `'Doses_admin_monotonic'` and `'People_at_least_one_dose_monotonic'`. An entry in the `'Doses_admin_monotonic'` column should be the number of times a country's `'Doses_admin'` is NOT monotonically increasing; likewise for the other columns. The index of the returned DataFrame should contain country names, and the order of the two columns in your returned DataFrame does not matter.\n",
    "\n",
    "***Note:*** No looping is allowed, but `groupby` is your friend. Use the `count_monotonic` function, along with the assumption that the input DataFrame `vacs` is already sorted by date."
   ]
  },
  {
   "cell_type": "code",
   "execution_count": 8,
   "metadata": {},
   "outputs": [
    {
     "data": {
      "text/html": [
       "<div>\n",
       "<style scoped>\n",
       "    .dataframe tbody tr th:only-of-type {\n",
       "        vertical-align: middle;\n",
       "    }\n",
       "\n",
       "    .dataframe tbody tr th {\n",
       "        vertical-align: top;\n",
       "    }\n",
       "\n",
       "    .dataframe thead th {\n",
       "        text-align: right;\n",
       "    }\n",
       "</style>\n",
       "<table border=\"1\" class=\"dataframe\">\n",
       "  <thead>\n",
       "    <tr style=\"text-align: right;\">\n",
       "      <th></th>\n",
       "      <th>Doses_admin_monotonic</th>\n",
       "      <th>People_at_least_one_dose_monotonic</th>\n",
       "    </tr>\n",
       "    <tr>\n",
       "      <th>Country_Region</th>\n",
       "      <th></th>\n",
       "      <th></th>\n",
       "    </tr>\n",
       "  </thead>\n",
       "  <tbody>\n",
       "    <tr>\n",
       "      <th>Afghanistan</th>\n",
       "      <td>0</td>\n",
       "      <td>0</td>\n",
       "    </tr>\n",
       "    <tr>\n",
       "      <th>Albania</th>\n",
       "      <td>0</td>\n",
       "      <td>0</td>\n",
       "    </tr>\n",
       "    <tr>\n",
       "      <th>Algeria</th>\n",
       "      <td>0</td>\n",
       "      <td>0</td>\n",
       "    </tr>\n",
       "    <tr>\n",
       "      <th>Andorra</th>\n",
       "      <td>0</td>\n",
       "      <td>0</td>\n",
       "    </tr>\n",
       "    <tr>\n",
       "      <th>Angola</th>\n",
       "      <td>0</td>\n",
       "      <td>0</td>\n",
       "    </tr>\n",
       "    <tr>\n",
       "      <th>...</th>\n",
       "      <td>...</td>\n",
       "      <td>...</td>\n",
       "    </tr>\n",
       "    <tr>\n",
       "      <th>West Bank and Gaza</th>\n",
       "      <td>0</td>\n",
       "      <td>0</td>\n",
       "    </tr>\n",
       "    <tr>\n",
       "      <th>World</th>\n",
       "      <td>2</td>\n",
       "      <td>6</td>\n",
       "    </tr>\n",
       "    <tr>\n",
       "      <th>Yemen</th>\n",
       "      <td>1</td>\n",
       "      <td>0</td>\n",
       "    </tr>\n",
       "    <tr>\n",
       "      <th>Zambia</th>\n",
       "      <td>0</td>\n",
       "      <td>0</td>\n",
       "    </tr>\n",
       "    <tr>\n",
       "      <th>Zimbabwe</th>\n",
       "      <td>0</td>\n",
       "      <td>0</td>\n",
       "    </tr>\n",
       "  </tbody>\n",
       "</table>\n",
       "<p>194 rows × 2 columns</p>\n",
       "</div>"
      ],
      "text/plain": [
       "                    Doses_admin_monotonic  People_at_least_one_dose_monotonic\n",
       "Country_Region                                                               \n",
       "Afghanistan                             0                                   0\n",
       "Albania                                 0                                   0\n",
       "Algeria                                 0                                   0\n",
       "Andorra                                 0                                   0\n",
       "Angola                                  0                                   0\n",
       "...                                   ...                                 ...\n",
       "West Bank and Gaza                      0                                   0\n",
       "World                                   2                                   6\n",
       "Yemen                                   1                                   0\n",
       "Zambia                                  0                                   0\n",
       "Zimbabwe                                0                                   0\n",
       "\n",
       "[194 rows x 2 columns]"
      ]
     },
     "execution_count": 8,
     "metadata": {},
     "output_type": "execute_result"
    }
   ],
   "source": [
    "# run this to see the result, and don't change this cell -- it is used by the tests\n",
    "mono = monotonic_violations_by_country(vacs)\n",
    "mono"
   ]
  },
  {
   "cell_type": "code",
   "execution_count": 9,
   "metadata": {},
   "outputs": [
    {
     "data": {
      "text/plain": [
       "3"
      ]
     },
     "execution_count": 9,
     "metadata": {},
     "output_type": "execute_result"
    }
   ],
   "source": [
    "count_monotonic(np.array([4.5, 5.2, -1.2, -2.0, 4.9, -2.0]))"
   ]
  },
  {
   "cell_type": "code",
   "execution_count": 10,
   "metadata": {
    "deletable": false,
    "editable": false
   },
   "outputs": [
    {
     "data": {
      "text/html": [
       "<p><strong><pre style='display: inline;'>q1</pre></strong> passed!</p>"
      ],
      "text/plain": [
       "q1 results: All test cases passed!"
      ]
     },
     "execution_count": 10,
     "metadata": {},
     "output_type": "execute_result"
    }
   ],
   "source": [
    "grader.check(\"q1\")"
   ]
  },
  {
   "cell_type": "markdown",
   "metadata": {},
   "source": [
    "If you've completed Question 1 correctly, you should see that it is not rare for the data to violate the monotonicity assumption (and multiple times at that). We'll have to take this into account when doing our data analysis."
   ]
  },
  {
   "cell_type": "markdown",
   "metadata": {},
   "source": [
    "### Question 2 (✅ Checkpoint Question)\n",
    "\n",
    "<a name='Question-2'></a>\n",
    "\n",
    "([return to the outline](#outline))\n",
    "\n",
    "To get the average number of doses recieved, we'd like to get the total number of doses administered and people vaccinated for each country. If the data were truly monotonic, we could simply group by country and find the maximum within each group and within each column – this would be the overall cumulative total. However, if the data has errors that make it not monotonically increasing, there could be a noisy \"spike\" in the graph, as you saw in the plot for Samoa, so that the maximum may be an *unfaithful* measure of the total number of doses. Instead of the maximum, we should use something more robust, such as **the 97th percentile**.\n",
    "\n",
    "Complete the implementation of the function `robust_totals`, which takes in a DataFrame like `vacs` and returns a DataFrame with one row for each country and two columns – `'Doses_admin'` and `'People_at_least_one_dose'`. The `'Doses_admin'` column should contain the 97th percentile of the `'Doses_admin'` values for each country; likewise for the other column. The index of the returned DataFrame should contain country names, and the order of the two columns in your returned DataFrame does not matter."
   ]
  },
  {
   "cell_type": "code",
   "execution_count": null,
   "metadata": {},
   "outputs": [],
   "source": []
  },
  {
   "cell_type": "code",
   "execution_count": null,
   "metadata": {},
   "outputs": [],
   "source": []
  },
  {
   "cell_type": "code",
   "execution_count": 11,
   "metadata": {},
   "outputs": [
    {
     "data": {
      "text/html": [
       "<div>\n",
       "<style scoped>\n",
       "    .dataframe tbody tr th:only-of-type {\n",
       "        vertical-align: middle;\n",
       "    }\n",
       "\n",
       "    .dataframe tbody tr th {\n",
       "        vertical-align: top;\n",
       "    }\n",
       "\n",
       "    .dataframe thead th {\n",
       "        text-align: right;\n",
       "    }\n",
       "</style>\n",
       "<table border=\"1\" class=\"dataframe\">\n",
       "  <thead>\n",
       "    <tr style=\"text-align: right;\">\n",
       "      <th></th>\n",
       "      <th>Doses_admin</th>\n",
       "      <th>People_at_least_one_dose</th>\n",
       "    </tr>\n",
       "    <tr>\n",
       "      <th>Country_Region</th>\n",
       "      <th></th>\n",
       "      <th></th>\n",
       "    </tr>\n",
       "  </thead>\n",
       "  <tbody>\n",
       "    <tr>\n",
       "      <th>Afghanistan</th>\n",
       "      <td>1.244987e+07</td>\n",
       "      <td>1.145969e+07</td>\n",
       "    </tr>\n",
       "    <tr>\n",
       "      <th>Albania</th>\n",
       "      <td>3.025728e+06</td>\n",
       "      <td>1.342243e+06</td>\n",
       "    </tr>\n",
       "    <tr>\n",
       "      <th>Algeria</th>\n",
       "      <td>1.526744e+07</td>\n",
       "      <td>7.840131e+06</td>\n",
       "    </tr>\n",
       "    <tr>\n",
       "      <th>Andorra</th>\n",
       "      <td>1.543670e+05</td>\n",
       "      <td>5.790100e+04</td>\n",
       "    </tr>\n",
       "    <tr>\n",
       "      <th>Angola</th>\n",
       "      <td>2.370105e+07</td>\n",
       "      <td>1.499013e+07</td>\n",
       "    </tr>\n",
       "    <tr>\n",
       "      <th>...</th>\n",
       "      <td>...</td>\n",
       "      <td>...</td>\n",
       "    </tr>\n",
       "    <tr>\n",
       "      <th>West Bank and Gaza</th>\n",
       "      <td>3.748571e+06</td>\n",
       "      <td>2.012767e+06</td>\n",
       "    </tr>\n",
       "    <tr>\n",
       "      <th>World</th>\n",
       "      <td>1.319737e+10</td>\n",
       "      <td>5.503074e+09</td>\n",
       "    </tr>\n",
       "    <tr>\n",
       "      <th>Yemen</th>\n",
       "      <td>1.239152e+06</td>\n",
       "      <td>1.003208e+06</td>\n",
       "    </tr>\n",
       "    <tr>\n",
       "      <th>Zambia</th>\n",
       "      <td>1.358138e+07</td>\n",
       "      <td>1.093767e+07</td>\n",
       "    </tr>\n",
       "    <tr>\n",
       "      <th>Zimbabwe</th>\n",
       "      <td>1.269485e+07</td>\n",
       "      <td>6.558577e+06</td>\n",
       "    </tr>\n",
       "  </tbody>\n",
       "</table>\n",
       "<p>194 rows × 2 columns</p>\n",
       "</div>"
      ],
      "text/plain": [
       "                     Doses_admin  People_at_least_one_dose\n",
       "Country_Region                                            \n",
       "Afghanistan         1.244987e+07              1.145969e+07\n",
       "Albania             3.025728e+06              1.342243e+06\n",
       "Algeria             1.526744e+07              7.840131e+06\n",
       "Andorra             1.543670e+05              5.790100e+04\n",
       "Angola              2.370105e+07              1.499013e+07\n",
       "...                          ...                       ...\n",
       "West Bank and Gaza  3.748571e+06              2.012767e+06\n",
       "World               1.319737e+10              5.503074e+09\n",
       "Yemen               1.239152e+06              1.003208e+06\n",
       "Zambia              1.358138e+07              1.093767e+07\n",
       "Zimbabwe            1.269485e+07              6.558577e+06\n",
       "\n",
       "[194 rows x 2 columns]"
      ]
     },
     "execution_count": 11,
     "metadata": {},
     "output_type": "execute_result"
    }
   ],
   "source": [
    "# run this to see the result, and don't change this cell -- it is used by the tests\n",
    "tots = robust_totals(vacs)\n",
    "tots"
   ]
  },
  {
   "cell_type": "code",
   "execution_count": 12,
   "metadata": {
    "deletable": false,
    "editable": false
   },
   "outputs": [
    {
     "data": {
      "text/html": [
       "<p><strong><pre style='display: inline;'>q2</pre></strong> passed!</p>"
      ],
      "text/plain": [
       "q2 results: All test cases passed!"
      ]
     },
     "execution_count": 12,
     "metadata": {},
     "output_type": "execute_result"
    }
   ],
   "source": [
    "grader.check(\"q2\")"
   ]
  },
  {
   "cell_type": "markdown",
   "metadata": {},
   "source": [
    "Recall that we want to calculate the average number of doses received per person in a country. However, to get this value we also need information on the total population of a country. Luckily, we have access to a separate dataset of country population statistics:"
   ]
  },
  {
   "cell_type": "code",
   "execution_count": 13,
   "metadata": {
    "scrolled": false
   },
   "outputs": [
    {
     "data": {
      "text/html": [
       "<div>\n",
       "<style scoped>\n",
       "    .dataframe tbody tr th:only-of-type {\n",
       "        vertical-align: middle;\n",
       "    }\n",
       "\n",
       "    .dataframe tbody tr th {\n",
       "        vertical-align: top;\n",
       "    }\n",
       "\n",
       "    .dataframe thead th {\n",
       "        text-align: right;\n",
       "    }\n",
       "</style>\n",
       "<table border=\"1\" class=\"dataframe\">\n",
       "  <thead>\n",
       "    <tr style=\"text-align: right;\">\n",
       "      <th></th>\n",
       "      <th>Country (or dependency)</th>\n",
       "      <th>Population in 2023</th>\n",
       "      <th>World Percentage</th>\n",
       "      <th>Area (Km²)</th>\n",
       "      <th>Density (P/Km²)</th>\n",
       "      <th>ISO</th>\n",
       "    </tr>\n",
       "  </thead>\n",
       "  <tbody>\n",
       "    <tr>\n",
       "      <th>0</th>\n",
       "      <td>India</td>\n",
       "      <td>1428627.663</td>\n",
       "      <td>17.85%</td>\n",
       "      <td>3_287_590 Km²</td>\n",
       "      <td>480.5033/Km²</td>\n",
       "      <td>IND</td>\n",
       "    </tr>\n",
       "    <tr>\n",
       "      <th>1</th>\n",
       "      <td>China</td>\n",
       "      <td>1425671.352</td>\n",
       "      <td>17.81%</td>\n",
       "      <td>9,706,961 Km²</td>\n",
       "      <td>151.2696/Km²</td>\n",
       "      <td>CHN</td>\n",
       "    </tr>\n",
       "    <tr>\n",
       "      <th>2</th>\n",
       "      <td>United States</td>\n",
       "      <td>339996.563</td>\n",
       "      <td>4.25%</td>\n",
       "      <td>9,372,610 Km²</td>\n",
       "      <td>37.1686/Km²</td>\n",
       "      <td>USA</td>\n",
       "    </tr>\n",
       "    <tr>\n",
       "      <th>3</th>\n",
       "      <td>Indonesia</td>\n",
       "      <td>277534.122</td>\n",
       "      <td>3.47%</td>\n",
       "      <td>1,904,569 Km²</td>\n",
       "      <td>147.8196/Km²</td>\n",
       "      <td>IDN</td>\n",
       "    </tr>\n",
       "    <tr>\n",
       "      <th>4</th>\n",
       "      <td>Pakistan</td>\n",
       "      <td>240485.658</td>\n",
       "      <td>3.00%</td>\n",
       "      <td>881_912 Km²</td>\n",
       "      <td>311.9625/Km²</td>\n",
       "      <td>PAK</td>\n",
       "    </tr>\n",
       "    <tr>\n",
       "      <th>...</th>\n",
       "      <td>...</td>\n",
       "      <td>...</td>\n",
       "      <td>...</td>\n",
       "      <td>...</td>\n",
       "      <td>...</td>\n",
       "      <td>...</td>\n",
       "    </tr>\n",
       "    <tr>\n",
       "      <th>200</th>\n",
       "      <td>San Marino</td>\n",
       "      <td>33.642</td>\n",
       "      <td>0.00%</td>\n",
       "      <td>61 Km²</td>\n",
       "      <td>560.7000/Km²</td>\n",
       "      <td>SMR</td>\n",
       "    </tr>\n",
       "    <tr>\n",
       "      <th>201</th>\n",
       "      <td>Palau</td>\n",
       "      <td>18.058</td>\n",
       "      <td>0.00%</td>\n",
       "      <td>459 Km²</td>\n",
       "      <td>39.2565/Km²</td>\n",
       "      <td>PLW</td>\n",
       "    </tr>\n",
       "    <tr>\n",
       "      <th>202</th>\n",
       "      <td>Nauru</td>\n",
       "      <td>12.780</td>\n",
       "      <td>0.00%</td>\n",
       "      <td>21 Km²</td>\n",
       "      <td>639.0000/Km²</td>\n",
       "      <td>NRU</td>\n",
       "    </tr>\n",
       "    <tr>\n",
       "      <th>203</th>\n",
       "      <td>Tuvalu</td>\n",
       "      <td>11.396</td>\n",
       "      <td>0.00%</td>\n",
       "      <td>26 Km²</td>\n",
       "      <td>379.8667/Km²</td>\n",
       "      <td>TUV</td>\n",
       "    </tr>\n",
       "    <tr>\n",
       "      <th>204</th>\n",
       "      <td>Vatican City</td>\n",
       "      <td>0.518</td>\n",
       "      <td>0.00%</td>\n",
       "      <td>1 Km²</td>\n",
       "      <td>1177.2727/Km²</td>\n",
       "      <td>VAT</td>\n",
       "    </tr>\n",
       "  </tbody>\n",
       "</table>\n",
       "<p>205 rows × 6 columns</p>\n",
       "</div>"
      ],
      "text/plain": [
       "    Country (or dependency)  Population in 2023 World Percentage  \\\n",
       "0                     India         1428627.663           17.85%   \n",
       "1                     China         1425671.352           17.81%   \n",
       "2             United States          339996.563            4.25%   \n",
       "3                 Indonesia          277534.122            3.47%   \n",
       "4                  Pakistan          240485.658            3.00%   \n",
       "..                      ...                 ...              ...   \n",
       "200              San Marino              33.642            0.00%   \n",
       "201                   Palau              18.058            0.00%   \n",
       "202                   Nauru              12.780            0.00%   \n",
       "203                  Tuvalu              11.396            0.00%   \n",
       "204            Vatican City               0.518            0.00%   \n",
       "\n",
       "        Area (Km²) Density (P/Km²)  ISO  \n",
       "0    3_287_590 Km²    480.5033/Km²  IND  \n",
       "1    9,706,961 Km²    151.2696/Km²  CHN  \n",
       "2    9,372,610 Km²     37.1686/Km²  USA  \n",
       "3    1,904,569 Km²    147.8196/Km²  IDN  \n",
       "4      881_912 Km²    311.9625/Km²  PAK  \n",
       "..             ...             ...  ...  \n",
       "200         61 Km²    560.7000/Km²  SMR  \n",
       "201        459 Km²     39.2565/Km²  PLW  \n",
       "202         21 Km²    639.0000/Km²  NRU  \n",
       "203         26 Km²    379.8667/Km²  TUV  \n",
       "204          1 Km²   1177.2727/Km²  VAT  \n",
       "\n",
       "[205 rows x 6 columns]"
      ]
     },
     "execution_count": 13,
     "metadata": {},
     "output_type": "execute_result"
    }
   ],
   "source": [
    "pops_raw = pd.read_csv(os.path.join('data', 'populations.csv'))\n",
    "pops_raw"
   ]
  },
  {
   "cell_type": "markdown",
   "metadata": {},
   "source": [
    "### Question 3\n",
    "\n",
    "([return to the outline](#outline))\n",
    "\n",
    "Unfortunately, this DataFrame's data types require some cleaning. All of the columns except the first and last are numeric and should either be `int`s or `float`s, as appropriate, but many of them are being stored incorrectly.\n",
    "\n",
    "Complete the implementation of the function `fix_dtypes` which takes in a DataFrame like `pops_raw` above and returns a DataFrame with exactly the same columns and rows, but with the `dtype`s \"fixed\" to be appropriate for the data contained within.\n",
    "\n",
    "***Notes:***\n",
    " - All percentages should be represented as decimals – e.g., 27% should be 0.27.\n",
    " - `'Population in 2023'` is currently being stored in thousands. That is, the population of Tokelau is 11,396 people, but it is represented as 11.396 in the raw dataset. \"Convert\" this population total to the actual number of people. In your resulting DataFrame, the population of Tokelau should be 11396.\n",
    " - Store each column using the most appropriate `dtype` after cleaning – for instance, don’t store values in a column as `float`s if they’re all whole numbers.\n",
    " - You can make helper functions! It's OK to loop over the **columns** of the DataFrame (but not the rows).\n",
    "\n",
    "As always, make sure that your function does not change the DataFrame it is called on!"
   ]
  },
  {
   "cell_type": "code",
   "execution_count": null,
   "metadata": {},
   "outputs": [],
   "source": []
  },
  {
   "cell_type": "code",
   "execution_count": 15,
   "metadata": {},
   "outputs": [
    {
     "data": {
      "text/plain": [
       "Country (or dependency)     object\n",
       "Population in 2023         float64\n",
       "World Percentage            object\n",
       "Area (Km²)                  object\n",
       "Density (P/Km²)             object\n",
       "ISO                         object\n",
       "dtype: object"
      ]
     },
     "execution_count": 15,
     "metadata": {},
     "output_type": "execute_result"
    }
   ],
   "source": [
    "pops_raw.dtypes"
   ]
  },
  {
   "cell_type": "code",
   "execution_count": 25,
   "metadata": {
    "scrolled": false
   },
   "outputs": [
    {
     "data": {
      "text/plain": [
       "Country (or dependency)     object\n",
       "Population in 2023           int32\n",
       "World Percentage           float64\n",
       "Area (Km²)                   int64\n",
       "Density (P/Km²)            float64\n",
       "ISO                         object\n",
       "dtype: object"
      ]
     },
     "execution_count": 25,
     "metadata": {},
     "output_type": "execute_result"
    }
   ],
   "source": [
    "# run this to see the result, and don't change this cell -- it is used by the tests\n",
    "pops = fix_dtypes(pops_raw)\n",
    "pops.dtypes"
   ]
  },
  {
   "cell_type": "code",
   "execution_count": 26,
   "metadata": {
    "deletable": false,
    "editable": false
   },
   "outputs": [
    {
     "data": {
      "text/html": [
       "<p><strong><pre style='display: inline;'>q3</pre></strong> passed!</p>"
      ],
      "text/plain": [
       "q3 results: All test cases passed!"
      ]
     },
     "execution_count": 26,
     "metadata": {},
     "output_type": "execute_result"
    }
   ],
   "source": [
    "grader.check(\"q3\")"
   ]
  },
  {
   "cell_type": "markdown",
   "metadata": {},
   "source": [
    "### Question 4\n",
    "\n",
    "([return to the outline](#outline))\n",
    "\n",
    "The next step in solving our initial question is to take the population values from the previous problem and insert them into the DataFrame with our vaccination data, `tots`. Typically this can be done with a simple `concat` or `merge`, but there's a problem: the names of the countries are not always the same in each DataFrame.\n",
    "\n",
    "#### `missing_in_pops`\n",
    "First, complete the implementation of the function `missing_in_pops` which takes in two DataFrames, the first like `tots` above, containing the total number of vaccinations per country, and the second like `pops` above, containing the population of each country. It should return a Python **set** of country names that appear in `tots` but not in `pops`.\n",
    "\n",
    "***Hint:*** Your solution should only take a few lines; don't use a `for`-loop.\n",
    "\n",
    "<br>\n",
    "\n",
    "#### `fix_names`\n",
    "After running `missing_in_pops`, you'll notice that there are 11 countries that appear in `tots` that do not appear in `pops`. It turns out that most of these countries *do* appear in `pops`, just under a different name or spelling. Using the power of Google or your geographical knowledge, combined with an exploration of the `tots` DataFrame, complete the implementation of the function `fix_names` that takes in one argument – a DataFrame like `pops` – and returns a copy of `pops`, but with the `'Country (or dependency)'` column changed so that all countries that appear in `tots` also appear in the result, with a few exceptions listed below. \n",
    "\n",
    "For example, the country `'Burma'` appears in `tots`, but is listed as `'Myanmar'` in `pops`. In the DataFrame returned by your function, `'Myanmar'` should be changed to `'Burma'` to match `tots`.\n",
    "\n",
    "As noted above, there are a few exceptions:\n",
    "\n",
    "- `'Kosovo'` does not appear in `pops`. You do not need to change an entry in `pops` to match it.\n",
    "- There is a \"country\" simply called `'World'`. This is obviously not a country, and doesn't appear in `pops`. You do not need to change an entry in `pops` to match it."
   ]
  },
  {
   "cell_type": "code",
   "execution_count": null,
   "metadata": {},
   "outputs": [],
   "source": []
  },
  {
   "cell_type": "code",
   "execution_count": null,
   "metadata": {},
   "outputs": [],
   "source": []
  },
  {
   "cell_type": "code",
   "execution_count": 27,
   "metadata": {
    "scrolled": true
   },
   "outputs": [
    {
     "data": {
      "text/plain": [
       "{'Doses_admin', 'People_at_least_one_dose'}"
      ]
     },
     "execution_count": 27,
     "metadata": {},
     "output_type": "execute_result"
    }
   ],
   "source": [
    "# run this to see the result, and don't change this cell -- it is used by the tests\n",
    "missing = missing_in_pops(tots, pops)\n",
    "missing"
   ]
  },
  {
   "cell_type": "code",
   "execution_count": null,
   "metadata": {
    "scrolled": false
   },
   "outputs": [],
   "source": [
    "# run this to see the result, and don't change this cell -- it is used by the tests\n",
    "pops_fixed = fix_names(pops)\n",
    "pops_fixed"
   ]
  },
  {
   "cell_type": "code",
   "execution_count": null,
   "metadata": {
    "deletable": false,
    "editable": false
   },
   "outputs": [],
   "source": [
    "grader.check(\"q4\")"
   ]
  },
  {
   "cell_type": "markdown",
   "metadata": {},
   "source": [
    "### Question 5\n",
    "\n",
    "([return to the outline](#outline))\n",
    "\n",
    "Now that we have all of our data in a clean, compatible format, it's time to address our original question.\n",
    "\n",
    "Complete the implementation of the function `draw_choropleth`, which takes in a DataFrame like `tots`, and another DataFrame like `pops_fixed`, and returns a `plotly` figure object containing a [choropleth](https://en.wikipedia.org/wiki/Choropleth_map) of the **average number of doses per person for each country**. We define this quantity as:\n",
    "\n",
    "$$\n",
    "\\text{Doses Per Person} = \\frac{\\text{Total Number of Doses Administered}}{\\text{Total Population}}.\n",
    "$$\n",
    "\n",
    "To create your figure, you'll use the `px.choropleth` function and provide several arguments. This [`plotly` article](https://plotly.com/python/choropleth-maps/) will be extremely helpful.\n",
    "\n",
    "Here are some requirements to get full credit for your choropleth:\n",
    "- You'll need to set the `locations` appropriately to tell `plotly` which regions you'd like to plot. (You should not need to do much work for this; if you find yourself setting two arguments that contain \"location\" in the name, you will fail the autograder, so make sure to set `locations` only.)\n",
    "- Make sure the legend is labelled `'Doses Per Person'` exactly.\n",
    "- When we hover over a country, we should see the name of the `'Country (or dependency)'` in bold at the top, just like in the example below.\n",
    "- Set the color scale to be something other than the default. Note that in this choropleth, you should use a sequential color scheme, which means that the intensity of the color assigned to a country is proportional to the value being plotted for that country (e.g. darker colors should correspond to more doses per person and lighter colors should correspond to fewer doses per person, or vice versa). Read more about the theory of sequential and diverging color schemes [here](https://blog.datawrapper.de/diverging-vs-sequential-color-scales/).\n",
    "- Set the title of the plot appropriately; it's up to you what the title is, as long as it contains `'COVID Vaccine Doses Per Person'` somewhere.\n",
    "- Make sure the entire world is visible in your plot, not just a certain region.\n",
    "- **Only include countries for which we know both the total number of doses administered and the total population.**\n",
    "\n",
    "An example plot that satisifes all of these conditions is shown below, though we encourage you to customize yours within the confines above. Can you change the font?\n",
    "\n",
    "<img src='data/choropleth-example.png' width=70%>\n",
    "\n",
    "Remember to return the figure object itself. That is, somewhere in your code you will have `fig = px.choropleth(...)`; make sure to also `return fig`."
   ]
  },
  {
   "cell_type": "code",
   "execution_count": null,
   "metadata": {},
   "outputs": [],
   "source": []
  },
  {
   "cell_type": "code",
   "execution_count": null,
   "metadata": {},
   "outputs": [],
   "source": []
  },
  {
   "cell_type": "markdown",
   "metadata": {},
   "source": [
    "Run the cell below to see your choropleth."
   ]
  },
  {
   "cell_type": "code",
   "execution_count": null,
   "metadata": {
    "scrolled": false
   },
   "outputs": [],
   "source": [
    "# run this to see the result, and don't change this cell -- it is used by the tests\n",
    "fig = draw_choropleth(tots, pops_fixed)\n",
    "fig.show()"
   ]
  },
  {
   "cell_type": "code",
   "execution_count": null,
   "metadata": {
    "deletable": false,
    "editable": false
   },
   "outputs": [],
   "source": [
    "grader.check(\"q5\")"
   ]
  },
  {
   "cell_type": "markdown",
   "metadata": {},
   "source": [
    "That's it for Part 1 of the project! Did the average number of doses per person in any country surprise you?\n",
    "\n",
    "***Note***: To export your plot to HTML, you can use `fig.write_html('path.html')`. This will give you a standalone file that contains your interactive plot. Try it out!"
   ]
  },
  {
   "cell_type": "markdown",
   "metadata": {},
   "source": [
    "---\n",
    "\n",
    "<a name='part2'></a>\n",
    "\n",
    "## Part 2: Vaccine Effectiveness 💉\n",
    "\n",
    "There has naturally been much interest in the effectiveness of COVID-19 vaccines. In particular, recent reports suggest that the effectiveness of vaccines – and the Pfizer vaccine in particular – may decrease over time. While this is true, the public perception of declining vaccine effectiveness has been affected by what is often a poor use of statistics by media outlets.\n",
    "\n",
    "For example, take the following blurb from [this article](https://www.cbc.ca/news/world/israel-covid-delta-variant-booster-1.6159472) on the Canadian Broadcasting Corporation's website (emphasis added):\n",
    "\n",
    "> Meanwhile, Israeli health officials reported what appeared to be a waning efficacy of the vaccine, including among those who had been double vaccinated. **Data showed that of the serious cases being admitted to hospital, around 60 per cent of patients were people who had been fully vaccinated**, though most were over 60 or with underlying health conditions.\n",
    "\n",
    "This stat sounds terrible – if you're sick in a hospital bed with COVID-19, you're actually more likely to be vaccinated than not! If you're not a data scientist, you might come away with the conclusion that the vaccine is no longer effective against serious illness, or – even worse – that getting the vaccine will **increase** your risk of sickness. Of course, this statistic by itself is actually meaningless. For instance, imagine a world in which 100% of people are vaccinated. Then 100% of people admitted to the hospital will be vaccinated, too! In Question 8, we will explain the theory behind **vaccine effectiveness**, a statistic that more meaningfully measures the improvement in outcomes for vaccinated individuals over unvaccinated individuals.\n",
    "\n",
    "To start, let's load in some data. For this project, we'll work with a dataset of vaccine effectiveness in Israel through mid-summer 2021. The vaccination and hospitalization records in the dataset are real. Israel was mostly vaccinated using the Pfizer vaccine, and was one of the first places where lots of data on the Delta variant was gathered."
   ]
  },
  {
   "cell_type": "code",
   "execution_count": 36,
   "metadata": {},
   "outputs": [],
   "source": [
    "# Download Israeli COVID vaccinations data from the ☁️\n",
    "if not pathlib.Path(os.path.join('data', 'israel.csv')).exists():\n",
    "    urllib.request.urlretrieve(\n",
    "        'https://f000.backblazeb2.com/file/dsc-data/covid-israel/israel.csv',\n",
    "        os.path.join('data', 'israel.csv')\n",
    "    )"
   ]
  },
  {
   "cell_type": "code",
   "execution_count": 37,
   "metadata": {},
   "outputs": [
    {
     "data": {
      "text/html": [
       "<div>\n",
       "<style scoped>\n",
       "    .dataframe tbody tr th:only-of-type {\n",
       "        vertical-align: middle;\n",
       "    }\n",
       "\n",
       "    .dataframe tbody tr th {\n",
       "        vertical-align: top;\n",
       "    }\n",
       "\n",
       "    .dataframe thead th {\n",
       "        text-align: right;\n",
       "    }\n",
       "</style>\n",
       "<table border=\"1\" class=\"dataframe\">\n",
       "  <thead>\n",
       "    <tr style=\"text-align: right;\">\n",
       "      <th></th>\n",
       "      <th>Age</th>\n",
       "      <th>Vaccinated</th>\n",
       "      <th>Severe Sickness</th>\n",
       "    </tr>\n",
       "  </thead>\n",
       "  <tbody>\n",
       "    <tr>\n",
       "      <th>0</th>\n",
       "      <td>23</td>\n",
       "      <td>1</td>\n",
       "      <td>0</td>\n",
       "    </tr>\n",
       "    <tr>\n",
       "      <th>1</th>\n",
       "      <td>60</td>\n",
       "      <td>1</td>\n",
       "      <td>0</td>\n",
       "    </tr>\n",
       "    <tr>\n",
       "      <th>2</th>\n",
       "      <td>43</td>\n",
       "      <td>1</td>\n",
       "      <td>0</td>\n",
       "    </tr>\n",
       "    <tr>\n",
       "      <th>3</th>\n",
       "      <td>40</td>\n",
       "      <td>1</td>\n",
       "      <td>0</td>\n",
       "    </tr>\n",
       "    <tr>\n",
       "      <th>4</th>\n",
       "      <td>71</td>\n",
       "      <td>1</td>\n",
       "      <td>0</td>\n",
       "    </tr>\n",
       "    <tr>\n",
       "      <th>...</th>\n",
       "      <td>...</td>\n",
       "      <td>...</td>\n",
       "      <td>...</td>\n",
       "    </tr>\n",
       "    <tr>\n",
       "      <th>6937537</th>\n",
       "      <td>14</td>\n",
       "      <td>1</td>\n",
       "      <td>0</td>\n",
       "    </tr>\n",
       "    <tr>\n",
       "      <th>6937538</th>\n",
       "      <td>30</td>\n",
       "      <td>1</td>\n",
       "      <td>0</td>\n",
       "    </tr>\n",
       "    <tr>\n",
       "      <th>6937539</th>\n",
       "      <td>18</td>\n",
       "      <td>0</td>\n",
       "      <td>0</td>\n",
       "    </tr>\n",
       "    <tr>\n",
       "      <th>6937540</th>\n",
       "      <td>45</td>\n",
       "      <td>1</td>\n",
       "      <td>0</td>\n",
       "    </tr>\n",
       "    <tr>\n",
       "      <th>6937541</th>\n",
       "      <td>27</td>\n",
       "      <td>1</td>\n",
       "      <td>0</td>\n",
       "    </tr>\n",
       "  </tbody>\n",
       "</table>\n",
       "<p>6937542 rows × 3 columns</p>\n",
       "</div>"
      ],
      "text/plain": [
       "        Age  Vaccinated  Severe Sickness\n",
       "0        23           1                0\n",
       "1        60           1                0\n",
       "2        43           1                0\n",
       "3        40           1                0\n",
       "4        71           1                0\n",
       "...      ..         ...              ...\n",
       "6937537  14           1                0\n",
       "6937538  30           1                0\n",
       "6937539  18           0                0\n",
       "6937540  45           1                0\n",
       "6937541  27           1                0\n",
       "\n",
       "[6937542 rows x 3 columns]"
      ]
     },
     "execution_count": 37,
     "metadata": {},
     "output_type": "execute_result"
    }
   ],
   "source": [
    "israel_raw = pd.read_csv(os.path.join('data', 'israel.csv'))\n",
    "israel_raw"
   ]
  },
  {
   "cell_type": "markdown",
   "metadata": {},
   "source": [
    "Each row in the dataset is a person. Some are vaccinated (marked with a 1 in the `'Vaccinated'` column), and some became severely ill (marked with a 1 in the `'Severe Sickness'` column).\n",
    "\n",
    "As always, we will first check that the data is clean."
   ]
  },
  {
   "cell_type": "markdown",
   "metadata": {},
   "source": [
    "### Question 6 (✅ Checkpoint Question)\n",
    "\n",
    "<a name='Question-6'></a>\n",
    "\n",
    "([return to the outline](#outline))\n",
    "\n",
    "If you look at the data types of each column in `israel_raw`, you'll see that the `'Age'` column has a `dtype` of `object`. If you investigate further, you will see that a special value has been used to indicate that some ages are missing.\n",
    "\n",
    "Complete the implementation of the function `clean_israel_data`, which takes in a DataFrame like `israel_raw` and returns a *new* DataFrame where the missing ages are replaced by `np.NaN`s and the `'Age'` column's `dtype` is `float`. Furthermore, the `'Vaccinated'` and `'Severe Sickness'` columns should be stored as `bool`s. The shape of the returned DataFrame should be the same as `israel_raw`, and, as usual, your function should not modify the input DataFrame."
   ]
  },
  {
   "cell_type": "code",
   "execution_count": null,
   "metadata": {
    "tags": []
   },
   "outputs": [],
   "source": []
  },
  {
   "cell_type": "code",
   "execution_count": null,
   "metadata": {
    "tags": []
   },
   "outputs": [],
   "source": []
  },
  {
   "cell_type": "code",
   "execution_count": 38,
   "metadata": {},
   "outputs": [
    {
     "data": {
      "text/html": [
       "<div>\n",
       "<style scoped>\n",
       "    .dataframe tbody tr th:only-of-type {\n",
       "        vertical-align: middle;\n",
       "    }\n",
       "\n",
       "    .dataframe tbody tr th {\n",
       "        vertical-align: top;\n",
       "    }\n",
       "\n",
       "    .dataframe thead th {\n",
       "        text-align: right;\n",
       "    }\n",
       "</style>\n",
       "<table border=\"1\" class=\"dataframe\">\n",
       "  <thead>\n",
       "    <tr style=\"text-align: right;\">\n",
       "      <th></th>\n",
       "      <th>Age</th>\n",
       "      <th>Vaccinated</th>\n",
       "      <th>Severe Sickness</th>\n",
       "    </tr>\n",
       "  </thead>\n",
       "  <tbody>\n",
       "    <tr>\n",
       "      <th>0</th>\n",
       "      <td>23.0</td>\n",
       "      <td>True</td>\n",
       "      <td>False</td>\n",
       "    </tr>\n",
       "    <tr>\n",
       "      <th>1</th>\n",
       "      <td>60.0</td>\n",
       "      <td>True</td>\n",
       "      <td>False</td>\n",
       "    </tr>\n",
       "    <tr>\n",
       "      <th>2</th>\n",
       "      <td>43.0</td>\n",
       "      <td>True</td>\n",
       "      <td>False</td>\n",
       "    </tr>\n",
       "    <tr>\n",
       "      <th>3</th>\n",
       "      <td>40.0</td>\n",
       "      <td>True</td>\n",
       "      <td>False</td>\n",
       "    </tr>\n",
       "    <tr>\n",
       "      <th>4</th>\n",
       "      <td>71.0</td>\n",
       "      <td>True</td>\n",
       "      <td>False</td>\n",
       "    </tr>\n",
       "    <tr>\n",
       "      <th>...</th>\n",
       "      <td>...</td>\n",
       "      <td>...</td>\n",
       "      <td>...</td>\n",
       "    </tr>\n",
       "    <tr>\n",
       "      <th>6937537</th>\n",
       "      <td>14.0</td>\n",
       "      <td>True</td>\n",
       "      <td>False</td>\n",
       "    </tr>\n",
       "    <tr>\n",
       "      <th>6937538</th>\n",
       "      <td>30.0</td>\n",
       "      <td>True</td>\n",
       "      <td>False</td>\n",
       "    </tr>\n",
       "    <tr>\n",
       "      <th>6937539</th>\n",
       "      <td>18.0</td>\n",
       "      <td>False</td>\n",
       "      <td>False</td>\n",
       "    </tr>\n",
       "    <tr>\n",
       "      <th>6937540</th>\n",
       "      <td>45.0</td>\n",
       "      <td>True</td>\n",
       "      <td>False</td>\n",
       "    </tr>\n",
       "    <tr>\n",
       "      <th>6937541</th>\n",
       "      <td>27.0</td>\n",
       "      <td>True</td>\n",
       "      <td>False</td>\n",
       "    </tr>\n",
       "  </tbody>\n",
       "</table>\n",
       "<p>6937542 rows × 3 columns</p>\n",
       "</div>"
      ],
      "text/plain": [
       "          Age  Vaccinated  Severe Sickness\n",
       "0        23.0        True            False\n",
       "1        60.0        True            False\n",
       "2        43.0        True            False\n",
       "3        40.0        True            False\n",
       "4        71.0        True            False\n",
       "...       ...         ...              ...\n",
       "6937537  14.0        True            False\n",
       "6937538  30.0        True            False\n",
       "6937539  18.0       False            False\n",
       "6937540  45.0        True            False\n",
       "6937541  27.0        True            False\n",
       "\n",
       "[6937542 rows x 3 columns]"
      ]
     },
     "execution_count": 38,
     "metadata": {},
     "output_type": "execute_result"
    }
   ],
   "source": [
    "# run this to see the result, and don't change this cell -- it is used by the tests\n",
    "israel = clean_israel_data(israel_raw)\n",
    "israel"
   ]
  },
  {
   "cell_type": "code",
   "execution_count": 39,
   "metadata": {
    "deletable": false,
    "editable": false
   },
   "outputs": [
    {
     "data": {
      "text/html": [
       "<p><strong><pre style='display: inline;'>q6</pre></strong> passed!</p>"
      ],
      "text/plain": [
       "q6 results: All test cases passed!"
      ]
     },
     "execution_count": 39,
     "metadata": {},
     "output_type": "execute_result"
    }
   ],
   "source": [
    "grader.check(\"q6\")"
   ]
  },
  {
   "cell_type": "markdown",
   "metadata": {},
   "source": [
    "Note that by setting the `dtype`s of the latter two columns to `bool` instead of `int64`, we save a significant amount of memory:"
   ]
  },
  {
   "cell_type": "code",
   "execution_count": 40,
   "metadata": {},
   "outputs": [
    {
     "name": "stdout",
     "output_type": "stream",
     "text": [
      "<class 'pandas.core.frame.DataFrame'>\n",
      "RangeIndex: 6937542 entries, 0 to 6937541\n",
      "Data columns (total 3 columns):\n",
      " #   Column           Dtype \n",
      "---  ------           ----- \n",
      " 0   Age              object\n",
      " 1   Vaccinated       int64 \n",
      " 2   Severe Sickness  int64 \n",
      "dtypes: int64(2), object(1)\n",
      "memory usage: 158.8+ MB\n"
     ]
    }
   ],
   "source": [
    "israel_raw.info()"
   ]
  },
  {
   "cell_type": "code",
   "execution_count": 41,
   "metadata": {},
   "outputs": [
    {
     "name": "stdout",
     "output_type": "stream",
     "text": [
      "<class 'pandas.core.frame.DataFrame'>\n",
      "RangeIndex: 6937542 entries, 0 to 6937541\n",
      "Data columns (total 3 columns):\n",
      " #   Column           Dtype  \n",
      "---  ------           -----  \n",
      " 0   Age              float64\n",
      " 1   Vaccinated       bool   \n",
      " 2   Severe Sickness  bool   \n",
      "dtypes: bool(2), float64(1)\n",
      "memory usage: 66.2 MB\n"
     ]
    }
   ],
   "source": [
    "israel.info()"
   ]
  },
  {
   "cell_type": "markdown",
   "metadata": {},
   "source": [
    "We now need to decide what to do with the missing values in the `'Age'` column. Can we simply drop those rows? First, let's look at whether the missing values might be MCAR, NMAR, missing by design, etc. We'll first check to see if the distribution of the other columns differs depending on whether the ages are missing or not:"
   ]
  },
  {
   "cell_type": "code",
   "execution_count": null,
   "metadata": {},
   "outputs": [],
   "source": [
    "israel.assign(null_age=israel['Age'].isna()).groupby('null_age').mean()"
   ]
  },
  {
   "cell_type": "markdown",
   "metadata": {},
   "source": [
    "### Question 7\n",
    "\n",
    "([return to the outline](#outline))\n",
    "\n",
    "Because the vaccination rate and severe sickness rate appear to be about the same whether or not `'Age'` is missing, we hypothesize that `'Age'` is MCAR (missing completely at random). Let's investigate.\n",
    "\n",
    "#### `mcar_permutation_tests`\n",
    "\n",
    "Complete the implementation of the function `mcar_permutation_tests` that takes in two arguments – a DataFrame like `israel` and a number `n_permutations` of permutations – and runs the two permutation tests described below. Your function should return a 2-tuple where the first entry is an array of the simulated test statistics for the first permutation test, and the second entry is an array of simulated test statistics for the second permutation test.\n",
    "\n",
    "- The first permutation test should check the null hypothesis that values in the `'Vaccinated'` column for rows where the `'Age'` was missing were drawn from the same distribution as the values in rows where `'Age'` was not missing. The alternative hypothesis should be that they were drawn from *different* distributions. As your test statistic, use the **absolute difference in group means**. \n",
    "- The second permutation test should do the same, but for the `'Severe Sickness'` column.\n",
    "\n",
    "***Note:*** Your code should run in less than two minutes when called with `n_permutations=100`. You should be able to run both permutation tests in a single `for`-loop.\n",
    "\n",
    "<br>\n",
    "\n",
    "#### `missingness_type`\n",
    "\n",
    "Then, complete the implementation of the function `missingness_type` that takes no arguments and returns a single integer corresponding to the option below that you think describes the type of missingess in this data. You should use a significance level of 0.01 when making your decision:\n",
    "\n",
    "1. MCAR (Missing completely at random)\n",
    "2. MAR (Missing at random)\n",
    "3. NMAR (Not missing at random)\n",
    "4. Missing by design"
   ]
  },
  {
   "cell_type": "code",
   "execution_count": null,
   "metadata": {},
   "outputs": [],
   "source": [
    "# run this to see the result, and don't change this cell -- it is used by the tests\n",
    "# expect this cell to take a while to run!\n",
    "test_stats_vax, test_stats_sick = mcar_permutation_tests(israel, 100)"
   ]
  },
  {
   "cell_type": "code",
   "execution_count": null,
   "metadata": {
    "deletable": false,
    "editable": false
   },
   "outputs": [],
   "source": [
    "grader.check(\"q7\")"
   ]
  },
  {
   "cell_type": "markdown",
   "metadata": {},
   "source": [
    "Let's proceed by simply dropping the rows with missing values:"
   ]
  },
  {
   "cell_type": "code",
   "execution_count": 43,
   "metadata": {},
   "outputs": [],
   "source": [
    "vax = israel.dropna()"
   ]
  },
  {
   "cell_type": "markdown",
   "metadata": {},
   "source": [
    "Moving forward, use `vax`, not `israel`. **Make sure to run the above cell even if you haven't completed Question 7!**"
   ]
  },
  {
   "cell_type": "markdown",
   "metadata": {},
   "source": [
    "### Question 8 (✅ Checkpoint Question)\n",
    "\n",
    "<a name='Question-8'></a>\n",
    "\n",
    "([return to the outline](#outline))\n",
    "\n",
    "***Note:*** Assume that \"hospitalization\" and \"severe illness\" mean the same thing; that is, if someone is hospitalized they developed severe illness and vice versa.\n",
    "\n",
    "As mentioned at the start of Part 2, looking at the probability of being vaccinated if you're hospitalized is meaningless, since if everyone is vaccinated, this probability will be 1. Instead, we care about **the probability of being hospitalized if you're vaccinated.** More than that, what we care most about is how this probability relates to **the probability of being hospitalized if you're unvaccinated**.\n",
    "\n",
    "To put it more concretely, let's say that 1 in 100 vaccinated people are hospitalized, while 10 in 100 unvaccinated people are hospitalized. This means that unvaccinated people are 10x more likely to be hospitalized than vaccinated people. To put it another way, if those 10 hospitalized unvaccinated people had been vaccinated, we'd expect that 9 of them would not have been hospitalized. That is, the vaccine would have prevented 90% of the hospitalizations, and we might therefore say that it is 90% effective against severe illness.\n",
    "\n",
    "This is the intuition behind the definition of **vaccine effectiveness** (see the CDC's [page](https://www.cdc.gov/csels/dsepd/ss1978/lesson3/section6.html) for more information). That is, to compute a vaccine's effectiveness, we need to know two things:\n",
    "\n",
    "1. The proportion of vaccinated people who developed severe illness (i.e., the probability that a vaccinated person will be hospitalized). Call this $p_V$.\n",
    "2. The proportion of unvaccinated people who developed severe illness (i.e., the probability that an unvaccinated person will be hospitalized). Call this $p_U$.\n",
    "\n",
    "Then:\n",
    "\n",
    "$$\n",
    "\\text{effectiveness} = 1 - \\frac{p_V}{p_U} = \\frac{p_U - p_V}{p_U}\n",
    "$$\n",
    "\n",
    "**What this formula calculates, in words, is the proportion of unvaccinated people with severe illness who we expect would not have severe illness if they were vaccinated.** For instance, if no one who is vaccinated becomes severely ill, then $p_V = 0$ and the effectiveness is 1 (100%). On the other hand, if the vaccine is no better than being unvaccinated, $p_V = p_U$ and the effectiveness is 0 (0%).\n",
    "\n",
    "\n",
    "Many news articles report effectiveness numbers, and this is certainly better than reporting the percentage of hospital patients that are vaccinated. Note, though, that there are different types of effectiveness – effectiveness against severe illness, effectiveness against symptomatic illness, effectiveness against death – and articles often are vague about which they are using. But even then, effectiveness can *still* be misleading due to statistical quirks, as we'll now see.\n",
    "\n",
    "\n",
    "<br>\n",
    "\n",
    "**Your job is to** complete the implementation of the function `effectiveness` that takes in a DataFrame like `vax` and returns the effectiveness of the vaccine against severe illness as a proportion between 0 and 1.\n",
    "\n",
    "\n",
    "For example, if `df` is the DataFrame below, then run `effectiveness(df)` should evaluate to 0.5.\n",
    "\n",
    "\n",
    "<table border=\"1\" class=\"dataframe\">  <thead>   <tr style=\"text-align: right;\">      <th></th>      <th>Age</th>      <th>Vaccinated</th>      <th>Severe Sickness</th>    </tr>  </thead>  <tbody>   <tr>      <th>0</th>      <td>15</td>      <td>True</td>      <td>True</td>    </tr>    <tr>      <th>1</th>      <td>20</td>      <td>True</td>      <td>False</td>    </tr>    <tr>      <th>2</th>      <td>25</td>      <td>True</td>      <td>False</td>    </tr>    <tr>     <th>3</th>     <td>30</td>      <td>False</td>      <td>False</td>    </tr>    <tr>      <th>4</th>      <td>35</td>      <td>False</td>      <td>True</td>    </tr>    <tr>      <th>5</th>      <td>40</td>      <td>False</td>      <td>True</td>    </tr>  </tbody></table>\n",
    "\n",
    "\n",
    "***Note:*** Assume that you will not run into any division-by-zero errors."
   ]
  },
  {
   "cell_type": "code",
   "execution_count": null,
   "metadata": {
    "tags": []
   },
   "outputs": [],
   "source": []
  },
  {
   "cell_type": "code",
   "execution_count": null,
   "metadata": {
    "tags": []
   },
   "outputs": [],
   "source": []
  },
  {
   "cell_type": "code",
   "execution_count": 46,
   "metadata": {},
   "outputs": [
    {
     "data": {
      "text/plain": [
       "0.6747820515830074"
      ]
     },
     "execution_count": 46,
     "metadata": {},
     "output_type": "execute_result"
    }
   ],
   "source": [
    "# run this to see the result, and don't change this cell -- it is used by the tests\n",
    "eff_overall = effectiveness(vax)\n",
    "eff_overall"
   ]
  },
  {
   "cell_type": "code",
   "execution_count": 47,
   "metadata": {
    "deletable": false,
    "editable": false
   },
   "outputs": [
    {
     "data": {
      "text/html": [
       "<p><strong><pre style='display: inline;'>q8</pre></strong> passed!</p>"
      ],
      "text/plain": [
       "q8 results: All test cases passed!"
      ]
     },
     "execution_count": 47,
     "metadata": {},
     "output_type": "execute_result"
    }
   ],
   "source": [
    "grader.check(\"q8\")"
   ]
  },
  {
   "cell_type": "markdown",
   "metadata": {},
   "source": [
    "If you implemented `effectiveness` correctly, you should see a vaccine effectiveness between 60% and 70%. This is OK, but not great! It means that the vaccine is only around 60-70% effective at preventing severe illness overall.\n",
    "\n",
    "But remember Simpson's paradox, which roughly says that sometimes a result that appears in aggregated data disappears when we look at disaggregated data. So let's disaggregate the data and perform the same calculation. That is, let's compute the effectiveness of the vaccine within each of several age groups. For convenience, here is a list of the age groups we'll consider:"
   ]
  },
  {
   "cell_type": "code",
   "execution_count": 48,
   "metadata": {},
   "outputs": [],
   "source": [
    "AGE_GROUPS = [\n",
    "    '12-15',\n",
    "    '16-19',\n",
    "    '20-29',\n",
    "    '30-39',\n",
    "    '40-49',\n",
    "    '50-59',\n",
    "    '60-69',\n",
    "    '70-79',\n",
    "    '80-89',\n",
    "    '90-'\n",
    "]"
   ]
  },
  {
   "cell_type": "markdown",
   "metadata": {},
   "source": [
    "Each string above lists an age group. For example, the age group `'12-15'` should contain anyone aged 12, 13, 14, or 15. The last age group, '90-', denotes everyone who is 90 or above. `vax` does not contain anyone younger than 12."
   ]
  },
  {
   "cell_type": "markdown",
   "metadata": {},
   "source": [
    "### Question 9\n",
    "\n",
    "([return to the outline](#outline))\n",
    "\n",
    "Complete the implementation of the function `stratified_effectiveness`, that takes in one argument – a DataFrame like `vax` – and returns the effectiveness of the vaccine within each of the age groups in `AGE_GROUPS`. The return value of the function should be a Series of the same length as `AGE_GROUPS`, with the index of the Series being age groups as strings.\n",
    "\n",
    "Don't use a `for`-loop!"
   ]
  },
  {
   "cell_type": "code",
   "execution_count": null,
   "metadata": {},
   "outputs": [],
   "source": [
    "# run this to see the result, and don't change this cell -- it is used by the tests\n",
    "s_eff = stratified_effectiveness(vax)\n",
    "s_eff"
   ]
  },
  {
   "cell_type": "code",
   "execution_count": null,
   "metadata": {
    "deletable": false,
    "editable": false
   },
   "outputs": [],
   "source": [
    "grader.check(\"q9\")"
   ]
  },
  {
   "cell_type": "markdown",
   "metadata": {},
   "source": [
    "If done correctly, you should notice that the effectiveness of the vaccine within each age group is higher than the overall effectiveness. In fact, the effectiveness of every age group is above 80%, and for most age groups it is above 90%.\n",
    "\n",
    "This is an instance of [Simpson's paradox](https://dsc80.com/resources/lectures/lec08/lec08.html#Simpson's-paradox). This result might seem strange, or even impossible – how can *every one* of the age groups see a higher effectiveness rate than the overall effectiveness rate? We'll take a deeper look at this in the next question, but for now let's consider a slightly different scenario where we can give dosages of a vaccine on a scale, so that some people can receive more vaccine than others. We expect that the higher a dosage someone receives, the less sick they become. But suppose we plot the data and we see something like this:\n",
    "\n",
    "<img src=\"./data/simpsons-aggregated.svg\">\n",
    "\n",
    "It actually looks like the more dosage someone receives, the more sick they get! But suppose we were to *disaggregate* the data into two age groups – old and young. That is, let's look at the same plot, but now mark young people as red and older people as purple. We might see this:\n",
    "\n",
    "<img src=\"./data/simpsons.svg\">\n",
    "\n",
    "Now we see a different story: the larger the dosage, the less the sickness within each age group. Therefore, while the overall trend is a *positive* relationship between dosage and sickness, the within-group trends are all negative, as we'd hope. **The reason for this difference comes from the fact that, for each dosage level, the sickness rate of older people is greater than the sickness rate for younger people.**\n",
    "\n",
    "If our data gives different answers depending on how we aggregate it, which answer should we use? In this case, we don't care about overall effectiveness – we care about how effective the vaccine will be for an *individual*. The data shows that, no matter what your age, unvaccinated people are ten times as likely to develop severe illness than vaccinated people, and it shows that the vaccine's effectiveness against severe illness is still quite strong."
   ]
  },
  {
   "cell_type": "markdown",
   "metadata": {},
   "source": [
    "The plots above may help to understand Simpson's paradox a little bit more, but it may still be unclear how each age group's effectiveness rate can be higher than the overall effectiveness rate. To explore this in more depth, **we'll build a calculator that takes in several arguments and calculates three effectivenesses: the overall (aggregate) effectiveness, the effectiveness among young people, and the effectiveness among old people.** For simplicity, we'll assume that there are just as many old people as young people.\n",
    "\n",
    "To calculate these effectivenesses, you need to know six numbers:\n",
    "\n",
    "1. The proportion of young people that are vaccinated.\n",
    "2. The proportion of old people that are vaccinated.\n",
    "3. The probability that a young vaccinated person will be hospitalized.\n",
    "4. The probability that a young *un*vaccinated person will be hospitalized.\n",
    "5. The probability that an old vaccinated person will be hospitalized.\n",
    "6. The probability that an old *un*vaccinated person will be hospitalized.\n",
    "\n",
    "Given these six pieces of information, you can calculate the overall effectiveness, the effectiveness in young people, and the effectiveness in old people.\n",
    "\n",
    "How, you may ask? Well, to find the effectiveness in young people, you can use the effectiveness definition from [Question 8](#Question-8) ($1 - \\frac{p_V}{p_U}$) directly since you are given the probability that a young vaccinated person will be hospitalized ($p_V$, for young people) and the probability that a young unvaccinated person will be hospitalized ($p_U$, for young people). The same applies for the effectiveness in old people.\n",
    "\n",
    "To find the overall effectiveness, you need to find the values of $p_V$ and $p_U$ in the overall population, given  the six arguments that `effectiveness_calculator` takes in. \n",
    "- One approach is to express all six arguments in terms of conditional probability notation and to use your knowledge of probability theory from DSC 40A. One idea to look at in particular is the law of total probability ([Wikipedia article](https://en.wikipedia.org/wiki/Law_of_total_probability), [slides from DSC 40A](https://dsc-courses.github.io/dsc40a-2021-fa/resources/lecture/lec14-filled.pdf)).\n",
    "- Another approach is to fix concrete numbers. \n",
    "    - For instance, assume that there are 1000 old people and 1000 young people (recall, we are operating under the assumption there are an equal number of old and young people, for simplicity).\n",
    "    - To calculate the probability that a vaccinated person is hospitalized, you need to know the _number_ of vaccinated people that are hospitalized in this hypothetical example. If you're told that 20% of young people are vaccinated and that 10% of young vaccinated people will be hospitalized, you know that $1000 \\cdot 0.2 \\cdot 0.1 = 20$ young vaccinated people will be hospitalized. \n",
    "    - If you're also told that 60% of old people are vaccinated and that 30% of old vaccinated people will be hospitalized, then you know that $1000 \\cdot 0.6 \\cdot 0.3 = 180$ old vaccinated people will be hospitalized.\n",
    "    - Using the above information, you know that there are $1000 \\cdot 0.2 + 1000 \\cdot 0.6 = 200 + 600 = 800$ vaccinated people total.\n",
    "    - Putting this all together, 200 of the 800 vaccinated people will be hospitalized, so the overall $p_V$ is $p_V = \\frac{200}{800} = 0.25$ in this example.\n",
    "    - You can do the same for unvaccinated people to find the overall $p_U$.\n",
    "    - Working with concrete numbers like this *is* using probability theory, just with extra steps. But it might be less abstract and easier to reason about."
   ]
  },
  {
   "cell_type": "markdown",
   "metadata": {},
   "source": [
    "### Question 10 (✅ Checkpoint Question)\n",
    "\n",
    "<a name='Question-10'></a>\n",
    "\n",
    "([return to the outline](#outline))\n",
    "\n",
    "Complete the implementation of the function `effectiveness_calculator`, that takes in 6 arguments:\n",
    "\n",
    "1. `young_vaccinated_prop`: The proportion of young people that are vaccinated.\n",
    "2. `old_vaccinated_prop`: The proportion of old people that are vaccinated.\n",
    "3. `young_risk_vaccinated`: The probability that a young vaccinated person will be hospitalized.\n",
    "4. `young_risk_unvaccinated`: The probability that a young *un*vaccinated person will be hospitalized.\n",
    "5. `old_risk_vaccinated`: The probability that an old vaccinated person will be hospitalized.\n",
    "6. `old_risk_unvaccinated`: The probability that an old *un*vaccinated person will be hospitalized.\n",
    "\n",
    "It should return a dictionary with three keys: `'Overall'`, `'Young'`, and `'Old'`, whose values are the overall effectiveness, the effectiveness within young people, and the effectiveness within old people, respectively. This will allow you to experiment with Simpson's paradox by plugging in different values and seeing what happens.\n",
    "\n",
    "***Note:*** All arguments to `effectiveness_calculator` are numbers between 0 and 1 (inclusive).\n",
    "\n",
    "***Hint:*** You are given two example inputs to `effectiveness_calculator` – one in the notebook below and one in the public test cases. Verify by hand that your code works correctly for **both** of them. "
   ]
  },
  {
   "cell_type": "code",
   "execution_count": null,
   "metadata": {
    "tags": []
   },
   "outputs": [],
   "source": []
  },
  {
   "cell_type": "code",
   "execution_count": null,
   "metadata": {
    "tags": []
   },
   "outputs": [],
   "source": []
  },
  {
   "cell_type": "code",
   "execution_count": 49,
   "metadata": {},
   "outputs": [
    {
     "data": {
      "text/plain": [
       "{'Young': 0.95, 'Old': 0.8, 'Overall': 0.5118226600985222}"
      ]
     },
     "execution_count": 49,
     "metadata": {},
     "output_type": "execute_result"
    }
   ],
   "source": [
    "# run this to see the result, and don't change this cell -- it is used by the tests\n",
    "eff_example = effectiveness_calculator(\n",
    "    young_vaccinated_prop=0.01,\n",
    "    old_vaccinated_prop=0.99,\n",
    "    young_risk_vaccinated=0.01,\n",
    "    young_risk_unvaccinated=0.20,\n",
    "    old_risk_vaccinated=0.10,\n",
    "    old_risk_unvaccinated=0.50\n",
    ")\n",
    "eff_example"
   ]
  },
  {
   "cell_type": "code",
   "execution_count": 50,
   "metadata": {
    "deletable": false,
    "editable": false
   },
   "outputs": [
    {
     "data": {
      "text/html": [
       "<p><strong><pre style='display: inline;'>q10</pre></strong> passed!</p>"
      ],
      "text/plain": [
       "q10 results: All test cases passed!"
      ]
     },
     "execution_count": 50,
     "metadata": {},
     "output_type": "execute_result"
    }
   ],
   "source": [
    "grader.check(\"q10\")"
   ]
  },
  {
   "cell_type": "markdown",
   "metadata": {},
   "source": [
    "It might be helpful to think about the results of your effectiveness calculator. In the example above, we have constructed an extreme situation where essentially all older people are vaccinated, but almost no younger people are. Therefore, when calculating the overall vaccine effectiveness, we're using the probability of illness given vaccination – which is essentially the probability of severe illness if you're old – and comparing it to the probability of severe illness if you're unvaccinated, which is essentially the probability of severe illness if you're young.\n",
    "\n",
    "In fact, it is possible to create an example where the overall effectiveness is negative (taking the vaccine is worse than not taking it!), but where the effectiveness within groups is above 80%. The next question asks you to do just this. \n",
    "\n",
    "To help you with your experimentation, we've created an animated version of your `effectiveness_calculator`, that allows you to test different arguments by dragging sliders. Run the next cell to use it.\n",
    "\n",
    "If you're curious, this sort of interactive tool is created using the `ipywidgets` package."
   ]
  },
  {
   "cell_type": "code",
   "execution_count": 51,
   "metadata": {},
   "outputs": [
    {
     "data": {
      "application/vnd.jupyter.widget-view+json": {
       "model_id": "ea02192e4c9c494b96da803907796f7a",
       "version_major": 2,
       "version_minor": 0
      },
      "text/plain": [
       "interactive(children=(FloatSlider(value=0.01, description='young_vaccinated_prop', max=0.99, min=0.01, step=0.…"
      ]
     },
     "metadata": {},
     "output_type": "display_data"
    }
   ],
   "source": [
    "# The sliders below are in the same order as the arguments below,\n",
    "# in case some of the slider labels are cut off.\n",
    "interact(effectiveness_calculator,\n",
    "                 young_vaccinated_prop=FloatSlider(min=0.01, max=0.99, step=0.01, value=0.01),\n",
    "                 old_vaccinated_prop=FloatSlider(min=0.01, max=0.99, step=0.01, value=0.99),\n",
    "                 young_risk_vaccinated=FloatSlider(min=0.01, max=0.99, step=0.01, value=0.01),\n",
    "                 young_risk_unvaccinated=FloatSlider(min=0.01, max=0.99, step=0.01, value=0.20),\n",
    "                 old_risk_vaccinated=FloatSlider(min=0.01, max=0.99, step=0.01, value=0.10),\n",
    "                 old_risk_unvaccinated=FloatSlider(min=0.01, max=0.99, step=0.01, value=0.50));"
   ]
  },
  {
   "cell_type": "markdown",
   "metadata": {},
   "source": [
    "### Question 11\n",
    "\n",
    "([return to the outline](#outline))\n",
    "\n",
    "Complete the implementation of the function `extreme_example`, which takes in no arguments and returns a dictionary whose keys are arguments to the function `effectiveness_calculator`. When your function is called and the dictionary is passed to `effectiveness_calculator`, it should return an `'Overall'` effectiveness that is negative and `'Young'` and `'Old'` effectivenesses that are both over 0.8.\n",
    "\n",
    "***Note:*** Use the animated calculator above to help you, but **make sure to think about what the numbers mean**. There are many possible correct answers!"
   ]
  },
  {
   "cell_type": "code",
   "execution_count": null,
   "metadata": {
    "tags": []
   },
   "outputs": [],
   "source": []
  },
  {
   "cell_type": "code",
   "execution_count": null,
   "metadata": {
    "tags": []
   },
   "outputs": [],
   "source": []
  },
  {
   "cell_type": "code",
   "execution_count": 53,
   "metadata": {},
   "outputs": [
    {
     "data": {
      "text/plain": [
       "{'Young': 0.95, 'Old': 0.8305084745762712, 'Overall': -0.11395101171459}"
      ]
     },
     "execution_count": 53,
     "metadata": {},
     "output_type": "execute_result"
    }
   ],
   "source": [
    "# run this to see the result, and don't change this cell -- it is used by the tests\n",
    "eff_extreme = effectiveness_calculator(**extreme_example())\n",
    "eff_extreme"
   ]
  },
  {
   "cell_type": "code",
   "execution_count": 54,
   "metadata": {
    "deletable": false,
    "editable": false
   },
   "outputs": [
    {
     "data": {
      "text/html": [
       "<p><strong><pre style='display: inline;'>q11</pre></strong> passed!</p>"
      ],
      "text/plain": [
       "q11 results: All test cases passed!"
      ]
     },
     "execution_count": 54,
     "metadata": {},
     "output_type": "execute_result"
    }
   ],
   "source": [
    "grader.check(\"q11\")"
   ]
  },
  {
   "cell_type": "markdown",
   "metadata": {},
   "source": [
    "## Congratulations, you've finished Project 2! 🎉\n",
    "\n",
    "As a reminder, all of the work you want to submit needs to be in `project.py` – this notebook should not be uploaded because there are no manually-graded questions in this project.\n",
    "\n",
    "To verify that all of your work is indeed in `project.py`, and that you didn't accidentally implement a function in this notebook and not in `project.py`, we've included another notebook in the project folder, called `project-validation.ipynb`. `project-validation.ipynb` is a version of this notebook with only the `grader.check` cells and the code needed to set up the tests. \n",
    "\n",
    "### **Go to `project-validation.ipynb`, and go to Kernel > Restart & Run All.** This will check if all `grader.check` test cases pass using just the code in `project.py`.\n",
    "\n",
    "Once you're able to pass all test cases in `project-validation.ipynb`, including the call to `grader.check_all()` at the very bottom, then you're ready to submit your `project.py` (and only your `project.py`) to Gradescope. Once submitting to Gradescope, make sure to stick around until all test cases pass.\n",
    "\n",
    "There is also a call to `grader.check_all()` below in _this_ notebook, but make sure to also follow the steps above."
   ]
  },
  {
   "cell_type": "markdown",
   "metadata": {
    "deletable": false,
    "editable": false
   },
   "source": [
    "---\n",
    "\n",
    "To double-check your work, the cell below will rerun all of the autograder tests."
   ]
  },
  {
   "cell_type": "code",
   "execution_count": null,
   "metadata": {
    "deletable": false,
    "editable": false
   },
   "outputs": [],
   "source": [
    "grader.check_all()"
   ]
  }
 ],
 "metadata": {
  "kernelspec": {
   "display_name": "Python 3 (ipykernel)",
   "language": "python",
   "name": "python3"
  },
  "language_info": {
   "codemirror_mode": {
    "name": "ipython",
    "version": 3
   },
   "file_extension": ".py",
   "mimetype": "text/x-python",
   "name": "python",
   "nbconvert_exporter": "python",
   "pygments_lexer": "ipython3",
   "version": "3.8.16"
  },
  "otter": {
   "tests": {
    "q1": {
     "name": "q1",
     "points": null,
     "suites": [
      {
       "cases": [
        {
         "code": ">>> count_monotonic(np.array([3, 6, 6, 2, 5, 8])) == 1\nTrue",
         "hidden": false,
         "locked": false,
         "points": 0.5
        },
        {
         "code": ">>> isinstance(mono, pd.DataFrame)\nTrue",
         "hidden": false,
         "locked": false,
         "points": 0.5
        },
        {
         "code": ">>> mono.shape == (194, 2) and set(mono.columns) == {'Doses_admin_monotonic', 'People_at_least_one_dose_monotonic'}\nTrue",
         "hidden": false,
         "locked": false,
         "points": 0.5
        },
        {
         "code": ">>> mono.sum().sum() > 0\nTrue",
         "hidden": false,
         "locked": false,
         "points": 0.5
        }
       ],
       "scored": true,
       "setup": "",
       "teardown": "",
       "type": "doctest"
      }
     ]
    },
    "q10": {
     "name": "q10",
     "points": null,
     "suites": [
      {
       "cases": [
        {
         "code": ">>> isinstance(eff_example, dict)\nTrue",
         "hidden": false,
         "locked": false,
         "points": 0.5
        },
        {
         "code": ">>> eff_example.keys() == {'Overall', 'Young', 'Old'}\nTrue",
         "hidden": false,
         "locked": false,
         "points": 0.5
        },
        {
         "code": ">>> test_eff = effectiveness_calculator(young_vaccinated_prop=0.5, old_vaccinated_prop=0.5, young_risk_vaccinated=0.01, young_risk_unvaccinated=0.20, old_risk_vaccinated=0.01, old_risk_unvaccinated=0.20)\n>>> test_eff['Overall'] == test_eff['Young'] == test_eff['Old'] == 0.95\nTrue",
         "hidden": false,
         "locked": false,
         "points": 2
        },
        {
         "code": ">>> \n",
         "hidden": false,
         "locked": false
        }
       ],
       "scored": true,
       "setup": "",
       "teardown": "",
       "type": "doctest"
      }
     ]
    },
    "q11": {
     "name": "q11",
     "points": null,
     "suites": [
      {
       "cases": [
        {
         "code": ">>> isinstance(eff_extreme, dict)\nTrue",
         "hidden": false,
         "locked": false,
         "points": 0.25
        },
        {
         "code": ">>> keys = {'old_risk_unvaccinated', 'young_risk_vaccinated', 'young_vaccinated_prop', 'old_risk_vaccinated', 'old_vaccinated_prop', 'young_risk_unvaccinated'}\n>>> extreme_example().keys() == keys\nTrue",
         "hidden": false,
         "locked": false,
         "points": 0.25
        },
        {
         "code": ">>> eff_extreme.keys() == {'Overall', 'Young', 'Old'}\nTrue",
         "hidden": false,
         "locked": false,
         "points": 0.25
        }
       ],
       "scored": true,
       "setup": "",
       "teardown": "",
       "type": "doctest"
      }
     ]
    },
    "q2": {
     "name": "q2",
     "points": null,
     "suites": [
      {
       "cases": [
        {
         "code": ">>> isinstance(tots, pd.DataFrame)\nTrue",
         "hidden": false,
         "locked": false,
         "points": 0.5
        },
        {
         "code": ">>> tots.shape == (194, 2)\nTrue",
         "hidden": false,
         "locked": false,
         "points": 0.5
        },
        {
         "code": ">>> len(set(tots.columns).difference({'Doses_admin', 'People_at_least_one_dose'}))==0\nTrue",
         "hidden": false,
         "locked": false,
         "points": 0.5
        },
        {
         "code": ">>> list(tots.dtypes) == [float]*2\nTrue",
         "hidden": false,
         "locked": false,
         "points": 0.5
        }
       ],
       "scored": true,
       "setup": "",
       "teardown": "",
       "type": "doctest"
      }
     ]
    },
    "q3": {
     "name": "q3",
     "points": null,
     "suites": [
      {
       "cases": [
        {
         "code": ">>> isinstance(pops, pd.DataFrame) and pops.shape == (205, 6)\nTrue",
         "hidden": false,
         "locked": false,
         "points": 0.25
        },
        {
         "code": ">>> # pops.loc[pops['Country (or dependency)'] == 'Japan', 'Population in 2023'].iloc[0] == 123294513\n>>> \n>>> len(set(pops.columns).difference({'Area (Km²)',\n...  'Country (or dependency)',\n...  'Density (P/Km²)',\n...  'ISO',\n...  'Population in 2023',\n...  'World Percentage'})) == 0\nTrue",
         "hidden": false,
         "locked": false,
         "points": 0.25
        }
       ],
       "scored": true,
       "setup": "",
       "teardown": "",
       "type": "doctest"
      }
     ]
    },
    "q4": {
     "name": "q4",
     "points": null,
     "suites": [
      {
       "cases": [
        {
         "code": ">>> isinstance(missing, set)\nTrue",
         "hidden": false,
         "locked": false,
         "points": 0.25
        },
        {
         "code": ">>> ex_tots = pd.DataFrame({\n...             'Doses_admin': [1, 2, 3],\n...             'People_partially_vaccinated': [1, 2, 3],\n...             'People_fully_vaccinated': [1, 2, 3]\n...         },\n...         index = ['China', 'Angola', 'Republic of Data Science']\n...     )\n>>> missing_in_pops(ex_tots, pops) == {'Republic of Data Science'}\nTrue",
         "hidden": false,
         "locked": false,
         "points": 0.25
        },
        {
         "code": ">>> isinstance(pops_fixed, pd.DataFrame)\nTrue",
         "hidden": false,
         "locked": false,
         "points": 0.25
        },
        {
         "code": ">>> pops_fixed.shape == (205, 6)\nTrue",
         "hidden": false,
         "locked": false,
         "points": 0.25
        },
        {
         "code": ">>> 'Burma' in pops_fixed['Country (or dependency)'].values\nTrue",
         "hidden": false,
         "locked": false,
         "points": 0.25
        },
        {
         "code": ">>> not 'Myanmar' in pops_fixed['Country (or dependency)'].values\nTrue",
         "hidden": false,
         "locked": false,
         "points": 0.25
        }
       ],
       "scored": true,
       "setup": "",
       "teardown": "",
       "type": "doctest"
      }
     ]
    },
    "q5": {
     "name": "q5",
     "points": null,
     "suites": [
      {
       "cases": [
        {
         "code": ">>> str(type(fig)) == \"<class 'plotly.graph_objs._figure.Figure'>\" and fig.data[0].type == 'choropleth'\nTrue",
         "hidden": false,
         "locked": false,
         "points": 0.25
        },
        {
         "code": ">>> 'Cameroon' in fig.data[0]['hovertext']\nTrue",
         "failure_message": "Ensuring that the `hover_name` argument is set correctly (make sure it's not set to the 'ISO' column, and make sure you didn't set the `hover_data` argument instead)",
         "hidden": false,
         "locked": false,
         "points": 0.25
        },
        {
         "code": ">>> fig.layout['coloraxis']['colorbar']['title']['text'] == 'Doses Per Person'\nTrue",
         "failure_message": "Ensures the legend is set correctly",
         "hidden": false,
         "locked": false,
         "points": 0.25
        },
        {
         "code": ">>> 'covid vaccine doses per person' in fig.layout['title']['text'].lower()\nTrue",
         "failure_message": "Ensures the title is set correctly",
         "hidden": false,
         "locked": false,
         "points": 0.25
        },
        {
         "code": ">>> colors = [c[1] for c in fig.layout['coloraxis']['colorscale']]\n>>> default_colorscale = ['#0d0887', '#46039f', '#7201a8', '#9c179e', '#bd3786', '#d8576b', '#ed7953', '#fb9f3a', '#fdca26', '#f0f921']\n>>> colors != default_colorscale\nTrue",
         "failure_message": "Ensuring changes were made to the colorscale",
         "hidden": false,
         "locked": false,
         "points": 0.25
        },
        {
         "code": ">>> plotted_data = pd.Series(fig.data[0]['z'], index=fig.data[0]['locations'])\n>>> np.isclose(plotted_data['USA'], 1.9496818625192982, atol=0.5)\nTrue",
         "failure_message": "Plotted the correct data for the USA. If this fails, and your plot looks right, make sure that you only set the `locations` argument, and not the `locationmode` argument.",
         "hidden": false,
         "locked": false,
         "points": 1
        }
       ],
       "scored": true,
       "setup": "",
       "teardown": "",
       "type": "doctest"
      }
     ]
    },
    "q6": {
     "name": "q6",
     "points": null,
     "suites": [
      {
       "cases": [
        {
         "code": ">>> isinstance(israel, pd.DataFrame)\nTrue",
         "hidden": false,
         "locked": false,
         "points": 0.5
        },
        {
         "code": ">>> israel.shape == (6937542, 3)\nTrue",
         "hidden": false,
         "locked": false,
         "points": 0.5
        }
       ],
       "scored": true,
       "setup": "",
       "teardown": "",
       "type": "doctest"
      }
     ]
    },
    "q7": {
     "name": "q7",
     "points": null,
     "suites": [
      {
       "cases": [
        {
         "code": ">>> isinstance(test_stats_vax, np.ndarray) and isinstance(test_stats_sick, np.ndarray)\nTrue",
         "hidden": false,
         "locked": false,
         "points": 0.25
        },
        {
         "code": ">>> len(test_stats_vax) == len(test_stats_sick) == 100\nTrue",
         "hidden": false,
         "locked": false,
         "points": 0.25
        },
        {
         "code": ">>> missingness_type() in {1, 2, 3, 4}\nTrue",
         "hidden": false,
         "locked": false,
         "points": 0.25
        }
       ],
       "scored": true,
       "setup": "",
       "teardown": "",
       "type": "doctest"
      }
     ]
    },
    "q8": {
     "name": "q8",
     "points": null,
     "suites": [
      {
       "cases": [
        {
         "code": ">>> isinstance(eff_overall, float)\nTrue",
         "hidden": false,
         "locked": false,
         "points": 0.5
        },
        {
         "code": ">>> 0 <= eff_overall <= 1\nTrue",
         "hidden": false,
         "locked": false,
         "points": 0.5
        },
        {
         "code": ">>> example_vax = pd.DataFrame({'Age': [15, 20, 25, 30, 35, 40], \n...                             'Vaccinated': [True, True, True, False, False, False], \n...                             'Severe Sickness': [True, False, False, False, True, True]})\n>>> effectiveness(example_vax) == 0.5\nTrue",
         "hidden": false,
         "locked": false,
         "points": 1
        }
       ],
       "scored": true,
       "setup": "",
       "teardown": "",
       "type": "doctest"
      }
     ]
    },
    "q9": {
     "name": "q9",
     "points": null,
     "suites": [
      {
       "cases": [
        {
         "code": ">>> isinstance(s_eff, pd.Series) \nTrue",
         "hidden": false,
         "locked": false,
         "points": 0.25
        },
        {
         "code": ">>> len(s_eff) == 10\nTrue",
         "hidden": false,
         "locked": false,
         "points": 0.25
        },
        {
         "code": ">>> israel_raw = pd.read_csv(os.path.join('data', 'israel-subset.csv'))\n>>> vax_subset = clean_israel_data(israel_raw).dropna()\n>>> stratified_effectiveness(vax_subset).index[0] == '12-15'\nTrue",
         "hidden": false,
         "locked": false,
         "points": 0.25
        },
        {
         "code": ">>> israel_raw = pd.read_csv(os.path.join('data', 'israel-subset.csv'))\n>>> vax_subset = clean_israel_data(israel_raw).dropna()\n>>> len(stratified_effectiveness(vax_subset)) == 10\nTrue",
         "hidden": false,
         "locked": false,
         "points": 0.25
        }
       ],
       "scored": true,
       "setup": "",
       "teardown": "",
       "type": "doctest"
      }
     ]
    }
   }
  }
 },
 "nbformat": 4,
 "nbformat_minor": 2
}
